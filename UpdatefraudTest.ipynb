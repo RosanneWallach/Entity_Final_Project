{
 "cells": [
  {
   "cell_type": "markdown",
   "id": "fc034b65-d4ed-43d7-a078-2bc72af4149b",
   "metadata": {},
   "source": [
    "#### Fraud Test"
   ]
  },
  {
   "cell_type": "markdown",
   "id": "11c4b9a5-0529-4c67-91eb-63c1fc06ed09",
   "metadata": {},
   "source": [
    "#### Import the extra packages so it is ready to use if necessary"
   ]
  },
  {
   "cell_type": "markdown",
   "id": "9264baca-49b6-4bba-bb0f-3e55f3dcf264",
   "metadata": {},
   "source": [
    "#### Import Packages"
   ]
  },
  {
   "cell_type": "code",
   "execution_count": 4,
   "id": "cd738a04-e14d-4e4b-82df-c15c399c78d9",
   "metadata": {},
   "outputs": [],
   "source": [
    "import pandas as pd\n",
    "#import numpy as np\n",
    "#import matplotlib.pyplot as plt\n",
    "#from pylab import *\n",
    "import seaborn as sns\n",
    "#%matplotlib inline\n",
    "#import  statsmodels.api as sm\n",
    "#import statsmodels.stats.api as sms\n",
    "#from scipy.stats import boxcox"
   ]
  },
  {
   "cell_type": "markdown",
   "id": "ceb418b7-da6d-42ea-8010-a13857f1379f",
   "metadata": {},
   "source": [
    "#### Import Data"
   ]
  },
  {
   "cell_type": "code",
   "execution_count": 5,
   "id": "999bf66f-4d4b-4685-9745-91561a51c033",
   "metadata": {},
   "outputs": [],
   "source": [
    "fraudTest = pd.read_csv('C:/Users/victu/Documents/Fraud_archive/fraudTest.csv')"
   ]
  },
  {
   "cell_type": "code",
   "execution_count": 6,
   "id": "db6fe29f-346b-43ec-bb91-27d7c9f9a850",
   "metadata": {},
   "outputs": [
    {
     "data": {
      "text/html": [
       "<div>\n",
       "<style scoped>\n",
       "    .dataframe tbody tr th:only-of-type {\n",
       "        vertical-align: middle;\n",
       "    }\n",
       "\n",
       "    .dataframe tbody tr th {\n",
       "        vertical-align: top;\n",
       "    }\n",
       "\n",
       "    .dataframe thead th {\n",
       "        text-align: right;\n",
       "    }\n",
       "</style>\n",
       "<table border=\"1\" class=\"dataframe\">\n",
       "  <thead>\n",
       "    <tr style=\"text-align: right;\">\n",
       "      <th></th>\n",
       "      <th>Unnamed: 0</th>\n",
       "      <th>trans_date_trans_time</th>\n",
       "      <th>cc_num</th>\n",
       "      <th>merchant</th>\n",
       "      <th>category</th>\n",
       "      <th>amt</th>\n",
       "      <th>first</th>\n",
       "      <th>last</th>\n",
       "      <th>gender</th>\n",
       "      <th>street</th>\n",
       "      <th>...</th>\n",
       "      <th>lat</th>\n",
       "      <th>long</th>\n",
       "      <th>city_pop</th>\n",
       "      <th>job</th>\n",
       "      <th>dob</th>\n",
       "      <th>trans_num</th>\n",
       "      <th>unix_time</th>\n",
       "      <th>merch_lat</th>\n",
       "      <th>merch_long</th>\n",
       "      <th>is_fraud</th>\n",
       "    </tr>\n",
       "  </thead>\n",
       "  <tbody>\n",
       "    <tr>\n",
       "      <th>0</th>\n",
       "      <td>0</td>\n",
       "      <td>6/21/2020 12:14</td>\n",
       "      <td>2.291160e+15</td>\n",
       "      <td>fraud_Kirlin and Sons</td>\n",
       "      <td>personal_care</td>\n",
       "      <td>2.86</td>\n",
       "      <td>Jeff</td>\n",
       "      <td>Elliott</td>\n",
       "      <td>M</td>\n",
       "      <td>351 Darlene Green</td>\n",
       "      <td>...</td>\n",
       "      <td>33.9659</td>\n",
       "      <td>-80.9355</td>\n",
       "      <td>333497</td>\n",
       "      <td>Mechanical engineer</td>\n",
       "      <td>3/19/1968</td>\n",
       "      <td>2da90c7d74bd46a0caf3777415b3ebd3</td>\n",
       "      <td>1371816865</td>\n",
       "      <td>33.986391</td>\n",
       "      <td>-81.200714</td>\n",
       "      <td>0</td>\n",
       "    </tr>\n",
       "    <tr>\n",
       "      <th>1</th>\n",
       "      <td>1</td>\n",
       "      <td>6/21/2020 12:14</td>\n",
       "      <td>3.573030e+15</td>\n",
       "      <td>fraud_Sporer-Keebler</td>\n",
       "      <td>personal_care</td>\n",
       "      <td>29.84</td>\n",
       "      <td>Joanne</td>\n",
       "      <td>Williams</td>\n",
       "      <td>F</td>\n",
       "      <td>3638 Marsh Union</td>\n",
       "      <td>...</td>\n",
       "      <td>40.3207</td>\n",
       "      <td>-110.4360</td>\n",
       "      <td>302</td>\n",
       "      <td>Sales professional, IT</td>\n",
       "      <td>1/17/1990</td>\n",
       "      <td>324cc204407e99f51b0d6ca0055005e7</td>\n",
       "      <td>1371816873</td>\n",
       "      <td>39.450498</td>\n",
       "      <td>-109.960431</td>\n",
       "      <td>0</td>\n",
       "    </tr>\n",
       "    <tr>\n",
       "      <th>2</th>\n",
       "      <td>2</td>\n",
       "      <td>6/21/2020 12:14</td>\n",
       "      <td>3.598220e+15</td>\n",
       "      <td>fraud_Swaniawski, Nitzsche and Welch</td>\n",
       "      <td>health_fitness</td>\n",
       "      <td>41.28</td>\n",
       "      <td>Ashley</td>\n",
       "      <td>Lopez</td>\n",
       "      <td>F</td>\n",
       "      <td>9333 Valentine Point</td>\n",
       "      <td>...</td>\n",
       "      <td>40.6729</td>\n",
       "      <td>-73.5365</td>\n",
       "      <td>34496</td>\n",
       "      <td>Librarian, public</td>\n",
       "      <td>10/21/1970</td>\n",
       "      <td>c81755dbbbea9d5c77f094348a7579be</td>\n",
       "      <td>1371816893</td>\n",
       "      <td>40.495810</td>\n",
       "      <td>-74.196111</td>\n",
       "      <td>0</td>\n",
       "    </tr>\n",
       "    <tr>\n",
       "      <th>3</th>\n",
       "      <td>3</td>\n",
       "      <td>6/21/2020 12:15</td>\n",
       "      <td>3.591920e+15</td>\n",
       "      <td>fraud_Haley Group</td>\n",
       "      <td>misc_pos</td>\n",
       "      <td>60.05</td>\n",
       "      <td>Brian</td>\n",
       "      <td>Williams</td>\n",
       "      <td>M</td>\n",
       "      <td>32941 Krystal Mill Apt. 552</td>\n",
       "      <td>...</td>\n",
       "      <td>28.5697</td>\n",
       "      <td>-80.8191</td>\n",
       "      <td>54767</td>\n",
       "      <td>Set designer</td>\n",
       "      <td>7/25/1987</td>\n",
       "      <td>2159175b9efe66dc301f149d3d5abf8c</td>\n",
       "      <td>1371816915</td>\n",
       "      <td>28.812398</td>\n",
       "      <td>-80.883061</td>\n",
       "      <td>0</td>\n",
       "    </tr>\n",
       "    <tr>\n",
       "      <th>4</th>\n",
       "      <td>4</td>\n",
       "      <td>6/21/2020 12:15</td>\n",
       "      <td>3.526830e+15</td>\n",
       "      <td>fraud_Johnston-Casper</td>\n",
       "      <td>travel</td>\n",
       "      <td>3.19</td>\n",
       "      <td>Nathan</td>\n",
       "      <td>Massey</td>\n",
       "      <td>M</td>\n",
       "      <td>5783 Evan Roads Apt. 465</td>\n",
       "      <td>...</td>\n",
       "      <td>44.2529</td>\n",
       "      <td>-85.0170</td>\n",
       "      <td>1126</td>\n",
       "      <td>Furniture designer</td>\n",
       "      <td>7/6/1955</td>\n",
       "      <td>57ff021bd3f328f8738bb535c302a31b</td>\n",
       "      <td>1371816917</td>\n",
       "      <td>44.959148</td>\n",
       "      <td>-85.884734</td>\n",
       "      <td>0</td>\n",
       "    </tr>\n",
       "  </tbody>\n",
       "</table>\n",
       "<p>5 rows × 23 columns</p>\n",
       "</div>"
      ],
      "text/plain": [
       "   Unnamed: 0 trans_date_trans_time        cc_num  \\\n",
       "0           0       6/21/2020 12:14  2.291160e+15   \n",
       "1           1       6/21/2020 12:14  3.573030e+15   \n",
       "2           2       6/21/2020 12:14  3.598220e+15   \n",
       "3           3       6/21/2020 12:15  3.591920e+15   \n",
       "4           4       6/21/2020 12:15  3.526830e+15   \n",
       "\n",
       "                               merchant        category    amt   first  \\\n",
       "0                 fraud_Kirlin and Sons   personal_care   2.86    Jeff   \n",
       "1                  fraud_Sporer-Keebler   personal_care  29.84  Joanne   \n",
       "2  fraud_Swaniawski, Nitzsche and Welch  health_fitness  41.28  Ashley   \n",
       "3                     fraud_Haley Group        misc_pos  60.05   Brian   \n",
       "4                 fraud_Johnston-Casper          travel   3.19  Nathan   \n",
       "\n",
       "       last gender                       street  ...      lat      long  \\\n",
       "0   Elliott      M            351 Darlene Green  ...  33.9659  -80.9355   \n",
       "1  Williams      F             3638 Marsh Union  ...  40.3207 -110.4360   \n",
       "2     Lopez      F         9333 Valentine Point  ...  40.6729  -73.5365   \n",
       "3  Williams      M  32941 Krystal Mill Apt. 552  ...  28.5697  -80.8191   \n",
       "4    Massey      M     5783 Evan Roads Apt. 465  ...  44.2529  -85.0170   \n",
       "\n",
       "   city_pop                     job         dob  \\\n",
       "0    333497     Mechanical engineer   3/19/1968   \n",
       "1       302  Sales professional, IT   1/17/1990   \n",
       "2     34496       Librarian, public  10/21/1970   \n",
       "3     54767            Set designer   7/25/1987   \n",
       "4      1126      Furniture designer    7/6/1955   \n",
       "\n",
       "                          trans_num   unix_time  merch_lat  merch_long  \\\n",
       "0  2da90c7d74bd46a0caf3777415b3ebd3  1371816865  33.986391  -81.200714   \n",
       "1  324cc204407e99f51b0d6ca0055005e7  1371816873  39.450498 -109.960431   \n",
       "2  c81755dbbbea9d5c77f094348a7579be  1371816893  40.495810  -74.196111   \n",
       "3  2159175b9efe66dc301f149d3d5abf8c  1371816915  28.812398  -80.883061   \n",
       "4  57ff021bd3f328f8738bb535c302a31b  1371816917  44.959148  -85.884734   \n",
       "\n",
       "   is_fraud  \n",
       "0         0  \n",
       "1         0  \n",
       "2         0  \n",
       "3         0  \n",
       "4         0  \n",
       "\n",
       "[5 rows x 23 columns]"
      ]
     },
     "execution_count": 6,
     "metadata": {},
     "output_type": "execute_result"
    }
   ],
   "source": [
    "fraudTest.head()"
   ]
  },
  {
   "cell_type": "markdown",
   "id": "8165a8ec-610b-4fa6-b9cd-4dda88b69856",
   "metadata": {},
   "source": [
    "#### Concat Last + First Name = FullName minimize colums"
   ]
  },
  {
   "cell_type": "code",
   "execution_count": 7,
   "id": "355bb18b-5526-438c-aee7-85f02af9aabb",
   "metadata": {},
   "outputs": [],
   "source": [
    "fraudTest['FullName'] = fraudTest[\"last\"] + \" \" + fraudTest[\"first\"].map(str)"
   ]
  },
  {
   "cell_type": "markdown",
   "id": "5a9d4345-8612-468a-a737-c854c5ef907b",
   "metadata": {},
   "source": [
    "#### Was interested in all the names of the victims"
   ]
  },
  {
   "cell_type": "code",
   "execution_count": 8,
   "id": "f6ae6ceb-170a-40a2-b4e1-a61f3261894b",
   "metadata": {},
   "outputs": [
    {
     "data": {
      "text/plain": [
       "0       Elliott Jeff\n",
       "1    Williams Joanne\n",
       "2       Lopez Ashley\n",
       "3     Williams Brian\n",
       "4      Massey Nathan\n",
       "Name: FullName, dtype: object"
      ]
     },
     "execution_count": 8,
     "metadata": {},
     "output_type": "execute_result"
    }
   ],
   "source": [
    "fraudTest['FullName'].head()"
   ]
  },
  {
   "cell_type": "markdown",
   "id": "fe4e5aa8-8c0b-4fc0-b9b1-f4ba42291b67",
   "metadata": {},
   "source": [
    "#### Idea that gender should be connected to the FullName, view information"
   ]
  },
  {
   "cell_type": "code",
   "execution_count": 10,
   "id": "00235901-d083-477d-a42e-fe564220ae75",
   "metadata": {},
   "outputs": [
    {
     "data": {
      "text/plain": [
       "F    304886\n",
       "M    250833\n",
       "Name: gender, dtype: int64"
      ]
     },
     "execution_count": 10,
     "metadata": {},
     "output_type": "execute_result"
    }
   ],
   "source": [
    "fraudTest.gender.value_counts()"
   ]
  },
  {
   "cell_type": "markdown",
   "id": "f89b63b7-c221-4486-93b9-3499ea787241",
   "metadata": {},
   "source": [
    "#### results of the histogram females experience fraud more"
   ]
  },
  {
   "cell_type": "code",
   "execution_count": 11,
   "id": "b3e450dd-b976-4e48-90ce-a4d54c254613",
   "metadata": {},
   "outputs": [
    {
     "data": {
      "text/plain": [
       "<AxesSubplot:>"
      ]
     },
     "execution_count": 11,
     "metadata": {},
     "output_type": "execute_result"
    },
    {
     "data": {
      "image/png": "[encoded data removed]",
      "text/plain": [
       "<Figure size 432x288 with 1 Axes>"
      ]
     },
     "metadata": {
      "needs_background": "light"
     },
     "output_type": "display_data"
    }
   ],
   "source": [
    "fraudTest.gender.hist()"
   ]
  },
  {
   "cell_type": "markdown",
   "id": "1ae58080-a41b-47bc-a5ef-6ba722cada4f",
   "metadata": {},
   "source": [
    "#### Also thought maybe generation information may add interesting results on fraud activity"
   ]
  },
  {
   "cell_type": "code",
   "execution_count": 12,
   "id": "004a8019-d130-49ca-a647-3ac1e75a8e53",
   "metadata": {},
   "outputs": [
    {
     "data": {
      "text/plain": [
       "3/23/1977     2408\n",
       "9/15/1988     1951\n",
       "8/29/1981     1935\n",
       "9/22/1997     1474\n",
       "7/5/1997      1466\n",
       "              ... \n",
       "12/23/1936       9\n",
       "11/8/1969        9\n",
       "5/30/1944        8\n",
       "5/9/1932         7\n",
       "8/2/1998         6\n",
       "Name: dob, Length: 910, dtype: int64"
      ]
     },
     "execution_count": 12,
     "metadata": {},
     "output_type": "execute_result"
    }
   ],
   "source": [
    "fraudTest.dob.value_counts()"
   ]
  },
  {
   "cell_type": "code",
   "execution_count": null,
   "id": "ccf1dabc-6746-4491-a6ed-be806e5a271d",
   "metadata": {},
   "outputs": [],
   "source": [
    "#### Which states are showing more fraud activity? And ones that show less?"
   ]
  },
  {
   "cell_type": "code",
   "execution_count": 13,
   "id": "5a162b20-b5e7-4590-9c3c-691c2b37288e",
   "metadata": {},
   "outputs": [
    {
     "data": {
      "text/plain": [
       "TX    40393\n",
       "NY    35918\n",
       "PA    34326\n",
       "CA    24135\n",
       "OH    20147\n",
       "MI    19671\n",
       "IL    18960\n",
       "FL    18104\n",
       "AL    17532\n",
       "MO    16501\n",
       "MN    13719\n",
       "AR    13484\n",
       "NC    12868\n",
       "SC    12541\n",
       "KY    12506\n",
       "VA    12506\n",
       "WI    12370\n",
       "IN    11959\n",
       "IA    11819\n",
       "OK    11379\n",
       "GA    11277\n",
       "MD    11152\n",
       "WV    10838\n",
       "NJ    10528\n",
       "NE    10257\n",
       "KS     9943\n",
       "LA     8988\n",
       "MS     8833\n",
       "WY     8454\n",
       "WA     8116\n",
       "OR     7811\n",
       "TN     7359\n",
       "NM     7020\n",
       "ME     6928\n",
       "ND     6397\n",
       "CO     5886\n",
       "SD     5250\n",
       "MA     5186\n",
       "MT     5052\n",
       "VT     5044\n",
       "UT     4658\n",
       "AZ     4592\n",
       "NH     3449\n",
       "CT     3277\n",
       "ID     2490\n",
       "NV     2451\n",
       "DC     1517\n",
       "HI     1090\n",
       "AK      843\n",
       "RI      195\n",
       "Name: state, dtype: int64"
      ]
     },
     "execution_count": 13,
     "metadata": {},
     "output_type": "execute_result"
    }
   ],
   "source": [
    "fraudTest.state.value_counts()"
   ]
  },
  {
   "cell_type": "markdown",
   "id": "202c0e76-c41d-4cbc-aa4f-91775787b734",
   "metadata": {},
   "source": [
    "#### The type of jobs may have some interesting results."
   ]
  },
  {
   "cell_type": "code",
   "execution_count": 14,
   "id": "5449e71a-4a78-4b70-8437-c1b16f49e63b",
   "metadata": {},
   "outputs": [
    {
     "data": {
      "text/plain": [
       "Film/video editor                4119\n",
       "Exhibition designer              3968\n",
       "Surveyor, land/geomatics         3756\n",
       "Naval architect                  3750\n",
       "Designer, ceramics/pottery       3463\n",
       "                                 ... \n",
       "Estate manager/land agent         195\n",
       "Engineer, civil (consulting)      194\n",
       "Operational investment banker      11\n",
       "Software engineer                  11\n",
       "Engineer, water                     8\n",
       "Name: job, Length: 478, dtype: int64"
      ]
     },
     "execution_count": 14,
     "metadata": {},
     "output_type": "execute_result"
    }
   ],
   "source": [
    "fraudTest.job.value_counts()"
   ]
  },
  {
   "cell_type": "markdown",
   "id": "921bcd99-cb2f-40dd-8153-ee1910304dd1",
   "metadata": {},
   "source": [
    "#### Type of service did fraud happening more frequently?"
   ]
  },
  {
   "cell_type": "code",
   "execution_count": 25,
   "id": "3712a34f-4062-4914-b883-08f8441c4b43",
   "metadata": {},
   "outputs": [
    {
     "data": {
      "text/plain": [
       "gas_transport     56370\n",
       "grocery_pos       52553\n",
       "home              52345\n",
       "shopping_pos      49791\n",
       "kids_pets         48692\n",
       "shopping_net      41779\n",
       "entertainment     40104\n",
       "personal_care     39327\n",
       "food_dining       39268\n",
       "health_fitness    36674\n",
       "misc_pos          34574\n",
       "misc_net          27367\n",
       "grocery_net       19426\n",
       "travel            17449\n",
       "Name: category, dtype: int64"
      ]
     },
     "execution_count": 25,
     "metadata": {},
     "output_type": "execute_result"
    }
   ],
   "source": [
    "fraudTest.category.value_counts()"
   ]
  },
  {
   "cell_type": "markdown",
   "id": "54961797-df1f-45ac-b77e-3f4b718ec078",
   "metadata": {},
   "source": [
    "#### Amount of money that was taken or stolen from merchant?"
   ]
  },
  {
   "cell_type": "code",
   "execution_count": 26,
   "id": "f4608af3-0f7e-46a8-9394-03b223578e44",
   "metadata": {},
   "outputs": [
    {
     "data": {
      "text/plain": [
       "1.10       239\n",
       "1.14       237\n",
       "1.08       229\n",
       "1.65       227\n",
       "1.03       227\n",
       "          ... \n",
       "279.11       1\n",
       "708.96       1\n",
       "233.43       1\n",
       "399.94       1\n",
       "1164.37      1\n",
       "Name: amt, Length: 37256, dtype: int64"
      ]
     },
     "execution_count": 26,
     "metadata": {},
     "output_type": "execute_result"
    }
   ],
   "source": [
    "fraudTest.amt.value_counts()"
   ]
  },
  {
   "cell_type": "markdown",
   "id": "c5468f72-ecb7-4fc3-8505-42b433c9e372",
   "metadata": {},
   "source": [
    "#### Identify the types of merchants?"
   ]
  },
  {
   "cell_type": "code",
   "execution_count": 30,
   "id": "c6430df0-db59-4c03-85e3-4a66654af49b",
   "metadata": {},
   "outputs": [
    {
     "data": {
      "text/plain": [
       "fraud_Kilback LLC                        1859\n",
       "fraud_Cormier LLC                        1597\n",
       "fraud_Schumm PLC                         1561\n",
       "fraud_Kuhn LLC                           1521\n",
       "fraud_Dickinson Ltd                      1519\n",
       "                                         ... \n",
       "fraud_Treutel-King                        323\n",
       "fraud_Satterfield-Lowe                    319\n",
       "fraud_Kessler Group                       318\n",
       "fraud_Jerde-Hermann                       312\n",
       "fraud_Ritchie, Bradtke and Stiedemann     304\n",
       "Name: merchant, Length: 693, dtype: int64"
      ]
     },
     "execution_count": 30,
     "metadata": {},
     "output_type": "execute_result"
    }
   ],
   "source": [
    "fraudTest.merchant.value_counts()"
   ]
  },
  {
   "cell_type": "code",
   "execution_count": 16,
   "id": "82a8023c-33a7-4791-9f08-3ac73407b999",
   "metadata": {},
   "outputs": [],
   "source": [
    "#### City population and the number of fraud activity?"
   ]
  },
  {
   "cell_type": "code",
   "execution_count": 31,
   "id": "3dcdcd56-90f3-4d5a-8121-c6bf1c29c385",
   "metadata": {},
   "outputs": [
    {
     "data": {
      "text/plain": [
       "606        2553\n",
       "1312922    2222\n",
       "1595797    2182\n",
       "241        2045\n",
       "1766       1982\n",
       "           ... \n",
       "14462        10\n",
       "837792        9\n",
       "20226         9\n",
       "6263          8\n",
       "1071          6\n",
       "Name: city_pop, Length: 835, dtype: int64"
      ]
     },
     "execution_count": 31,
     "metadata": {},
     "output_type": "execute_result"
    }
   ],
   "source": [
    "fraudTest.city_pop.value_counts()"
   ]
  },
  {
   "cell_type": "code",
   "execution_count": null,
   "id": "e2ac2f85-c519-4501-a1c1-7e35ba5c7c3a",
   "metadata": {},
   "outputs": [],
   "source": []
  }
 ],
 "metadata": {
  "kernelspec": {
   "display_name": "Python 3",
   "language": "python",
   "name": "python3"
  },
  "language_info": {
   "codemirror_mode": {
    "name": "ipython",
    "version": 3
   },
   "file_extension": ".py",
   "mimetype": "text/x-python",
   "name": "python",
   "nbconvert_exporter": "python",
   "pygments_lexer": "ipython3",
   "version": "3.10.2 (tags/v3.10.2:a58ebcc, Jan 17 2022, 14:12:15) [MSC v.1929 64 bit (AMD64)]"
  },
  "vscode": {
   "interpreter": {
    "hash": "369f2c481f4da34e4445cda3fffd2e751bd1c4d706f27375911949ba6bb62e1c"
   }
  }
 },
 "nbformat": 4,
 "nbformat_minor": 5
}
