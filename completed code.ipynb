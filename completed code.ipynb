{
 "cells": [
  {
   "cell_type": "code",
   "execution_count": 86,
   "id": "2427cb8f-76be-4bcc-b012-af553587c5ae",
   "metadata": {},
   "outputs": [],
   "source": [
    "import pandas as pd\n",
    "import numpy as np\n",
    "import matplotlib.pyplot as plt\n",
    "from pylab import *\n",
    "import seaborn as sns\n",
    "%matplotlib inline\n",
    "from sklearn.model_selection import train_test_split\n",
    "from sklearn.tree import DecisionTreeClassifier\n",
    "from sklearn.metrics import classification_report, confusion_matrix, accuracy_score\n",
    "from sklearn.ensemble import RandomForestClassifier\n",
    "import statistics\n",
    "import pandas as pd\n",
    "import numpy as np\n",
    "from scipy.stats import norm\n",
    "from scipy import stats\n",
    "import  statsmodels.api as sm\n",
    "import statsmodels.stats.api as sms\n",
    "from scipy.stats import boxcox\n",
    "import datetime\n",
    "from scipy.stats import chi2_contingency\n",
    "import scipy"
   ]
  },
  {
   "cell_type": "code",
   "execution_count": 2,
   "id": "2c256a33-ebed-4336-8726-94eefe29d914",
   "metadata": {},
   "outputs": [],
   "source": [
    "fraudTest = pd.read_csv('C:\\\\Users\\\\USER\\\\Desktop\\\\Final code\\\\fraudTest.csv')"
   ]
  },
  {
   "cell_type": "code",
   "execution_count": 3,
   "id": "b2e02845-ad4c-4d1a-9d9c-e62bfa223a4f",
   "metadata": {},
   "outputs": [],
   "source": [
    "fraudTrain = pd.read_csv('C:\\\\Users\\\\USER\\\\Desktop\\\\Final code\\\\fraudTrain.csv')"
   ]
  },
  {
   "cell_type": "code",
   "execution_count": 4,
   "id": "c636dc6b-2255-4bac-a880-c4aedcfe6a2c",
   "metadata": {},
   "outputs": [
    {
     "data": {
      "text/html": [
       "<div>\n",
       "<style scoped>\n",
       "    .dataframe tbody tr th:only-of-type {\n",
       "        vertical-align: middle;\n",
       "    }\n",
       "\n",
       "    .dataframe tbody tr th {\n",
       "        vertical-align: top;\n",
       "    }\n",
       "\n",
       "    .dataframe thead th {\n",
       "        text-align: right;\n",
       "    }\n",
       "</style>\n",
       "<table border=\"1\" class=\"dataframe\">\n",
       "  <thead>\n",
       "    <tr style=\"text-align: right;\">\n",
       "      <th></th>\n",
       "      <th>Unnamed: 0</th>\n",
       "      <th>trans_date_trans_time</th>\n",
       "      <th>cc_num</th>\n",
       "      <th>merchant</th>\n",
       "      <th>category</th>\n",
       "      <th>amt</th>\n",
       "      <th>first</th>\n",
       "      <th>last</th>\n",
       "      <th>gender</th>\n",
       "      <th>street</th>\n",
       "      <th>...</th>\n",
       "      <th>lat</th>\n",
       "      <th>long</th>\n",
       "      <th>city_pop</th>\n",
       "      <th>job</th>\n",
       "      <th>dob</th>\n",
       "      <th>trans_num</th>\n",
       "      <th>unix_time</th>\n",
       "      <th>merch_lat</th>\n",
       "      <th>merch_long</th>\n",
       "      <th>is_fraud</th>\n",
       "    </tr>\n",
       "  </thead>\n",
       "  <tbody>\n",
       "    <tr>\n",
       "      <th>0</th>\n",
       "      <td>0</td>\n",
       "      <td>2019-01-01 00:00:18</td>\n",
       "      <td>2703186189652095</td>\n",
       "      <td>fraud_Rippin, Kub and Mann</td>\n",
       "      <td>misc_net</td>\n",
       "      <td>4.97</td>\n",
       "      <td>Jennifer</td>\n",
       "      <td>Banks</td>\n",
       "      <td>F</td>\n",
       "      <td>561 Perry Cove</td>\n",
       "      <td>...</td>\n",
       "      <td>36.0788</td>\n",
       "      <td>-81.1781</td>\n",
       "      <td>3495</td>\n",
       "      <td>Psychologist, counselling</td>\n",
       "      <td>1988-03-09</td>\n",
       "      <td>0b242abb623afc578575680df30655b9</td>\n",
       "      <td>1325376018</td>\n",
       "      <td>36.011293</td>\n",
       "      <td>-82.048315</td>\n",
       "      <td>0</td>\n",
       "    </tr>\n",
       "    <tr>\n",
       "      <th>1</th>\n",
       "      <td>1</td>\n",
       "      <td>2019-01-01 00:00:44</td>\n",
       "      <td>630423337322</td>\n",
       "      <td>fraud_Heller, Gutmann and Zieme</td>\n",
       "      <td>grocery_pos</td>\n",
       "      <td>107.23</td>\n",
       "      <td>Stephanie</td>\n",
       "      <td>Gill</td>\n",
       "      <td>F</td>\n",
       "      <td>43039 Riley Greens Suite 393</td>\n",
       "      <td>...</td>\n",
       "      <td>48.8878</td>\n",
       "      <td>-118.2105</td>\n",
       "      <td>149</td>\n",
       "      <td>Special educational needs teacher</td>\n",
       "      <td>1978-06-21</td>\n",
       "      <td>1f76529f8574734946361c461b024d99</td>\n",
       "      <td>1325376044</td>\n",
       "      <td>49.159047</td>\n",
       "      <td>-118.186462</td>\n",
       "      <td>0</td>\n",
       "    </tr>\n",
       "    <tr>\n",
       "      <th>2</th>\n",
       "      <td>2</td>\n",
       "      <td>2019-01-01 00:00:51</td>\n",
       "      <td>38859492057661</td>\n",
       "      <td>fraud_Lind-Buckridge</td>\n",
       "      <td>entertainment</td>\n",
       "      <td>220.11</td>\n",
       "      <td>Edward</td>\n",
       "      <td>Sanchez</td>\n",
       "      <td>M</td>\n",
       "      <td>594 White Dale Suite 530</td>\n",
       "      <td>...</td>\n",
       "      <td>42.1808</td>\n",
       "      <td>-112.2620</td>\n",
       "      <td>4154</td>\n",
       "      <td>Nature conservation officer</td>\n",
       "      <td>1962-01-19</td>\n",
       "      <td>a1a22d70485983eac12b5b88dad1cf95</td>\n",
       "      <td>1325376051</td>\n",
       "      <td>43.150704</td>\n",
       "      <td>-112.154481</td>\n",
       "      <td>0</td>\n",
       "    </tr>\n",
       "    <tr>\n",
       "      <th>3</th>\n",
       "      <td>3</td>\n",
       "      <td>2019-01-01 00:01:16</td>\n",
       "      <td>3534093764340240</td>\n",
       "      <td>fraud_Kutch, Hermiston and Farrell</td>\n",
       "      <td>gas_transport</td>\n",
       "      <td>45.00</td>\n",
       "      <td>Jeremy</td>\n",
       "      <td>White</td>\n",
       "      <td>M</td>\n",
       "      <td>9443 Cynthia Court Apt. 038</td>\n",
       "      <td>...</td>\n",
       "      <td>46.2306</td>\n",
       "      <td>-112.1138</td>\n",
       "      <td>1939</td>\n",
       "      <td>Patent attorney</td>\n",
       "      <td>1967-01-12</td>\n",
       "      <td>6b849c168bdad6f867558c3793159a81</td>\n",
       "      <td>1325376076</td>\n",
       "      <td>47.034331</td>\n",
       "      <td>-112.561071</td>\n",
       "      <td>0</td>\n",
       "    </tr>\n",
       "    <tr>\n",
       "      <th>4</th>\n",
       "      <td>4</td>\n",
       "      <td>2019-01-01 00:03:06</td>\n",
       "      <td>375534208663984</td>\n",
       "      <td>fraud_Keeling-Crist</td>\n",
       "      <td>misc_pos</td>\n",
       "      <td>41.96</td>\n",
       "      <td>Tyler</td>\n",
       "      <td>Garcia</td>\n",
       "      <td>M</td>\n",
       "      <td>408 Bradley Rest</td>\n",
       "      <td>...</td>\n",
       "      <td>38.4207</td>\n",
       "      <td>-79.4629</td>\n",
       "      <td>99</td>\n",
       "      <td>Dance movement psychotherapist</td>\n",
       "      <td>1986-03-28</td>\n",
       "      <td>a41d7549acf90789359a9aa5346dcb46</td>\n",
       "      <td>1325376186</td>\n",
       "      <td>38.674999</td>\n",
       "      <td>-78.632459</td>\n",
       "      <td>0</td>\n",
       "    </tr>\n",
       "  </tbody>\n",
       "</table>\n",
       "<p>5 rows × 23 columns</p>\n",
       "</div>"
      ],
      "text/plain": [
       "   Unnamed: 0 trans_date_trans_time            cc_num  \\\n",
       "0           0   2019-01-01 00:00:18  2703186189652095   \n",
       "1           1   2019-01-01 00:00:44      630423337322   \n",
       "2           2   2019-01-01 00:00:51    38859492057661   \n",
       "3           3   2019-01-01 00:01:16  3534093764340240   \n",
       "4           4   2019-01-01 00:03:06   375534208663984   \n",
       "\n",
       "                             merchant       category     amt      first  \\\n",
       "0          fraud_Rippin, Kub and Mann       misc_net    4.97   Jennifer   \n",
       "1     fraud_Heller, Gutmann and Zieme    grocery_pos  107.23  Stephanie   \n",
       "2                fraud_Lind-Buckridge  entertainment  220.11     Edward   \n",
       "3  fraud_Kutch, Hermiston and Farrell  gas_transport   45.00     Jeremy   \n",
       "4                 fraud_Keeling-Crist       misc_pos   41.96      Tyler   \n",
       "\n",
       "      last gender                        street  ...      lat      long  \\\n",
       "0    Banks      F                561 Perry Cove  ...  36.0788  -81.1781   \n",
       "1     Gill      F  43039 Riley Greens Suite 393  ...  48.8878 -118.2105   \n",
       "2  Sanchez      M      594 White Dale Suite 530  ...  42.1808 -112.2620   \n",
       "3    White      M   9443 Cynthia Court Apt. 038  ...  46.2306 -112.1138   \n",
       "4   Garcia      M              408 Bradley Rest  ...  38.4207  -79.4629   \n",
       "\n",
       "   city_pop                                job         dob  \\\n",
       "0      3495          Psychologist, counselling  1988-03-09   \n",
       "1       149  Special educational needs teacher  1978-06-21   \n",
       "2      4154        Nature conservation officer  1962-01-19   \n",
       "3      1939                    Patent attorney  1967-01-12   \n",
       "4        99     Dance movement psychotherapist  1986-03-28   \n",
       "\n",
       "                          trans_num   unix_time  merch_lat  merch_long  \\\n",
       "0  0b242abb623afc578575680df30655b9  1325376018  36.011293  -82.048315   \n",
       "1  1f76529f8574734946361c461b024d99  1325376044  49.159047 -118.186462   \n",
       "2  a1a22d70485983eac12b5b88dad1cf95  1325376051  43.150704 -112.154481   \n",
       "3  6b849c168bdad6f867558c3793159a81  1325376076  47.034331 -112.561071   \n",
       "4  a41d7549acf90789359a9aa5346dcb46  1325376186  38.674999  -78.632459   \n",
       "\n",
       "   is_fraud  \n",
       "0         0  \n",
       "1         0  \n",
       "2         0  \n",
       "3         0  \n",
       "4         0  \n",
       "\n",
       "[5 rows x 23 columns]"
      ]
     },
     "execution_count": 4,
     "metadata": {},
     "output_type": "execute_result"
    }
   ],
   "source": [
    "fraudTrain.head()"
   ]
  },
  {
   "cell_type": "code",
   "execution_count": 5,
   "id": "1d3cedbc-5add-481c-9470-3b2f239cf96c",
   "metadata": {},
   "outputs": [],
   "source": [
    "fraudTest= fraudTest[:100]"
   ]
  },
  {
   "cell_type": "code",
   "execution_count": 6,
   "id": "505d7e8d-661c-4ae9-90ec-06530920d4ad",
   "metadata": {},
   "outputs": [
    {
     "name": "stdout",
     "output_type": "stream",
     "text": [
      "<class 'pandas.core.frame.DataFrame'>\n",
      "RangeIndex: 100 entries, 0 to 99\n",
      "Data columns (total 23 columns):\n",
      " #   Column                 Non-Null Count  Dtype  \n",
      "---  ------                 --------------  -----  \n",
      " 0   Unnamed: 0             100 non-null    int64  \n",
      " 1   trans_date_trans_time  100 non-null    object \n",
      " 2   cc_num                 100 non-null    int64  \n",
      " 3   merchant               100 non-null    object \n",
      " 4   category               100 non-null    object \n",
      " 5   amt                    100 non-null    float64\n",
      " 6   first                  100 non-null    object \n",
      " 7   last                   100 non-null    object \n",
      " 8   gender                 100 non-null    object \n",
      " 9   street                 100 non-null    object \n",
      " 10  city                   100 non-null    object \n",
      " 11  state                  100 non-null    object \n",
      " 12  zip                    100 non-null    int64  \n",
      " 13  lat                    100 non-null    float64\n",
      " 14  long                   100 non-null    float64\n",
      " 15  city_pop               100 non-null    int64  \n",
      " 16  job                    100 non-null    object \n",
      " 17  dob                    100 non-null    object \n",
      " 18  trans_num              100 non-null    object \n",
      " 19  unix_time              100 non-null    int64  \n",
      " 20  merch_lat              100 non-null    float64\n",
      " 21  merch_long             100 non-null    float64\n",
      " 22  is_fraud               100 non-null    int64  \n",
      "dtypes: float64(5), int64(6), object(12)\n",
      "memory usage: 18.1+ KB\n"
     ]
    }
   ],
   "source": [
    "fraudTest.dropna(inplace = True)\n",
    "fraudTest.info()"
   ]
  },
  {
   "cell_type": "code",
   "execution_count": 13,
   "id": "3a44af39-e42a-470c-b163-800144fbee1f",
   "metadata": {},
   "outputs": [],
   "source": [
    "fraudTest.drop(['cc_num', 'merchant', 'category', 'first', 'last', 'street', 'city', 'zip', 'lat', 'long', 'city_pop', 'trans_num', 'unix_time', 'merch_lat', 'merch_long', 'is_fraud'], axis = 1, inplace = True)"
   ]
  },
  {
   "cell_type": "code",
   "execution_count": 14,
   "id": "25278018-38e6-4af8-a7f7-5d03c788eac3",
   "metadata": {},
   "outputs": [
    {
     "data": {
      "text/html": [
       "<div>\n",
       "<style scoped>\n",
       "    .dataframe tbody tr th:only-of-type {\n",
       "        vertical-align: middle;\n",
       "    }\n",
       "\n",
       "    .dataframe tbody tr th {\n",
       "        vertical-align: top;\n",
       "    }\n",
       "\n",
       "    .dataframe thead th {\n",
       "        text-align: right;\n",
       "    }\n",
       "</style>\n",
       "<table border=\"1\" class=\"dataframe\">\n",
       "  <thead>\n",
       "    <tr style=\"text-align: right;\">\n",
       "      <th></th>\n",
       "      <th>Unnamed: 0</th>\n",
       "      <th>trans_date_trans_time</th>\n",
       "      <th>amt</th>\n",
       "      <th>gender</th>\n",
       "      <th>state</th>\n",
       "      <th>job</th>\n",
       "      <th>dob</th>\n",
       "      <th>year</th>\n",
       "      <th>month</th>\n",
       "      <th>day</th>\n",
       "    </tr>\n",
       "  </thead>\n",
       "  <tbody>\n",
       "    <tr>\n",
       "      <th>0</th>\n",
       "      <td>0</td>\n",
       "      <td>2020-06-21 12:14:25</td>\n",
       "      <td>2.86</td>\n",
       "      <td>M</td>\n",
       "      <td>SC</td>\n",
       "      <td>Mechanical engineer</td>\n",
       "      <td>1968-03-19</td>\n",
       "      <td>1968</td>\n",
       "      <td>03</td>\n",
       "      <td>19</td>\n",
       "    </tr>\n",
       "    <tr>\n",
       "      <th>1</th>\n",
       "      <td>1</td>\n",
       "      <td>2020-06-21 12:14:33</td>\n",
       "      <td>29.84</td>\n",
       "      <td>F</td>\n",
       "      <td>UT</td>\n",
       "      <td>Sales professional, IT</td>\n",
       "      <td>1990-01-17</td>\n",
       "      <td>1990</td>\n",
       "      <td>01</td>\n",
       "      <td>17</td>\n",
       "    </tr>\n",
       "    <tr>\n",
       "      <th>2</th>\n",
       "      <td>2</td>\n",
       "      <td>2020-06-21 12:14:53</td>\n",
       "      <td>41.28</td>\n",
       "      <td>F</td>\n",
       "      <td>NY</td>\n",
       "      <td>Librarian, public</td>\n",
       "      <td>1970-10-21</td>\n",
       "      <td>1970</td>\n",
       "      <td>10</td>\n",
       "      <td>21</td>\n",
       "    </tr>\n",
       "    <tr>\n",
       "      <th>3</th>\n",
       "      <td>3</td>\n",
       "      <td>2020-06-21 12:15:15</td>\n",
       "      <td>60.05</td>\n",
       "      <td>M</td>\n",
       "      <td>FL</td>\n",
       "      <td>Set designer</td>\n",
       "      <td>1987-07-25</td>\n",
       "      <td>1987</td>\n",
       "      <td>07</td>\n",
       "      <td>25</td>\n",
       "    </tr>\n",
       "    <tr>\n",
       "      <th>4</th>\n",
       "      <td>4</td>\n",
       "      <td>2020-06-21 12:15:17</td>\n",
       "      <td>3.19</td>\n",
       "      <td>M</td>\n",
       "      <td>MI</td>\n",
       "      <td>Furniture designer</td>\n",
       "      <td>1955-07-06</td>\n",
       "      <td>1955</td>\n",
       "      <td>07</td>\n",
       "      <td>06</td>\n",
       "    </tr>\n",
       "    <tr>\n",
       "      <th>...</th>\n",
       "      <td>...</td>\n",
       "      <td>...</td>\n",
       "      <td>...</td>\n",
       "      <td>...</td>\n",
       "      <td>...</td>\n",
       "      <td>...</td>\n",
       "      <td>...</td>\n",
       "      <td>...</td>\n",
       "      <td>...</td>\n",
       "      <td>...</td>\n",
       "    </tr>\n",
       "    <tr>\n",
       "      <th>95</th>\n",
       "      <td>95</td>\n",
       "      <td>2020-06-21 12:43:14</td>\n",
       "      <td>37.14</td>\n",
       "      <td>F</td>\n",
       "      <td>AR</td>\n",
       "      <td>Electrical engineer</td>\n",
       "      <td>1993-04-08</td>\n",
       "      <td>1993</td>\n",
       "      <td>04</td>\n",
       "      <td>08</td>\n",
       "    </tr>\n",
       "    <tr>\n",
       "      <th>96</th>\n",
       "      <td>96</td>\n",
       "      <td>2020-06-21 12:43:58</td>\n",
       "      <td>16.06</td>\n",
       "      <td>M</td>\n",
       "      <td>OH</td>\n",
       "      <td>Equities trader</td>\n",
       "      <td>1966-01-04</td>\n",
       "      <td>1966</td>\n",
       "      <td>01</td>\n",
       "      <td>04</td>\n",
       "    </tr>\n",
       "    <tr>\n",
       "      <th>97</th>\n",
       "      <td>97</td>\n",
       "      <td>2020-06-21 12:44:12</td>\n",
       "      <td>1.01</td>\n",
       "      <td>F</td>\n",
       "      <td>VA</td>\n",
       "      <td>Energy engineer</td>\n",
       "      <td>1985-09-02</td>\n",
       "      <td>1985</td>\n",
       "      <td>09</td>\n",
       "      <td>02</td>\n",
       "    </tr>\n",
       "    <tr>\n",
       "      <th>98</th>\n",
       "      <td>98</td>\n",
       "      <td>2020-06-21 12:44:29</td>\n",
       "      <td>6.98</td>\n",
       "      <td>M</td>\n",
       "      <td>MI</td>\n",
       "      <td>Police officer</td>\n",
       "      <td>1971-11-05</td>\n",
       "      <td>1971</td>\n",
       "      <td>11</td>\n",
       "      <td>05</td>\n",
       "    </tr>\n",
       "    <tr>\n",
       "      <th>99</th>\n",
       "      <td>99</td>\n",
       "      <td>2020-06-21 12:45:23</td>\n",
       "      <td>31.88</td>\n",
       "      <td>M</td>\n",
       "      <td>MD</td>\n",
       "      <td>Music tutor</td>\n",
       "      <td>1965-04-07</td>\n",
       "      <td>1965</td>\n",
       "      <td>04</td>\n",
       "      <td>07</td>\n",
       "    </tr>\n",
       "  </tbody>\n",
       "</table>\n",
       "<p>100 rows × 10 columns</p>\n",
       "</div>"
      ],
      "text/plain": [
       "    Unnamed: 0 trans_date_trans_time    amt gender state  \\\n",
       "0            0   2020-06-21 12:14:25   2.86      M    SC   \n",
       "1            1   2020-06-21 12:14:33  29.84      F    UT   \n",
       "2            2   2020-06-21 12:14:53  41.28      F    NY   \n",
       "3            3   2020-06-21 12:15:15  60.05      M    FL   \n",
       "4            4   2020-06-21 12:15:17   3.19      M    MI   \n",
       "..         ...                   ...    ...    ...   ...   \n",
       "95          95   2020-06-21 12:43:14  37.14      F    AR   \n",
       "96          96   2020-06-21 12:43:58  16.06      M    OH   \n",
       "97          97   2020-06-21 12:44:12   1.01      F    VA   \n",
       "98          98   2020-06-21 12:44:29   6.98      M    MI   \n",
       "99          99   2020-06-21 12:45:23  31.88      M    MD   \n",
       "\n",
       "                       job         dob  year month day  \n",
       "0      Mechanical engineer  1968-03-19  1968    03  19  \n",
       "1   Sales professional, IT  1990-01-17  1990    01  17  \n",
       "2        Librarian, public  1970-10-21  1970    10  21  \n",
       "3             Set designer  1987-07-25  1987    07  25  \n",
       "4       Furniture designer  1955-07-06  1955    07  06  \n",
       "..                     ...         ...   ...   ...  ..  \n",
       "95     Electrical engineer  1993-04-08  1993    04  08  \n",
       "96         Equities trader  1966-01-04  1966    01  04  \n",
       "97         Energy engineer  1985-09-02  1985    09  02  \n",
       "98          Police officer  1971-11-05  1971    11  05  \n",
       "99             Music tutor  1965-04-07  1965    04  07  \n",
       "\n",
       "[100 rows x 10 columns]"
      ]
     },
     "execution_count": 14,
     "metadata": {},
     "output_type": "execute_result"
    }
   ],
   "source": [
    "fraudTest"
   ]
  },
  {
   "cell_type": "code",
   "execution_count": 15,
   "id": "2388a3b9-1670-452a-b794-94296fd91899",
   "metadata": {},
   "outputs": [],
   "source": [
    "fraudTest.drop(['trans_date_trans_time'], axis = 1, inplace = True)"
   ]
  },
  {
   "cell_type": "code",
   "execution_count": 16,
   "id": "64d7ca27-15ee-4ef5-908d-8d4c6191cf04",
   "metadata": {},
   "outputs": [
    {
     "data": {
      "text/html": [
       "<div>\n",
       "<style scoped>\n",
       "    .dataframe tbody tr th:only-of-type {\n",
       "        vertical-align: middle;\n",
       "    }\n",
       "\n",
       "    .dataframe tbody tr th {\n",
       "        vertical-align: top;\n",
       "    }\n",
       "\n",
       "    .dataframe thead th {\n",
       "        text-align: right;\n",
       "    }\n",
       "</style>\n",
       "<table border=\"1\" class=\"dataframe\">\n",
       "  <thead>\n",
       "    <tr style=\"text-align: right;\">\n",
       "      <th></th>\n",
       "      <th>Unnamed: 0</th>\n",
       "      <th>amt</th>\n",
       "      <th>gender</th>\n",
       "      <th>state</th>\n",
       "      <th>job</th>\n",
       "      <th>dob</th>\n",
       "      <th>year</th>\n",
       "      <th>month</th>\n",
       "      <th>day</th>\n",
       "    </tr>\n",
       "  </thead>\n",
       "  <tbody>\n",
       "    <tr>\n",
       "      <th>0</th>\n",
       "      <td>0</td>\n",
       "      <td>2.86</td>\n",
       "      <td>M</td>\n",
       "      <td>SC</td>\n",
       "      <td>Mechanical engineer</td>\n",
       "      <td>1968-03-19</td>\n",
       "      <td>1968</td>\n",
       "      <td>03</td>\n",
       "      <td>19</td>\n",
       "    </tr>\n",
       "    <tr>\n",
       "      <th>1</th>\n",
       "      <td>1</td>\n",
       "      <td>29.84</td>\n",
       "      <td>F</td>\n",
       "      <td>UT</td>\n",
       "      <td>Sales professional, IT</td>\n",
       "      <td>1990-01-17</td>\n",
       "      <td>1990</td>\n",
       "      <td>01</td>\n",
       "      <td>17</td>\n",
       "    </tr>\n",
       "    <tr>\n",
       "      <th>2</th>\n",
       "      <td>2</td>\n",
       "      <td>41.28</td>\n",
       "      <td>F</td>\n",
       "      <td>NY</td>\n",
       "      <td>Librarian, public</td>\n",
       "      <td>1970-10-21</td>\n",
       "      <td>1970</td>\n",
       "      <td>10</td>\n",
       "      <td>21</td>\n",
       "    </tr>\n",
       "    <tr>\n",
       "      <th>3</th>\n",
       "      <td>3</td>\n",
       "      <td>60.05</td>\n",
       "      <td>M</td>\n",
       "      <td>FL</td>\n",
       "      <td>Set designer</td>\n",
       "      <td>1987-07-25</td>\n",
       "      <td>1987</td>\n",
       "      <td>07</td>\n",
       "      <td>25</td>\n",
       "    </tr>\n",
       "    <tr>\n",
       "      <th>4</th>\n",
       "      <td>4</td>\n",
       "      <td>3.19</td>\n",
       "      <td>M</td>\n",
       "      <td>MI</td>\n",
       "      <td>Furniture designer</td>\n",
       "      <td>1955-07-06</td>\n",
       "      <td>1955</td>\n",
       "      <td>07</td>\n",
       "      <td>06</td>\n",
       "    </tr>\n",
       "    <tr>\n",
       "      <th>...</th>\n",
       "      <td>...</td>\n",
       "      <td>...</td>\n",
       "      <td>...</td>\n",
       "      <td>...</td>\n",
       "      <td>...</td>\n",
       "      <td>...</td>\n",
       "      <td>...</td>\n",
       "      <td>...</td>\n",
       "      <td>...</td>\n",
       "    </tr>\n",
       "    <tr>\n",
       "      <th>95</th>\n",
       "      <td>95</td>\n",
       "      <td>37.14</td>\n",
       "      <td>F</td>\n",
       "      <td>AR</td>\n",
       "      <td>Electrical engineer</td>\n",
       "      <td>1993-04-08</td>\n",
       "      <td>1993</td>\n",
       "      <td>04</td>\n",
       "      <td>08</td>\n",
       "    </tr>\n",
       "    <tr>\n",
       "      <th>96</th>\n",
       "      <td>96</td>\n",
       "      <td>16.06</td>\n",
       "      <td>M</td>\n",
       "      <td>OH</td>\n",
       "      <td>Equities trader</td>\n",
       "      <td>1966-01-04</td>\n",
       "      <td>1966</td>\n",
       "      <td>01</td>\n",
       "      <td>04</td>\n",
       "    </tr>\n",
       "    <tr>\n",
       "      <th>97</th>\n",
       "      <td>97</td>\n",
       "      <td>1.01</td>\n",
       "      <td>F</td>\n",
       "      <td>VA</td>\n",
       "      <td>Energy engineer</td>\n",
       "      <td>1985-09-02</td>\n",
       "      <td>1985</td>\n",
       "      <td>09</td>\n",
       "      <td>02</td>\n",
       "    </tr>\n",
       "    <tr>\n",
       "      <th>98</th>\n",
       "      <td>98</td>\n",
       "      <td>6.98</td>\n",
       "      <td>M</td>\n",
       "      <td>MI</td>\n",
       "      <td>Police officer</td>\n",
       "      <td>1971-11-05</td>\n",
       "      <td>1971</td>\n",
       "      <td>11</td>\n",
       "      <td>05</td>\n",
       "    </tr>\n",
       "    <tr>\n",
       "      <th>99</th>\n",
       "      <td>99</td>\n",
       "      <td>31.88</td>\n",
       "      <td>M</td>\n",
       "      <td>MD</td>\n",
       "      <td>Music tutor</td>\n",
       "      <td>1965-04-07</td>\n",
       "      <td>1965</td>\n",
       "      <td>04</td>\n",
       "      <td>07</td>\n",
       "    </tr>\n",
       "  </tbody>\n",
       "</table>\n",
       "<p>100 rows × 9 columns</p>\n",
       "</div>"
      ],
      "text/plain": [
       "    Unnamed: 0    amt gender state                     job         dob  year  \\\n",
       "0            0   2.86      M    SC     Mechanical engineer  1968-03-19  1968   \n",
       "1            1  29.84      F    UT  Sales professional, IT  1990-01-17  1990   \n",
       "2            2  41.28      F    NY       Librarian, public  1970-10-21  1970   \n",
       "3            3  60.05      M    FL            Set designer  1987-07-25  1987   \n",
       "4            4   3.19      M    MI      Furniture designer  1955-07-06  1955   \n",
       "..         ...    ...    ...   ...                     ...         ...   ...   \n",
       "95          95  37.14      F    AR     Electrical engineer  1993-04-08  1993   \n",
       "96          96  16.06      M    OH         Equities trader  1966-01-04  1966   \n",
       "97          97   1.01      F    VA         Energy engineer  1985-09-02  1985   \n",
       "98          98   6.98      M    MI          Police officer  1971-11-05  1971   \n",
       "99          99  31.88      M    MD             Music tutor  1965-04-07  1965   \n",
       "\n",
       "   month day  \n",
       "0     03  19  \n",
       "1     01  17  \n",
       "2     10  21  \n",
       "3     07  25  \n",
       "4     07  06  \n",
       "..   ...  ..  \n",
       "95    04  08  \n",
       "96    01  04  \n",
       "97    09  02  \n",
       "98    11  05  \n",
       "99    04  07  \n",
       "\n",
       "[100 rows x 9 columns]"
      ]
     },
     "execution_count": 16,
     "metadata": {},
     "output_type": "execute_result"
    }
   ],
   "source": [
    "fraudTest"
   ]
  },
  {
   "cell_type": "code",
   "execution_count": 17,
   "id": "55d6214f-b884-44ee-aaf5-a07fe35c77b8",
   "metadata": {},
   "outputs": [],
   "source": [
    "def gender_recode (series):\n",
    "    if series == \"F\":\n",
    "        return 0\n",
    "    if series == \"M\":\n",
    "        return 1\n",
    "    \n",
    "fraudTest['genderR'] = fraudTest['gender'].apply(gender_recode) "
   ]
  },
  {
   "cell_type": "code",
   "execution_count": 18,
   "id": "88b5f2c7-b246-4cd4-8530-7e56937fc965",
   "metadata": {},
   "outputs": [
    {
     "data": {
      "text/html": [
       "<div>\n",
       "<style scoped>\n",
       "    .dataframe tbody tr th:only-of-type {\n",
       "        vertical-align: middle;\n",
       "    }\n",
       "\n",
       "    .dataframe tbody tr th {\n",
       "        vertical-align: top;\n",
       "    }\n",
       "\n",
       "    .dataframe thead th {\n",
       "        text-align: right;\n",
       "    }\n",
       "</style>\n",
       "<table border=\"1\" class=\"dataframe\">\n",
       "  <thead>\n",
       "    <tr style=\"text-align: right;\">\n",
       "      <th></th>\n",
       "      <th>Unnamed: 0</th>\n",
       "      <th>amt</th>\n",
       "      <th>gender</th>\n",
       "      <th>state</th>\n",
       "      <th>job</th>\n",
       "      <th>dob</th>\n",
       "      <th>year</th>\n",
       "      <th>month</th>\n",
       "      <th>day</th>\n",
       "      <th>genderR</th>\n",
       "    </tr>\n",
       "  </thead>\n",
       "  <tbody>\n",
       "    <tr>\n",
       "      <th>0</th>\n",
       "      <td>0</td>\n",
       "      <td>2.86</td>\n",
       "      <td>M</td>\n",
       "      <td>SC</td>\n",
       "      <td>Mechanical engineer</td>\n",
       "      <td>1968-03-19</td>\n",
       "      <td>1968</td>\n",
       "      <td>03</td>\n",
       "      <td>19</td>\n",
       "      <td>1</td>\n",
       "    </tr>\n",
       "    <tr>\n",
       "      <th>1</th>\n",
       "      <td>1</td>\n",
       "      <td>29.84</td>\n",
       "      <td>F</td>\n",
       "      <td>UT</td>\n",
       "      <td>Sales professional, IT</td>\n",
       "      <td>1990-01-17</td>\n",
       "      <td>1990</td>\n",
       "      <td>01</td>\n",
       "      <td>17</td>\n",
       "      <td>0</td>\n",
       "    </tr>\n",
       "    <tr>\n",
       "      <th>2</th>\n",
       "      <td>2</td>\n",
       "      <td>41.28</td>\n",
       "      <td>F</td>\n",
       "      <td>NY</td>\n",
       "      <td>Librarian, public</td>\n",
       "      <td>1970-10-21</td>\n",
       "      <td>1970</td>\n",
       "      <td>10</td>\n",
       "      <td>21</td>\n",
       "      <td>0</td>\n",
       "    </tr>\n",
       "    <tr>\n",
       "      <th>3</th>\n",
       "      <td>3</td>\n",
       "      <td>60.05</td>\n",
       "      <td>M</td>\n",
       "      <td>FL</td>\n",
       "      <td>Set designer</td>\n",
       "      <td>1987-07-25</td>\n",
       "      <td>1987</td>\n",
       "      <td>07</td>\n",
       "      <td>25</td>\n",
       "      <td>1</td>\n",
       "    </tr>\n",
       "    <tr>\n",
       "      <th>4</th>\n",
       "      <td>4</td>\n",
       "      <td>3.19</td>\n",
       "      <td>M</td>\n",
       "      <td>MI</td>\n",
       "      <td>Furniture designer</td>\n",
       "      <td>1955-07-06</td>\n",
       "      <td>1955</td>\n",
       "      <td>07</td>\n",
       "      <td>06</td>\n",
       "      <td>1</td>\n",
       "    </tr>\n",
       "    <tr>\n",
       "      <th>...</th>\n",
       "      <td>...</td>\n",
       "      <td>...</td>\n",
       "      <td>...</td>\n",
       "      <td>...</td>\n",
       "      <td>...</td>\n",
       "      <td>...</td>\n",
       "      <td>...</td>\n",
       "      <td>...</td>\n",
       "      <td>...</td>\n",
       "      <td>...</td>\n",
       "    </tr>\n",
       "    <tr>\n",
       "      <th>95</th>\n",
       "      <td>95</td>\n",
       "      <td>37.14</td>\n",
       "      <td>F</td>\n",
       "      <td>AR</td>\n",
       "      <td>Electrical engineer</td>\n",
       "      <td>1993-04-08</td>\n",
       "      <td>1993</td>\n",
       "      <td>04</td>\n",
       "      <td>08</td>\n",
       "      <td>0</td>\n",
       "    </tr>\n",
       "    <tr>\n",
       "      <th>96</th>\n",
       "      <td>96</td>\n",
       "      <td>16.06</td>\n",
       "      <td>M</td>\n",
       "      <td>OH</td>\n",
       "      <td>Equities trader</td>\n",
       "      <td>1966-01-04</td>\n",
       "      <td>1966</td>\n",
       "      <td>01</td>\n",
       "      <td>04</td>\n",
       "      <td>1</td>\n",
       "    </tr>\n",
       "    <tr>\n",
       "      <th>97</th>\n",
       "      <td>97</td>\n",
       "      <td>1.01</td>\n",
       "      <td>F</td>\n",
       "      <td>VA</td>\n",
       "      <td>Energy engineer</td>\n",
       "      <td>1985-09-02</td>\n",
       "      <td>1985</td>\n",
       "      <td>09</td>\n",
       "      <td>02</td>\n",
       "      <td>0</td>\n",
       "    </tr>\n",
       "    <tr>\n",
       "      <th>98</th>\n",
       "      <td>98</td>\n",
       "      <td>6.98</td>\n",
       "      <td>M</td>\n",
       "      <td>MI</td>\n",
       "      <td>Police officer</td>\n",
       "      <td>1971-11-05</td>\n",
       "      <td>1971</td>\n",
       "      <td>11</td>\n",
       "      <td>05</td>\n",
       "      <td>1</td>\n",
       "    </tr>\n",
       "    <tr>\n",
       "      <th>99</th>\n",
       "      <td>99</td>\n",
       "      <td>31.88</td>\n",
       "      <td>M</td>\n",
       "      <td>MD</td>\n",
       "      <td>Music tutor</td>\n",
       "      <td>1965-04-07</td>\n",
       "      <td>1965</td>\n",
       "      <td>04</td>\n",
       "      <td>07</td>\n",
       "      <td>1</td>\n",
       "    </tr>\n",
       "  </tbody>\n",
       "</table>\n",
       "<p>100 rows × 10 columns</p>\n",
       "</div>"
      ],
      "text/plain": [
       "    Unnamed: 0    amt gender state                     job         dob  year  \\\n",
       "0            0   2.86      M    SC     Mechanical engineer  1968-03-19  1968   \n",
       "1            1  29.84      F    UT  Sales professional, IT  1990-01-17  1990   \n",
       "2            2  41.28      F    NY       Librarian, public  1970-10-21  1970   \n",
       "3            3  60.05      M    FL            Set designer  1987-07-25  1987   \n",
       "4            4   3.19      M    MI      Furniture designer  1955-07-06  1955   \n",
       "..         ...    ...    ...   ...                     ...         ...   ...   \n",
       "95          95  37.14      F    AR     Electrical engineer  1993-04-08  1993   \n",
       "96          96  16.06      M    OH         Equities trader  1966-01-04  1966   \n",
       "97          97   1.01      F    VA         Energy engineer  1985-09-02  1985   \n",
       "98          98   6.98      M    MI          Police officer  1971-11-05  1971   \n",
       "99          99  31.88      M    MD             Music tutor  1965-04-07  1965   \n",
       "\n",
       "   month day  genderR  \n",
       "0     03  19        1  \n",
       "1     01  17        0  \n",
       "2     10  21        0  \n",
       "3     07  25        1  \n",
       "4     07  06        1  \n",
       "..   ...  ..      ...  \n",
       "95    04  08        0  \n",
       "96    01  04        1  \n",
       "97    09  02        0  \n",
       "98    11  05        1  \n",
       "99    04  07        1  \n",
       "\n",
       "[100 rows x 10 columns]"
      ]
     },
     "execution_count": 18,
     "metadata": {},
     "output_type": "execute_result"
    }
   ],
   "source": [
    "fraudTest"
   ]
  },
  {
   "cell_type": "code",
   "execution_count": 19,
   "id": "3811b6d4-3ba5-4bff-86cf-9757fcbe2389",
   "metadata": {},
   "outputs": [],
   "source": [
    "def state_recode (series):\n",
    "    if series == \"NY\":\n",
    "        return 0\n",
    "    if series == \"FL\":\n",
    "        return 1\n",
    "    if series == \"TX\":\n",
    "        return 2\n",
    "    if series == \"MI\":\n",
    "        return 3\n",
    "    if series == \"CA\":\n",
    "        return 4\n",
    "    if series == \"NJ\":\n",
    "        return 5\n",
    "    if series == \"WI\":\n",
    "        return 6\n",
    "    if series == \"AR\":\n",
    "        return 7\n",
    "    if series == \"AL\":\n",
    "        return 8\n",
    "    if series == \"MO\":\n",
    "        return 9\n",
    "    if series == \"OH\":\n",
    "        return 10\n",
    "    if series == \"MD\":\n",
    "        return 11\n",
    "    if series == \"KY\":\n",
    "        return 12\n",
    "    if series == \"WY\":\n",
    "        return 13\n",
    "    if series == \"PA\":\n",
    "        return 14\n",
    "    if series == \"WV\":\n",
    "        return 15\n",
    "    if series == \"MS\":\n",
    "        return 16\n",
    "    if series == \"IA\":\n",
    "        return 17\n",
    "    if series == \"SC\":\n",
    "        return 18\n",
    "    if series == \"SD\":\n",
    "        return 19\n",
    "    if series == \"LA\":\n",
    "        return 20\n",
    "    if series == \"VT\":\n",
    "        return 21\n",
    "    if series == \"UT\":\n",
    "        return 22\n",
    "    if series == \"MT\":\n",
    "        return 23\n",
    "    if series == \"NE\":\n",
    "        return 24\n",
    "    if series == \"MA\":\n",
    "        return 25\n",
    "    if series == \"NM\":\n",
    "        return 26\n",
    "    if series == \"WA\":\n",
    "        return 27\n",
    "    if series == \"OK\":\n",
    "        return 28\n",
    "    if series == \"MN\":\n",
    "        return 29\n",
    "    if series == \"AZ\":\n",
    "        return 30\n",
    "    if series == \"DC\":\n",
    "        return 31\n",
    "    if series == \"TN\":\n",
    "        return 32\n",
    "    if series == \"ME\":\n",
    "        return 33\n",
    "    if series == \"IL\":\n",
    "        return 34\n",
    "    if series == \"KS\":\n",
    "        return 35\n",
    "    if series == \"GA\":\n",
    "        return 36\n",
    "    if series == \"CO\":\n",
    "        return 37\n",
    "    if series == \"VA\":\n",
    "        return 38\n",
    "    \n",
    "fraudTest['stateR'] = fraudTest['state'].apply(state_recode) "
   ]
  },
  {
   "cell_type": "code",
   "execution_count": 20,
   "id": "c4d78b75-daa8-4332-9a73-3f604850b568",
   "metadata": {},
   "outputs": [
    {
     "data": {
      "text/html": [
       "<div>\n",
       "<style scoped>\n",
       "    .dataframe tbody tr th:only-of-type {\n",
       "        vertical-align: middle;\n",
       "    }\n",
       "\n",
       "    .dataframe tbody tr th {\n",
       "        vertical-align: top;\n",
       "    }\n",
       "\n",
       "    .dataframe thead th {\n",
       "        text-align: right;\n",
       "    }\n",
       "</style>\n",
       "<table border=\"1\" class=\"dataframe\">\n",
       "  <thead>\n",
       "    <tr style=\"text-align: right;\">\n",
       "      <th></th>\n",
       "      <th>Unnamed: 0</th>\n",
       "      <th>amt</th>\n",
       "      <th>gender</th>\n",
       "      <th>state</th>\n",
       "      <th>job</th>\n",
       "      <th>dob</th>\n",
       "      <th>year</th>\n",
       "      <th>month</th>\n",
       "      <th>day</th>\n",
       "      <th>genderR</th>\n",
       "      <th>stateR</th>\n",
       "    </tr>\n",
       "  </thead>\n",
       "  <tbody>\n",
       "    <tr>\n",
       "      <th>0</th>\n",
       "      <td>0</td>\n",
       "      <td>2.86</td>\n",
       "      <td>M</td>\n",
       "      <td>SC</td>\n",
       "      <td>Mechanical engineer</td>\n",
       "      <td>1968-03-19</td>\n",
       "      <td>1968</td>\n",
       "      <td>03</td>\n",
       "      <td>19</td>\n",
       "      <td>1</td>\n",
       "      <td>18</td>\n",
       "    </tr>\n",
       "    <tr>\n",
       "      <th>1</th>\n",
       "      <td>1</td>\n",
       "      <td>29.84</td>\n",
       "      <td>F</td>\n",
       "      <td>UT</td>\n",
       "      <td>Sales professional, IT</td>\n",
       "      <td>1990-01-17</td>\n",
       "      <td>1990</td>\n",
       "      <td>01</td>\n",
       "      <td>17</td>\n",
       "      <td>0</td>\n",
       "      <td>22</td>\n",
       "    </tr>\n",
       "    <tr>\n",
       "      <th>2</th>\n",
       "      <td>2</td>\n",
       "      <td>41.28</td>\n",
       "      <td>F</td>\n",
       "      <td>NY</td>\n",
       "      <td>Librarian, public</td>\n",
       "      <td>1970-10-21</td>\n",
       "      <td>1970</td>\n",
       "      <td>10</td>\n",
       "      <td>21</td>\n",
       "      <td>0</td>\n",
       "      <td>0</td>\n",
       "    </tr>\n",
       "    <tr>\n",
       "      <th>3</th>\n",
       "      <td>3</td>\n",
       "      <td>60.05</td>\n",
       "      <td>M</td>\n",
       "      <td>FL</td>\n",
       "      <td>Set designer</td>\n",
       "      <td>1987-07-25</td>\n",
       "      <td>1987</td>\n",
       "      <td>07</td>\n",
       "      <td>25</td>\n",
       "      <td>1</td>\n",
       "      <td>1</td>\n",
       "    </tr>\n",
       "    <tr>\n",
       "      <th>4</th>\n",
       "      <td>4</td>\n",
       "      <td>3.19</td>\n",
       "      <td>M</td>\n",
       "      <td>MI</td>\n",
       "      <td>Furniture designer</td>\n",
       "      <td>1955-07-06</td>\n",
       "      <td>1955</td>\n",
       "      <td>07</td>\n",
       "      <td>06</td>\n",
       "      <td>1</td>\n",
       "      <td>3</td>\n",
       "    </tr>\n",
       "    <tr>\n",
       "      <th>...</th>\n",
       "      <td>...</td>\n",
       "      <td>...</td>\n",
       "      <td>...</td>\n",
       "      <td>...</td>\n",
       "      <td>...</td>\n",
       "      <td>...</td>\n",
       "      <td>...</td>\n",
       "      <td>...</td>\n",
       "      <td>...</td>\n",
       "      <td>...</td>\n",
       "      <td>...</td>\n",
       "    </tr>\n",
       "    <tr>\n",
       "      <th>95</th>\n",
       "      <td>95</td>\n",
       "      <td>37.14</td>\n",
       "      <td>F</td>\n",
       "      <td>AR</td>\n",
       "      <td>Electrical engineer</td>\n",
       "      <td>1993-04-08</td>\n",
       "      <td>1993</td>\n",
       "      <td>04</td>\n",
       "      <td>08</td>\n",
       "      <td>0</td>\n",
       "      <td>7</td>\n",
       "    </tr>\n",
       "    <tr>\n",
       "      <th>96</th>\n",
       "      <td>96</td>\n",
       "      <td>16.06</td>\n",
       "      <td>M</td>\n",
       "      <td>OH</td>\n",
       "      <td>Equities trader</td>\n",
       "      <td>1966-01-04</td>\n",
       "      <td>1966</td>\n",
       "      <td>01</td>\n",
       "      <td>04</td>\n",
       "      <td>1</td>\n",
       "      <td>10</td>\n",
       "    </tr>\n",
       "    <tr>\n",
       "      <th>97</th>\n",
       "      <td>97</td>\n",
       "      <td>1.01</td>\n",
       "      <td>F</td>\n",
       "      <td>VA</td>\n",
       "      <td>Energy engineer</td>\n",
       "      <td>1985-09-02</td>\n",
       "      <td>1985</td>\n",
       "      <td>09</td>\n",
       "      <td>02</td>\n",
       "      <td>0</td>\n",
       "      <td>38</td>\n",
       "    </tr>\n",
       "    <tr>\n",
       "      <th>98</th>\n",
       "      <td>98</td>\n",
       "      <td>6.98</td>\n",
       "      <td>M</td>\n",
       "      <td>MI</td>\n",
       "      <td>Police officer</td>\n",
       "      <td>1971-11-05</td>\n",
       "      <td>1971</td>\n",
       "      <td>11</td>\n",
       "      <td>05</td>\n",
       "      <td>1</td>\n",
       "      <td>3</td>\n",
       "    </tr>\n",
       "    <tr>\n",
       "      <th>99</th>\n",
       "      <td>99</td>\n",
       "      <td>31.88</td>\n",
       "      <td>M</td>\n",
       "      <td>MD</td>\n",
       "      <td>Music tutor</td>\n",
       "      <td>1965-04-07</td>\n",
       "      <td>1965</td>\n",
       "      <td>04</td>\n",
       "      <td>07</td>\n",
       "      <td>1</td>\n",
       "      <td>11</td>\n",
       "    </tr>\n",
       "  </tbody>\n",
       "</table>\n",
       "<p>100 rows × 11 columns</p>\n",
       "</div>"
      ],
      "text/plain": [
       "    Unnamed: 0    amt gender state                     job         dob  year  \\\n",
       "0            0   2.86      M    SC     Mechanical engineer  1968-03-19  1968   \n",
       "1            1  29.84      F    UT  Sales professional, IT  1990-01-17  1990   \n",
       "2            2  41.28      F    NY       Librarian, public  1970-10-21  1970   \n",
       "3            3  60.05      M    FL            Set designer  1987-07-25  1987   \n",
       "4            4   3.19      M    MI      Furniture designer  1955-07-06  1955   \n",
       "..         ...    ...    ...   ...                     ...         ...   ...   \n",
       "95          95  37.14      F    AR     Electrical engineer  1993-04-08  1993   \n",
       "96          96  16.06      M    OH         Equities trader  1966-01-04  1966   \n",
       "97          97   1.01      F    VA         Energy engineer  1985-09-02  1985   \n",
       "98          98   6.98      M    MI          Police officer  1971-11-05  1971   \n",
       "99          99  31.88      M    MD             Music tutor  1965-04-07  1965   \n",
       "\n",
       "   month day  genderR  stateR  \n",
       "0     03  19        1      18  \n",
       "1     01  17        0      22  \n",
       "2     10  21        0       0  \n",
       "3     07  25        1       1  \n",
       "4     07  06        1       3  \n",
       "..   ...  ..      ...     ...  \n",
       "95    04  08        0       7  \n",
       "96    01  04        1      10  \n",
       "97    09  02        0      38  \n",
       "98    11  05        1       3  \n",
       "99    04  07        1      11  \n",
       "\n",
       "[100 rows x 11 columns]"
      ]
     },
     "execution_count": 20,
     "metadata": {},
     "output_type": "execute_result"
    }
   ],
   "source": [
    "fraudTest"
   ]
  },
  {
   "cell_type": "code",
   "execution_count": 21,
   "id": "a2b96e73-e60c-4918-bb5b-ace00fbb7522",
   "metadata": {},
   "outputs": [],
   "source": [
    "fraudTrain.drop(['cc_num', 'merchant', 'category', 'first', 'last', 'street', 'city', 'zip', 'lat', 'long', 'city_pop', 'trans_num', 'unix_time', 'merch_lat', 'merch_long', 'is_fraud'], axis = 1, inplace = True)"
   ]
  },
  {
   "cell_type": "code",
   "execution_count": 22,
   "id": "2695d6a8-5231-4b15-ab46-fa1d1b070ff7",
   "metadata": {},
   "outputs": [
    {
     "data": {
      "text/html": [
       "<div>\n",
       "<style scoped>\n",
       "    .dataframe tbody tr th:only-of-type {\n",
       "        vertical-align: middle;\n",
       "    }\n",
       "\n",
       "    .dataframe tbody tr th {\n",
       "        vertical-align: top;\n",
       "    }\n",
       "\n",
       "    .dataframe thead th {\n",
       "        text-align: right;\n",
       "    }\n",
       "</style>\n",
       "<table border=\"1\" class=\"dataframe\">\n",
       "  <thead>\n",
       "    <tr style=\"text-align: right;\">\n",
       "      <th></th>\n",
       "      <th>Unnamed: 0</th>\n",
       "      <th>trans_date_trans_time</th>\n",
       "      <th>amt</th>\n",
       "      <th>gender</th>\n",
       "      <th>state</th>\n",
       "      <th>job</th>\n",
       "      <th>dob</th>\n",
       "    </tr>\n",
       "  </thead>\n",
       "  <tbody>\n",
       "    <tr>\n",
       "      <th>0</th>\n",
       "      <td>0</td>\n",
       "      <td>2019-01-01 00:00:18</td>\n",
       "      <td>4.97</td>\n",
       "      <td>F</td>\n",
       "      <td>NC</td>\n",
       "      <td>Psychologist, counselling</td>\n",
       "      <td>1988-03-09</td>\n",
       "    </tr>\n",
       "    <tr>\n",
       "      <th>1</th>\n",
       "      <td>1</td>\n",
       "      <td>2019-01-01 00:00:44</td>\n",
       "      <td>107.23</td>\n",
       "      <td>F</td>\n",
       "      <td>WA</td>\n",
       "      <td>Special educational needs teacher</td>\n",
       "      <td>1978-06-21</td>\n",
       "    </tr>\n",
       "    <tr>\n",
       "      <th>2</th>\n",
       "      <td>2</td>\n",
       "      <td>2019-01-01 00:00:51</td>\n",
       "      <td>220.11</td>\n",
       "      <td>M</td>\n",
       "      <td>ID</td>\n",
       "      <td>Nature conservation officer</td>\n",
       "      <td>1962-01-19</td>\n",
       "    </tr>\n",
       "    <tr>\n",
       "      <th>3</th>\n",
       "      <td>3</td>\n",
       "      <td>2019-01-01 00:01:16</td>\n",
       "      <td>45.00</td>\n",
       "      <td>M</td>\n",
       "      <td>MT</td>\n",
       "      <td>Patent attorney</td>\n",
       "      <td>1967-01-12</td>\n",
       "    </tr>\n",
       "    <tr>\n",
       "      <th>4</th>\n",
       "      <td>4</td>\n",
       "      <td>2019-01-01 00:03:06</td>\n",
       "      <td>41.96</td>\n",
       "      <td>M</td>\n",
       "      <td>VA</td>\n",
       "      <td>Dance movement psychotherapist</td>\n",
       "      <td>1986-03-28</td>\n",
       "    </tr>\n",
       "    <tr>\n",
       "      <th>...</th>\n",
       "      <td>...</td>\n",
       "      <td>...</td>\n",
       "      <td>...</td>\n",
       "      <td>...</td>\n",
       "      <td>...</td>\n",
       "      <td>...</td>\n",
       "      <td>...</td>\n",
       "    </tr>\n",
       "    <tr>\n",
       "      <th>1296670</th>\n",
       "      <td>1296670</td>\n",
       "      <td>2020-06-21 12:12:08</td>\n",
       "      <td>15.56</td>\n",
       "      <td>M</td>\n",
       "      <td>UT</td>\n",
       "      <td>Geoscientist</td>\n",
       "      <td>1961-11-24</td>\n",
       "    </tr>\n",
       "    <tr>\n",
       "      <th>1296671</th>\n",
       "      <td>1296671</td>\n",
       "      <td>2020-06-21 12:12:19</td>\n",
       "      <td>51.70</td>\n",
       "      <td>M</td>\n",
       "      <td>MD</td>\n",
       "      <td>Production assistant, television</td>\n",
       "      <td>1979-12-11</td>\n",
       "    </tr>\n",
       "    <tr>\n",
       "      <th>1296672</th>\n",
       "      <td>1296672</td>\n",
       "      <td>2020-06-21 12:12:32</td>\n",
       "      <td>105.93</td>\n",
       "      <td>M</td>\n",
       "      <td>NM</td>\n",
       "      <td>Naval architect</td>\n",
       "      <td>1967-08-30</td>\n",
       "    </tr>\n",
       "    <tr>\n",
       "      <th>1296673</th>\n",
       "      <td>1296673</td>\n",
       "      <td>2020-06-21 12:13:36</td>\n",
       "      <td>74.90</td>\n",
       "      <td>M</td>\n",
       "      <td>SD</td>\n",
       "      <td>Volunteer coordinator</td>\n",
       "      <td>1980-08-18</td>\n",
       "    </tr>\n",
       "    <tr>\n",
       "      <th>1296674</th>\n",
       "      <td>1296674</td>\n",
       "      <td>2020-06-21 12:13:37</td>\n",
       "      <td>4.30</td>\n",
       "      <td>M</td>\n",
       "      <td>MT</td>\n",
       "      <td>Therapist, horticultural</td>\n",
       "      <td>1995-08-16</td>\n",
       "    </tr>\n",
       "  </tbody>\n",
       "</table>\n",
       "<p>1296675 rows × 7 columns</p>\n",
       "</div>"
      ],
      "text/plain": [
       "         Unnamed: 0 trans_date_trans_time     amt gender state  \\\n",
       "0                 0   2019-01-01 00:00:18    4.97      F    NC   \n",
       "1                 1   2019-01-01 00:00:44  107.23      F    WA   \n",
       "2                 2   2019-01-01 00:00:51  220.11      M    ID   \n",
       "3                 3   2019-01-01 00:01:16   45.00      M    MT   \n",
       "4                 4   2019-01-01 00:03:06   41.96      M    VA   \n",
       "...             ...                   ...     ...    ...   ...   \n",
       "1296670     1296670   2020-06-21 12:12:08   15.56      M    UT   \n",
       "1296671     1296671   2020-06-21 12:12:19   51.70      M    MD   \n",
       "1296672     1296672   2020-06-21 12:12:32  105.93      M    NM   \n",
       "1296673     1296673   2020-06-21 12:13:36   74.90      M    SD   \n",
       "1296674     1296674   2020-06-21 12:13:37    4.30      M    MT   \n",
       "\n",
       "                                       job         dob  \n",
       "0                Psychologist, counselling  1988-03-09  \n",
       "1        Special educational needs teacher  1978-06-21  \n",
       "2              Nature conservation officer  1962-01-19  \n",
       "3                          Patent attorney  1967-01-12  \n",
       "4           Dance movement psychotherapist  1986-03-28  \n",
       "...                                    ...         ...  \n",
       "1296670                       Geoscientist  1961-11-24  \n",
       "1296671   Production assistant, television  1979-12-11  \n",
       "1296672                    Naval architect  1967-08-30  \n",
       "1296673              Volunteer coordinator  1980-08-18  \n",
       "1296674           Therapist, horticultural  1995-08-16  \n",
       "\n",
       "[1296675 rows x 7 columns]"
      ]
     },
     "execution_count": 22,
     "metadata": {},
     "output_type": "execute_result"
    }
   ],
   "source": [
    "fraudTrain"
   ]
  },
  {
   "cell_type": "code",
   "execution_count": 23,
   "id": "60e76e45-6868-4907-b6b9-be916c8b05d1",
   "metadata": {},
   "outputs": [],
   "source": [
    "fraudTrain.drop(['trans_date_trans_time'], axis = 1, inplace = True)"
   ]
  },
  {
   "cell_type": "code",
   "execution_count": 24,
   "id": "102024e2-9233-4a26-8c09-32cefe5c156e",
   "metadata": {},
   "outputs": [],
   "source": [
    "def gender_recode (series):\n",
    "    if series == \"F\":\n",
    "        return 0\n",
    "    if series == \"M\":\n",
    "        return 1\n",
    "    \n",
    "fraudTrain['genderR'] = fraudTrain['gender'].apply(gender_recode) "
   ]
  },
  {
   "cell_type": "code",
   "execution_count": 25,
   "id": "1295cb32-e407-46d3-9f4d-aae3193e87d2",
   "metadata": {},
   "outputs": [
    {
     "data": {
      "text/html": [
       "<div>\n",
       "<style scoped>\n",
       "    .dataframe tbody tr th:only-of-type {\n",
       "        vertical-align: middle;\n",
       "    }\n",
       "\n",
       "    .dataframe tbody tr th {\n",
       "        vertical-align: top;\n",
       "    }\n",
       "\n",
       "    .dataframe thead th {\n",
       "        text-align: right;\n",
       "    }\n",
       "</style>\n",
       "<table border=\"1\" class=\"dataframe\">\n",
       "  <thead>\n",
       "    <tr style=\"text-align: right;\">\n",
       "      <th></th>\n",
       "      <th>Unnamed: 0</th>\n",
       "      <th>amt</th>\n",
       "      <th>gender</th>\n",
       "      <th>state</th>\n",
       "      <th>job</th>\n",
       "      <th>dob</th>\n",
       "      <th>genderR</th>\n",
       "    </tr>\n",
       "  </thead>\n",
       "  <tbody>\n",
       "    <tr>\n",
       "      <th>0</th>\n",
       "      <td>0</td>\n",
       "      <td>4.97</td>\n",
       "      <td>F</td>\n",
       "      <td>NC</td>\n",
       "      <td>Psychologist, counselling</td>\n",
       "      <td>1988-03-09</td>\n",
       "      <td>0</td>\n",
       "    </tr>\n",
       "    <tr>\n",
       "      <th>1</th>\n",
       "      <td>1</td>\n",
       "      <td>107.23</td>\n",
       "      <td>F</td>\n",
       "      <td>WA</td>\n",
       "      <td>Special educational needs teacher</td>\n",
       "      <td>1978-06-21</td>\n",
       "      <td>0</td>\n",
       "    </tr>\n",
       "    <tr>\n",
       "      <th>2</th>\n",
       "      <td>2</td>\n",
       "      <td>220.11</td>\n",
       "      <td>M</td>\n",
       "      <td>ID</td>\n",
       "      <td>Nature conservation officer</td>\n",
       "      <td>1962-01-19</td>\n",
       "      <td>1</td>\n",
       "    </tr>\n",
       "    <tr>\n",
       "      <th>3</th>\n",
       "      <td>3</td>\n",
       "      <td>45.00</td>\n",
       "      <td>M</td>\n",
       "      <td>MT</td>\n",
       "      <td>Patent attorney</td>\n",
       "      <td>1967-01-12</td>\n",
       "      <td>1</td>\n",
       "    </tr>\n",
       "    <tr>\n",
       "      <th>4</th>\n",
       "      <td>4</td>\n",
       "      <td>41.96</td>\n",
       "      <td>M</td>\n",
       "      <td>VA</td>\n",
       "      <td>Dance movement psychotherapist</td>\n",
       "      <td>1986-03-28</td>\n",
       "      <td>1</td>\n",
       "    </tr>\n",
       "    <tr>\n",
       "      <th>...</th>\n",
       "      <td>...</td>\n",
       "      <td>...</td>\n",
       "      <td>...</td>\n",
       "      <td>...</td>\n",
       "      <td>...</td>\n",
       "      <td>...</td>\n",
       "      <td>...</td>\n",
       "    </tr>\n",
       "    <tr>\n",
       "      <th>1296670</th>\n",
       "      <td>1296670</td>\n",
       "      <td>15.56</td>\n",
       "      <td>M</td>\n",
       "      <td>UT</td>\n",
       "      <td>Geoscientist</td>\n",
       "      <td>1961-11-24</td>\n",
       "      <td>1</td>\n",
       "    </tr>\n",
       "    <tr>\n",
       "      <th>1296671</th>\n",
       "      <td>1296671</td>\n",
       "      <td>51.70</td>\n",
       "      <td>M</td>\n",
       "      <td>MD</td>\n",
       "      <td>Production assistant, television</td>\n",
       "      <td>1979-12-11</td>\n",
       "      <td>1</td>\n",
       "    </tr>\n",
       "    <tr>\n",
       "      <th>1296672</th>\n",
       "      <td>1296672</td>\n",
       "      <td>105.93</td>\n",
       "      <td>M</td>\n",
       "      <td>NM</td>\n",
       "      <td>Naval architect</td>\n",
       "      <td>1967-08-30</td>\n",
       "      <td>1</td>\n",
       "    </tr>\n",
       "    <tr>\n",
       "      <th>1296673</th>\n",
       "      <td>1296673</td>\n",
       "      <td>74.90</td>\n",
       "      <td>M</td>\n",
       "      <td>SD</td>\n",
       "      <td>Volunteer coordinator</td>\n",
       "      <td>1980-08-18</td>\n",
       "      <td>1</td>\n",
       "    </tr>\n",
       "    <tr>\n",
       "      <th>1296674</th>\n",
       "      <td>1296674</td>\n",
       "      <td>4.30</td>\n",
       "      <td>M</td>\n",
       "      <td>MT</td>\n",
       "      <td>Therapist, horticultural</td>\n",
       "      <td>1995-08-16</td>\n",
       "      <td>1</td>\n",
       "    </tr>\n",
       "  </tbody>\n",
       "</table>\n",
       "<p>1296675 rows × 7 columns</p>\n",
       "</div>"
      ],
      "text/plain": [
       "         Unnamed: 0     amt gender state                                job  \\\n",
       "0                 0    4.97      F    NC          Psychologist, counselling   \n",
       "1                 1  107.23      F    WA  Special educational needs teacher   \n",
       "2                 2  220.11      M    ID        Nature conservation officer   \n",
       "3                 3   45.00      M    MT                    Patent attorney   \n",
       "4                 4   41.96      M    VA     Dance movement psychotherapist   \n",
       "...             ...     ...    ...   ...                                ...   \n",
       "1296670     1296670   15.56      M    UT                       Geoscientist   \n",
       "1296671     1296671   51.70      M    MD   Production assistant, television   \n",
       "1296672     1296672  105.93      M    NM                    Naval architect   \n",
       "1296673     1296673   74.90      M    SD              Volunteer coordinator   \n",
       "1296674     1296674    4.30      M    MT           Therapist, horticultural   \n",
       "\n",
       "                dob  genderR  \n",
       "0        1988-03-09        0  \n",
       "1        1978-06-21        0  \n",
       "2        1962-01-19        1  \n",
       "3        1967-01-12        1  \n",
       "4        1986-03-28        1  \n",
       "...             ...      ...  \n",
       "1296670  1961-11-24        1  \n",
       "1296671  1979-12-11        1  \n",
       "1296672  1967-08-30        1  \n",
       "1296673  1980-08-18        1  \n",
       "1296674  1995-08-16        1  \n",
       "\n",
       "[1296675 rows x 7 columns]"
      ]
     },
     "execution_count": 25,
     "metadata": {},
     "output_type": "execute_result"
    }
   ],
   "source": [
    "fraudTrain"
   ]
  },
  {
   "cell_type": "code",
   "execution_count": 28,
   "id": "8f5efe2b-28ac-44f6-bddc-92b6c029478d",
   "metadata": {},
   "outputs": [],
   "source": [
    "fraudTrain= fraudTrain[:100]"
   ]
  },
  {
   "cell_type": "code",
   "execution_count": 27,
   "id": "e4c7fd53-7146-4809-98c7-3f00a44058c0",
   "metadata": {},
   "outputs": [
    {
     "name": "stderr",
     "output_type": "stream",
     "text": [
      "C:\\Users\\USER\\AppData\\Local\\Temp\\ipykernel_9620\\2019197179.py:90: SettingWithCopyWarning: \n",
      "A value is trying to be set on a copy of a slice from a DataFrame.\n",
      "Try using .loc[row_indexer,col_indexer] = value instead\n",
      "\n",
      "See the caveats in the documentation: https://pandas.pydata.org/pandas-docs/stable/user_guide/indexing.html#returning-a-view-versus-a-copy\n",
      "  fraudTrain['stateR'] = fraudTrain['state'].apply(state_recode)\n"
     ]
    }
   ],
   "source": [
    "def state_recode (series):\n",
    "    if series == \"PA\":\n",
    "        return 0\n",
    "    if series == \"MI\":\n",
    "        return 1\n",
    "    if series == \"IA\":\n",
    "        return 2\n",
    "    if series == \"KS\":\n",
    "        return 3\n",
    "    if series == \"NJ\":\n",
    "        return 4\n",
    "    if series == \"NY\":\n",
    "        return 5\n",
    "    if series == \"TX\":\n",
    "        return 6\n",
    "    if series == \"VA\":\n",
    "        return 7\n",
    "    if series == \"FL\":\n",
    "        return 8\n",
    "    if series == \"UT\":\n",
    "        return 9\n",
    "    if series == \"CA\":\n",
    "        return 10\n",
    "    if series == \"AR\":\n",
    "        return 11\n",
    "    if series == \"MD\":\n",
    "        return 12\n",
    "    if series == \"IN\":\n",
    "        return 13\n",
    "    if series == \"MS\":\n",
    "        return 14\n",
    "    if series == \"WA\":\n",
    "        return 15\n",
    "    if series == \"KY\":\n",
    "        return 16\n",
    "    if series == \"OH\":\n",
    "        return 17\n",
    "    if series == \"OR\":\n",
    "        return 18\n",
    "    if series == \"NE\":\n",
    "        return 19\n",
    "    if series == \"NC\":\n",
    "        return 20\n",
    "    if series == \"WY\":\n",
    "        return 21\n",
    "    if series == \"WI\":\n",
    "        return 22\n",
    "    if series == \"MA\":\n",
    "        return 23\n",
    "    if series == \"OK\":\n",
    "        return 24\n",
    "    if series == \"TN\":\n",
    "        return 25\n",
    "    if series == \"MT\":\n",
    "        return 26\n",
    "    if series == \"GA\":\n",
    "        return 27\n",
    "    if series == \"AZ\":\n",
    "        return 28\n",
    "    if series == \"CO\":\n",
    "        return 29\n",
    "    if series == \"VT\":\n",
    "        return 30\n",
    "    if series == \"MO\":\n",
    "        return 31\n",
    "    if series == \"MN\":\n",
    "        return 32\n",
    "    if series == \"SC\":\n",
    "        return 33\n",
    "    if series == \"HI\":\n",
    "        return 34\n",
    "    if series == \"ME\":\n",
    "        return 35\n",
    "    if series == \"AL\":\n",
    "        return 36\n",
    "    if series == \"DC\":\n",
    "        return 37\n",
    "    if series == \"LA\":\n",
    "        return 38\n",
    "    if series == \"NM\":\n",
    "        return 39\n",
    "    if series == \"WV\":\n",
    "        return 40\n",
    "    if series == \"ID\":\n",
    "        return 41\n",
    "    if series == \"NV\":\n",
    "        return 42\n",
    "        \n",
    "    \n",
    "fraudTrain['stateR'] = fraudTrain['state'].apply(state_recode)   "
   ]
  },
  {
   "cell_type": "code",
   "execution_count": 29,
   "id": "c5dc2dbc-8ff3-4549-8501-af3551a85d62",
   "metadata": {},
   "outputs": [
    {
     "data": {
      "text/html": [
       "<div>\n",
       "<style scoped>\n",
       "    .dataframe tbody tr th:only-of-type {\n",
       "        vertical-align: middle;\n",
       "    }\n",
       "\n",
       "    .dataframe tbody tr th {\n",
       "        vertical-align: top;\n",
       "    }\n",
       "\n",
       "    .dataframe thead th {\n",
       "        text-align: right;\n",
       "    }\n",
       "</style>\n",
       "<table border=\"1\" class=\"dataframe\">\n",
       "  <thead>\n",
       "    <tr style=\"text-align: right;\">\n",
       "      <th></th>\n",
       "      <th>Unnamed: 0</th>\n",
       "      <th>amt</th>\n",
       "      <th>gender</th>\n",
       "      <th>state</th>\n",
       "      <th>job</th>\n",
       "      <th>dob</th>\n",
       "      <th>genderR</th>\n",
       "      <th>stateR</th>\n",
       "    </tr>\n",
       "  </thead>\n",
       "  <tbody>\n",
       "    <tr>\n",
       "      <th>0</th>\n",
       "      <td>0</td>\n",
       "      <td>4.97</td>\n",
       "      <td>F</td>\n",
       "      <td>NC</td>\n",
       "      <td>Psychologist, counselling</td>\n",
       "      <td>1988-03-09</td>\n",
       "      <td>0</td>\n",
       "      <td>20</td>\n",
       "    </tr>\n",
       "    <tr>\n",
       "      <th>1</th>\n",
       "      <td>1</td>\n",
       "      <td>107.23</td>\n",
       "      <td>F</td>\n",
       "      <td>WA</td>\n",
       "      <td>Special educational needs teacher</td>\n",
       "      <td>1978-06-21</td>\n",
       "      <td>0</td>\n",
       "      <td>15</td>\n",
       "    </tr>\n",
       "    <tr>\n",
       "      <th>2</th>\n",
       "      <td>2</td>\n",
       "      <td>220.11</td>\n",
       "      <td>M</td>\n",
       "      <td>ID</td>\n",
       "      <td>Nature conservation officer</td>\n",
       "      <td>1962-01-19</td>\n",
       "      <td>1</td>\n",
       "      <td>41</td>\n",
       "    </tr>\n",
       "    <tr>\n",
       "      <th>3</th>\n",
       "      <td>3</td>\n",
       "      <td>45.00</td>\n",
       "      <td>M</td>\n",
       "      <td>MT</td>\n",
       "      <td>Patent attorney</td>\n",
       "      <td>1967-01-12</td>\n",
       "      <td>1</td>\n",
       "      <td>26</td>\n",
       "    </tr>\n",
       "    <tr>\n",
       "      <th>4</th>\n",
       "      <td>4</td>\n",
       "      <td>41.96</td>\n",
       "      <td>M</td>\n",
       "      <td>VA</td>\n",
       "      <td>Dance movement psychotherapist</td>\n",
       "      <td>1986-03-28</td>\n",
       "      <td>1</td>\n",
       "      <td>7</td>\n",
       "    </tr>\n",
       "    <tr>\n",
       "      <th>...</th>\n",
       "      <td>...</td>\n",
       "      <td>...</td>\n",
       "      <td>...</td>\n",
       "      <td>...</td>\n",
       "      <td>...</td>\n",
       "      <td>...</td>\n",
       "      <td>...</td>\n",
       "      <td>...</td>\n",
       "    </tr>\n",
       "    <tr>\n",
       "      <th>95</th>\n",
       "      <td>95</td>\n",
       "      <td>3.35</td>\n",
       "      <td>F</td>\n",
       "      <td>IA</td>\n",
       "      <td>Engineering geologist</td>\n",
       "      <td>1971-08-20</td>\n",
       "      <td>0</td>\n",
       "      <td>2</td>\n",
       "    </tr>\n",
       "    <tr>\n",
       "      <th>96</th>\n",
       "      <td>96</td>\n",
       "      <td>50.61</td>\n",
       "      <td>M</td>\n",
       "      <td>IA</td>\n",
       "      <td>Agricultural consultant</td>\n",
       "      <td>1957-03-06</td>\n",
       "      <td>1</td>\n",
       "      <td>2</td>\n",
       "    </tr>\n",
       "    <tr>\n",
       "      <th>97</th>\n",
       "      <td>97</td>\n",
       "      <td>50.74</td>\n",
       "      <td>F</td>\n",
       "      <td>TX</td>\n",
       "      <td>Systems developer</td>\n",
       "      <td>1970-09-11</td>\n",
       "      <td>0</td>\n",
       "      <td>6</td>\n",
       "    </tr>\n",
       "    <tr>\n",
       "      <th>98</th>\n",
       "      <td>98</td>\n",
       "      <td>186.73</td>\n",
       "      <td>F</td>\n",
       "      <td>FL</td>\n",
       "      <td>Paramedic</td>\n",
       "      <td>1977-01-04</td>\n",
       "      <td>0</td>\n",
       "      <td>8</td>\n",
       "    </tr>\n",
       "    <tr>\n",
       "      <th>99</th>\n",
       "      <td>99</td>\n",
       "      <td>39.95</td>\n",
       "      <td>M</td>\n",
       "      <td>AR</td>\n",
       "      <td>Financial adviser</td>\n",
       "      <td>1986-06-11</td>\n",
       "      <td>1</td>\n",
       "      <td>11</td>\n",
       "    </tr>\n",
       "  </tbody>\n",
       "</table>\n",
       "<p>100 rows × 8 columns</p>\n",
       "</div>"
      ],
      "text/plain": [
       "    Unnamed: 0     amt gender state                                job  \\\n",
       "0            0    4.97      F    NC          Psychologist, counselling   \n",
       "1            1  107.23      F    WA  Special educational needs teacher   \n",
       "2            2  220.11      M    ID        Nature conservation officer   \n",
       "3            3   45.00      M    MT                    Patent attorney   \n",
       "4            4   41.96      M    VA     Dance movement psychotherapist   \n",
       "..         ...     ...    ...   ...                                ...   \n",
       "95          95    3.35      F    IA              Engineering geologist   \n",
       "96          96   50.61      M    IA            Agricultural consultant   \n",
       "97          97   50.74      F    TX                  Systems developer   \n",
       "98          98  186.73      F    FL                          Paramedic   \n",
       "99          99   39.95      M    AR                  Financial adviser   \n",
       "\n",
       "           dob  genderR  stateR  \n",
       "0   1988-03-09        0      20  \n",
       "1   1978-06-21        0      15  \n",
       "2   1962-01-19        1      41  \n",
       "3   1967-01-12        1      26  \n",
       "4   1986-03-28        1       7  \n",
       "..         ...      ...     ...  \n",
       "95  1971-08-20        0       2  \n",
       "96  1957-03-06        1       2  \n",
       "97  1970-09-11        0       6  \n",
       "98  1977-01-04        0       8  \n",
       "99  1986-06-11        1      11  \n",
       "\n",
       "[100 rows x 8 columns]"
      ]
     },
     "execution_count": 29,
     "metadata": {},
     "output_type": "execute_result"
    }
   ],
   "source": [
    "fraudTrain"
   ]
  },
  {
   "cell_type": "code",
   "execution_count": 30,
   "id": "bb64a2bc-11a5-42a3-a4dd-632a41327b1a",
   "metadata": {},
   "outputs": [
    {
     "data": {
      "text/html": [
       "<div>\n",
       "<style scoped>\n",
       "    .dataframe tbody tr th:only-of-type {\n",
       "        vertical-align: middle;\n",
       "    }\n",
       "\n",
       "    .dataframe tbody tr th {\n",
       "        vertical-align: top;\n",
       "    }\n",
       "\n",
       "    .dataframe thead th {\n",
       "        text-align: right;\n",
       "    }\n",
       "</style>\n",
       "<table border=\"1\" class=\"dataframe\">\n",
       "  <thead>\n",
       "    <tr style=\"text-align: right;\">\n",
       "      <th></th>\n",
       "      <th>Unnamed: 0</th>\n",
       "      <th>amt</th>\n",
       "      <th>gender</th>\n",
       "      <th>state</th>\n",
       "      <th>job</th>\n",
       "      <th>dob</th>\n",
       "      <th>year</th>\n",
       "      <th>month</th>\n",
       "      <th>day</th>\n",
       "      <th>genderR</th>\n",
       "      <th>stateR</th>\n",
       "    </tr>\n",
       "  </thead>\n",
       "  <tbody>\n",
       "    <tr>\n",
       "      <th>0</th>\n",
       "      <td>0</td>\n",
       "      <td>2.86</td>\n",
       "      <td>M</td>\n",
       "      <td>SC</td>\n",
       "      <td>Mechanical engineer</td>\n",
       "      <td>1968-03-19</td>\n",
       "      <td>1968</td>\n",
       "      <td>03</td>\n",
       "      <td>19</td>\n",
       "      <td>1</td>\n",
       "      <td>18</td>\n",
       "    </tr>\n",
       "    <tr>\n",
       "      <th>1</th>\n",
       "      <td>1</td>\n",
       "      <td>29.84</td>\n",
       "      <td>F</td>\n",
       "      <td>UT</td>\n",
       "      <td>Sales professional, IT</td>\n",
       "      <td>1990-01-17</td>\n",
       "      <td>1990</td>\n",
       "      <td>01</td>\n",
       "      <td>17</td>\n",
       "      <td>0</td>\n",
       "      <td>22</td>\n",
       "    </tr>\n",
       "    <tr>\n",
       "      <th>2</th>\n",
       "      <td>2</td>\n",
       "      <td>41.28</td>\n",
       "      <td>F</td>\n",
       "      <td>NY</td>\n",
       "      <td>Librarian, public</td>\n",
       "      <td>1970-10-21</td>\n",
       "      <td>1970</td>\n",
       "      <td>10</td>\n",
       "      <td>21</td>\n",
       "      <td>0</td>\n",
       "      <td>0</td>\n",
       "    </tr>\n",
       "    <tr>\n",
       "      <th>3</th>\n",
       "      <td>3</td>\n",
       "      <td>60.05</td>\n",
       "      <td>M</td>\n",
       "      <td>FL</td>\n",
       "      <td>Set designer</td>\n",
       "      <td>1987-07-25</td>\n",
       "      <td>1987</td>\n",
       "      <td>07</td>\n",
       "      <td>25</td>\n",
       "      <td>1</td>\n",
       "      <td>1</td>\n",
       "    </tr>\n",
       "    <tr>\n",
       "      <th>4</th>\n",
       "      <td>4</td>\n",
       "      <td>3.19</td>\n",
       "      <td>M</td>\n",
       "      <td>MI</td>\n",
       "      <td>Furniture designer</td>\n",
       "      <td>1955-07-06</td>\n",
       "      <td>1955</td>\n",
       "      <td>07</td>\n",
       "      <td>06</td>\n",
       "      <td>1</td>\n",
       "      <td>3</td>\n",
       "    </tr>\n",
       "    <tr>\n",
       "      <th>...</th>\n",
       "      <td>...</td>\n",
       "      <td>...</td>\n",
       "      <td>...</td>\n",
       "      <td>...</td>\n",
       "      <td>...</td>\n",
       "      <td>...</td>\n",
       "      <td>...</td>\n",
       "      <td>...</td>\n",
       "      <td>...</td>\n",
       "      <td>...</td>\n",
       "      <td>...</td>\n",
       "    </tr>\n",
       "    <tr>\n",
       "      <th>95</th>\n",
       "      <td>95</td>\n",
       "      <td>37.14</td>\n",
       "      <td>F</td>\n",
       "      <td>AR</td>\n",
       "      <td>Electrical engineer</td>\n",
       "      <td>1993-04-08</td>\n",
       "      <td>1993</td>\n",
       "      <td>04</td>\n",
       "      <td>08</td>\n",
       "      <td>0</td>\n",
       "      <td>7</td>\n",
       "    </tr>\n",
       "    <tr>\n",
       "      <th>96</th>\n",
       "      <td>96</td>\n",
       "      <td>16.06</td>\n",
       "      <td>M</td>\n",
       "      <td>OH</td>\n",
       "      <td>Equities trader</td>\n",
       "      <td>1966-01-04</td>\n",
       "      <td>1966</td>\n",
       "      <td>01</td>\n",
       "      <td>04</td>\n",
       "      <td>1</td>\n",
       "      <td>10</td>\n",
       "    </tr>\n",
       "    <tr>\n",
       "      <th>97</th>\n",
       "      <td>97</td>\n",
       "      <td>1.01</td>\n",
       "      <td>F</td>\n",
       "      <td>VA</td>\n",
       "      <td>Energy engineer</td>\n",
       "      <td>1985-09-02</td>\n",
       "      <td>1985</td>\n",
       "      <td>09</td>\n",
       "      <td>02</td>\n",
       "      <td>0</td>\n",
       "      <td>38</td>\n",
       "    </tr>\n",
       "    <tr>\n",
       "      <th>98</th>\n",
       "      <td>98</td>\n",
       "      <td>6.98</td>\n",
       "      <td>M</td>\n",
       "      <td>MI</td>\n",
       "      <td>Police officer</td>\n",
       "      <td>1971-11-05</td>\n",
       "      <td>1971</td>\n",
       "      <td>11</td>\n",
       "      <td>05</td>\n",
       "      <td>1</td>\n",
       "      <td>3</td>\n",
       "    </tr>\n",
       "    <tr>\n",
       "      <th>99</th>\n",
       "      <td>99</td>\n",
       "      <td>31.88</td>\n",
       "      <td>M</td>\n",
       "      <td>MD</td>\n",
       "      <td>Music tutor</td>\n",
       "      <td>1965-04-07</td>\n",
       "      <td>1965</td>\n",
       "      <td>04</td>\n",
       "      <td>07</td>\n",
       "      <td>1</td>\n",
       "      <td>11</td>\n",
       "    </tr>\n",
       "  </tbody>\n",
       "</table>\n",
       "<p>100 rows × 11 columns</p>\n",
       "</div>"
      ],
      "text/plain": [
       "    Unnamed: 0    amt gender state                     job         dob  year  \\\n",
       "0            0   2.86      M    SC     Mechanical engineer  1968-03-19  1968   \n",
       "1            1  29.84      F    UT  Sales professional, IT  1990-01-17  1990   \n",
       "2            2  41.28      F    NY       Librarian, public  1970-10-21  1970   \n",
       "3            3  60.05      M    FL            Set designer  1987-07-25  1987   \n",
       "4            4   3.19      M    MI      Furniture designer  1955-07-06  1955   \n",
       "..         ...    ...    ...   ...                     ...         ...   ...   \n",
       "95          95  37.14      F    AR     Electrical engineer  1993-04-08  1993   \n",
       "96          96  16.06      M    OH         Equities trader  1966-01-04  1966   \n",
       "97          97   1.01      F    VA         Energy engineer  1985-09-02  1985   \n",
       "98          98   6.98      M    MI          Police officer  1971-11-05  1971   \n",
       "99          99  31.88      M    MD             Music tutor  1965-04-07  1965   \n",
       "\n",
       "   month day  genderR  stateR  \n",
       "0     03  19        1      18  \n",
       "1     01  17        0      22  \n",
       "2     10  21        0       0  \n",
       "3     07  25        1       1  \n",
       "4     07  06        1       3  \n",
       "..   ...  ..      ...     ...  \n",
       "95    04  08        0       7  \n",
       "96    01  04        1      10  \n",
       "97    09  02        0      38  \n",
       "98    11  05        1       3  \n",
       "99    04  07        1      11  \n",
       "\n",
       "[100 rows x 11 columns]"
      ]
     },
     "execution_count": 30,
     "metadata": {},
     "output_type": "execute_result"
    }
   ],
   "source": [
    "fraudTest"
   ]
  },
  {
   "cell_type": "code",
   "execution_count": null,
   "id": "f14452b8-951f-476a-a55c-6619e462103f",
   "metadata": {},
   "outputs": [],
   "source": []
  },
  {
   "cell_type": "code",
   "execution_count": null,
   "id": "9b6fada3-b00b-4162-bc7c-4fce74f0f711",
   "metadata": {},
   "outputs": [],
   "source": []
  },
  {
   "cell_type": "code",
   "execution_count": null,
   "id": "693f51b8-975c-4bb2-a87a-cbd059ea9ac5",
   "metadata": {},
   "outputs": [],
   "source": []
  },
  {
   "cell_type": "code",
   "execution_count": null,
   "id": "51b1a32d-56db-46b0-bcf5-b528f903570c",
   "metadata": {},
   "outputs": [],
   "source": []
  },
  {
   "cell_type": "code",
   "execution_count": 31,
   "id": "3dfe1278-8a0b-4d61-a80f-4cc5f9f5c85a",
   "metadata": {},
   "outputs": [
    {
     "data": {
      "text/plain": [
       "1980-07-12    2\n",
       "1948-11-30    2\n",
       "1976-02-26    2\n",
       "1978-01-22    2\n",
       "1937-03-17    2\n",
       "             ..\n",
       "1974-07-19    1\n",
       "1930-02-28    1\n",
       "1957-12-29    1\n",
       "1968-10-06    1\n",
       "1965-04-07    1\n",
       "Name: dob, Length: 95, dtype: int64"
      ]
     },
     "execution_count": 31,
     "metadata": {},
     "output_type": "execute_result"
    }
   ],
   "source": [
    "fraudTest.dob.value_counts()"
   ]
  },
  {
   "cell_type": "code",
   "execution_count": 8,
   "id": "cb0be883-1bfe-49a4-9530-798c1a33045f",
   "metadata": {},
   "outputs": [],
   "source": [
    "# recoding age from DOB column for both datasets"
   ]
  },
  {
   "cell_type": "code",
   "execution_count": 9,
   "id": "c84a53ac-65bb-495a-92c0-5d5e8bf573ed",
   "metadata": {},
   "outputs": [],
   "source": [
    "#fraudTest"
   ]
  },
  {
   "cell_type": "code",
   "execution_count": 32,
   "id": "65f717a4-24ee-4375-abc0-6c54d4b174f3",
   "metadata": {},
   "outputs": [],
   "source": [
    "fraudTest[['year', 'month', 'day']] = fraudTest['dob'].str.split('-', expand=True)"
   ]
  },
  {
   "cell_type": "code",
   "execution_count": 33,
   "id": "8b41a519-4650-4c49-8721-f595278c1d4b",
   "metadata": {},
   "outputs": [
    {
     "data": {
      "text/html": [
       "<div>\n",
       "<style scoped>\n",
       "    .dataframe tbody tr th:only-of-type {\n",
       "        vertical-align: middle;\n",
       "    }\n",
       "\n",
       "    .dataframe tbody tr th {\n",
       "        vertical-align: top;\n",
       "    }\n",
       "\n",
       "    .dataframe thead th {\n",
       "        text-align: right;\n",
       "    }\n",
       "</style>\n",
       "<table border=\"1\" class=\"dataframe\">\n",
       "  <thead>\n",
       "    <tr style=\"text-align: right;\">\n",
       "      <th></th>\n",
       "      <th>Unnamed: 0</th>\n",
       "      <th>amt</th>\n",
       "      <th>gender</th>\n",
       "      <th>state</th>\n",
       "      <th>job</th>\n",
       "      <th>dob</th>\n",
       "      <th>year</th>\n",
       "      <th>month</th>\n",
       "      <th>day</th>\n",
       "      <th>genderR</th>\n",
       "      <th>stateR</th>\n",
       "    </tr>\n",
       "  </thead>\n",
       "  <tbody>\n",
       "    <tr>\n",
       "      <th>0</th>\n",
       "      <td>0</td>\n",
       "      <td>2.86</td>\n",
       "      <td>M</td>\n",
       "      <td>SC</td>\n",
       "      <td>Mechanical engineer</td>\n",
       "      <td>1968-03-19</td>\n",
       "      <td>1968</td>\n",
       "      <td>03</td>\n",
       "      <td>19</td>\n",
       "      <td>1</td>\n",
       "      <td>18</td>\n",
       "    </tr>\n",
       "    <tr>\n",
       "      <th>1</th>\n",
       "      <td>1</td>\n",
       "      <td>29.84</td>\n",
       "      <td>F</td>\n",
       "      <td>UT</td>\n",
       "      <td>Sales professional, IT</td>\n",
       "      <td>1990-01-17</td>\n",
       "      <td>1990</td>\n",
       "      <td>01</td>\n",
       "      <td>17</td>\n",
       "      <td>0</td>\n",
       "      <td>22</td>\n",
       "    </tr>\n",
       "    <tr>\n",
       "      <th>2</th>\n",
       "      <td>2</td>\n",
       "      <td>41.28</td>\n",
       "      <td>F</td>\n",
       "      <td>NY</td>\n",
       "      <td>Librarian, public</td>\n",
       "      <td>1970-10-21</td>\n",
       "      <td>1970</td>\n",
       "      <td>10</td>\n",
       "      <td>21</td>\n",
       "      <td>0</td>\n",
       "      <td>0</td>\n",
       "    </tr>\n",
       "    <tr>\n",
       "      <th>3</th>\n",
       "      <td>3</td>\n",
       "      <td>60.05</td>\n",
       "      <td>M</td>\n",
       "      <td>FL</td>\n",
       "      <td>Set designer</td>\n",
       "      <td>1987-07-25</td>\n",
       "      <td>1987</td>\n",
       "      <td>07</td>\n",
       "      <td>25</td>\n",
       "      <td>1</td>\n",
       "      <td>1</td>\n",
       "    </tr>\n",
       "    <tr>\n",
       "      <th>4</th>\n",
       "      <td>4</td>\n",
       "      <td>3.19</td>\n",
       "      <td>M</td>\n",
       "      <td>MI</td>\n",
       "      <td>Furniture designer</td>\n",
       "      <td>1955-07-06</td>\n",
       "      <td>1955</td>\n",
       "      <td>07</td>\n",
       "      <td>06</td>\n",
       "      <td>1</td>\n",
       "      <td>3</td>\n",
       "    </tr>\n",
       "  </tbody>\n",
       "</table>\n",
       "</div>"
      ],
      "text/plain": [
       "   Unnamed: 0    amt gender state                     job         dob  year  \\\n",
       "0           0   2.86      M    SC     Mechanical engineer  1968-03-19  1968   \n",
       "1           1  29.84      F    UT  Sales professional, IT  1990-01-17  1990   \n",
       "2           2  41.28      F    NY       Librarian, public  1970-10-21  1970   \n",
       "3           3  60.05      M    FL            Set designer  1987-07-25  1987   \n",
       "4           4   3.19      M    MI      Furniture designer  1955-07-06  1955   \n",
       "\n",
       "  month day  genderR  stateR  \n",
       "0    03  19        1      18  \n",
       "1    01  17        0      22  \n",
       "2    10  21        0       0  \n",
       "3    07  25        1       1  \n",
       "4    07  06        1       3  "
      ]
     },
     "execution_count": 33,
     "metadata": {},
     "output_type": "execute_result"
    }
   ],
   "source": [
    "fraudTest.head()"
   ]
  },
  {
   "cell_type": "code",
   "execution_count": 34,
   "id": "bee4b725-858d-4f8f-a099-644b6e851f20",
   "metadata": {},
   "outputs": [
    {
     "ename": "TypeError",
     "evalue": "unsupported operand type(s) for -: 'int' and 'str'",
     "output_type": "error",
     "traceback": [
      "\u001b[1;31m---------------------------------------------------------------------------\u001b[0m",
      "\u001b[1;31mTypeError\u001b[0m                                 Traceback (most recent call last)",
      "Input \u001b[1;32mIn [34]\u001b[0m, in \u001b[0;36m<cell line: 2>\u001b[1;34m()\u001b[0m\n\u001b[0;32m      1\u001b[0m age \u001b[38;5;241m=\u001b[39m []\n\u001b[0;32m      2\u001b[0m \u001b[38;5;28;01mfor\u001b[39;00m value \u001b[38;5;129;01min\u001b[39;00m fraudTest[\u001b[38;5;124m\"\u001b[39m\u001b[38;5;124myear\u001b[39m\u001b[38;5;124m\"\u001b[39m]:\n\u001b[1;32m----> 3\u001b[0m    fraudTest[\u001b[38;5;124m\"\u001b[39m\u001b[38;5;124mage\u001b[39m\u001b[38;5;124m\"\u001b[39m] \u001b[38;5;241m=\u001b[39m \u001b[38;5;241;43m2023\u001b[39;49m\u001b[43m \u001b[49m\u001b[38;5;241;43m-\u001b[39;49m\u001b[43m \u001b[49m\u001b[43mvalue\u001b[49m\n\u001b[0;32m      5\u001b[0m \u001b[38;5;28mprint\u001b[39m(fraudTest)\n",
      "\u001b[1;31mTypeError\u001b[0m: unsupported operand type(s) for -: 'int' and 'str'"
     ]
    }
   ],
   "source": [
    "age = []\n",
    "for value in fraudTest[\"year\"]:\n",
    "   fraudTest[\"age\"] = 2023 - value\n",
    "\n",
    "print(fraudTest)"
   ]
  },
  {
   "cell_type": "code",
   "execution_count": 35,
   "id": "04c9ff0b-1aa7-4e21-b5e8-aa61cd788cb2",
   "metadata": {},
   "outputs": [
    {
     "data": {
      "text/plain": [
       "pandas.core.series.Series"
      ]
     },
     "execution_count": 35,
     "metadata": {},
     "output_type": "execute_result"
    }
   ],
   "source": [
    "type(fraudTest[\"year\"])"
   ]
  },
  {
   "cell_type": "code",
   "execution_count": 36,
   "id": "f93e7882-7e76-472d-bcba-ec44aad048f0",
   "metadata": {},
   "outputs": [],
   "source": [
    "fraudTest[\"year\"] = fraudTest[\"year\"].astype(int)"
   ]
  },
  {
   "cell_type": "code",
   "execution_count": 37,
   "id": "b12fcb97-9afc-4c98-b641-2ea7b0c73047",
   "metadata": {},
   "outputs": [
    {
     "name": "stdout",
     "output_type": "stream",
     "text": [
      "<class 'pandas.core.frame.DataFrame'>\n",
      "RangeIndex: 100 entries, 0 to 99\n",
      "Data columns (total 11 columns):\n",
      " #   Column      Non-Null Count  Dtype  \n",
      "---  ------      --------------  -----  \n",
      " 0   Unnamed: 0  100 non-null    int64  \n",
      " 1   amt         100 non-null    float64\n",
      " 2   gender      100 non-null    object \n",
      " 3   state       100 non-null    object \n",
      " 4   job         100 non-null    object \n",
      " 5   dob         100 non-null    object \n",
      " 6   year        100 non-null    int32  \n",
      " 7   month       100 non-null    object \n",
      " 8   day         100 non-null    object \n",
      " 9   genderR     100 non-null    int64  \n",
      " 10  stateR      100 non-null    int64  \n",
      "dtypes: float64(1), int32(1), int64(3), object(6)\n",
      "memory usage: 8.3+ KB\n"
     ]
    }
   ],
   "source": [
    "fraudTest.info()"
   ]
  },
  {
   "cell_type": "code",
   "execution_count": 38,
   "id": "02a77cef-a00b-483a-9ca1-18173ec05c15",
   "metadata": {},
   "outputs": [],
   "source": [
    "def source (series):\n",
    "    if series == 2023:\n",
    "        return 0\n",
    "    else: return 2023-series\n",
    "\n",
    "fraudTest['age'] = fraudTest[\"year\"].apply(source)"
   ]
  },
  {
   "cell_type": "code",
   "execution_count": 39,
   "id": "47ed9643-1d36-4341-b1b1-af42ddc664ef",
   "metadata": {},
   "outputs": [
    {
     "data": {
      "text/html": [
       "<div>\n",
       "<style scoped>\n",
       "    .dataframe tbody tr th:only-of-type {\n",
       "        vertical-align: middle;\n",
       "    }\n",
       "\n",
       "    .dataframe tbody tr th {\n",
       "        vertical-align: top;\n",
       "    }\n",
       "\n",
       "    .dataframe thead th {\n",
       "        text-align: right;\n",
       "    }\n",
       "</style>\n",
       "<table border=\"1\" class=\"dataframe\">\n",
       "  <thead>\n",
       "    <tr style=\"text-align: right;\">\n",
       "      <th></th>\n",
       "      <th>Unnamed: 0</th>\n",
       "      <th>amt</th>\n",
       "      <th>gender</th>\n",
       "      <th>state</th>\n",
       "      <th>job</th>\n",
       "      <th>dob</th>\n",
       "      <th>year</th>\n",
       "      <th>month</th>\n",
       "      <th>day</th>\n",
       "      <th>genderR</th>\n",
       "      <th>stateR</th>\n",
       "      <th>age</th>\n",
       "    </tr>\n",
       "  </thead>\n",
       "  <tbody>\n",
       "    <tr>\n",
       "      <th>0</th>\n",
       "      <td>0</td>\n",
       "      <td>2.86</td>\n",
       "      <td>M</td>\n",
       "      <td>SC</td>\n",
       "      <td>Mechanical engineer</td>\n",
       "      <td>1968-03-19</td>\n",
       "      <td>1968</td>\n",
       "      <td>03</td>\n",
       "      <td>19</td>\n",
       "      <td>1</td>\n",
       "      <td>18</td>\n",
       "      <td>55</td>\n",
       "    </tr>\n",
       "    <tr>\n",
       "      <th>1</th>\n",
       "      <td>1</td>\n",
       "      <td>29.84</td>\n",
       "      <td>F</td>\n",
       "      <td>UT</td>\n",
       "      <td>Sales professional, IT</td>\n",
       "      <td>1990-01-17</td>\n",
       "      <td>1990</td>\n",
       "      <td>01</td>\n",
       "      <td>17</td>\n",
       "      <td>0</td>\n",
       "      <td>22</td>\n",
       "      <td>33</td>\n",
       "    </tr>\n",
       "    <tr>\n",
       "      <th>2</th>\n",
       "      <td>2</td>\n",
       "      <td>41.28</td>\n",
       "      <td>F</td>\n",
       "      <td>NY</td>\n",
       "      <td>Librarian, public</td>\n",
       "      <td>1970-10-21</td>\n",
       "      <td>1970</td>\n",
       "      <td>10</td>\n",
       "      <td>21</td>\n",
       "      <td>0</td>\n",
       "      <td>0</td>\n",
       "      <td>53</td>\n",
       "    </tr>\n",
       "    <tr>\n",
       "      <th>3</th>\n",
       "      <td>3</td>\n",
       "      <td>60.05</td>\n",
       "      <td>M</td>\n",
       "      <td>FL</td>\n",
       "      <td>Set designer</td>\n",
       "      <td>1987-07-25</td>\n",
       "      <td>1987</td>\n",
       "      <td>07</td>\n",
       "      <td>25</td>\n",
       "      <td>1</td>\n",
       "      <td>1</td>\n",
       "      <td>36</td>\n",
       "    </tr>\n",
       "    <tr>\n",
       "      <th>4</th>\n",
       "      <td>4</td>\n",
       "      <td>3.19</td>\n",
       "      <td>M</td>\n",
       "      <td>MI</td>\n",
       "      <td>Furniture designer</td>\n",
       "      <td>1955-07-06</td>\n",
       "      <td>1955</td>\n",
       "      <td>07</td>\n",
       "      <td>06</td>\n",
       "      <td>1</td>\n",
       "      <td>3</td>\n",
       "      <td>68</td>\n",
       "    </tr>\n",
       "  </tbody>\n",
       "</table>\n",
       "</div>"
      ],
      "text/plain": [
       "   Unnamed: 0    amt gender state                     job         dob  year  \\\n",
       "0           0   2.86      M    SC     Mechanical engineer  1968-03-19  1968   \n",
       "1           1  29.84      F    UT  Sales professional, IT  1990-01-17  1990   \n",
       "2           2  41.28      F    NY       Librarian, public  1970-10-21  1970   \n",
       "3           3  60.05      M    FL            Set designer  1987-07-25  1987   \n",
       "4           4   3.19      M    MI      Furniture designer  1955-07-06  1955   \n",
       "\n",
       "  month day  genderR  stateR  age  \n",
       "0    03  19        1      18   55  \n",
       "1    01  17        0      22   33  \n",
       "2    10  21        0       0   53  \n",
       "3    07  25        1       1   36  \n",
       "4    07  06        1       3   68  "
      ]
     },
     "execution_count": 39,
     "metadata": {},
     "output_type": "execute_result"
    }
   ],
   "source": [
    "fraudTest.head()"
   ]
  },
  {
   "cell_type": "code",
   "execution_count": 40,
   "id": "fa5af17c-b95e-4d41-a37f-892372b29b04",
   "metadata": {},
   "outputs": [
    {
     "data": {
      "text/plain": [
       "49    6\n",
       "37    5\n",
       "53    4\n",
       "59    4\n",
       "38    4\n",
       "55    3\n",
       "46    3\n",
       "43    3\n",
       "45    3\n",
       "34    3\n",
       "35    3\n",
       "52    3\n",
       "26    3\n",
       "36    3\n",
       "51    3\n",
       "86    2\n",
       "47    2\n",
       "44    2\n",
       "24    2\n",
       "48    2\n",
       "57    2\n",
       "39    2\n",
       "32    2\n",
       "30    2\n",
       "75    2\n",
       "66    2\n",
       "31    2\n",
       "56    2\n",
       "74    1\n",
       "25    1\n",
       "23    1\n",
       "41    1\n",
       "89    1\n",
       "85    1\n",
       "65    1\n",
       "94    1\n",
       "29    1\n",
       "80    1\n",
       "62    1\n",
       "54    1\n",
       "28    1\n",
       "33    1\n",
       "93    1\n",
       "27    1\n",
       "67    1\n",
       "50    1\n",
       "72    1\n",
       "68    1\n",
       "58    1\n",
       "Name: age, dtype: int64"
      ]
     },
     "execution_count": 40,
     "metadata": {},
     "output_type": "execute_result"
    }
   ],
   "source": [
    "fraudTest.age.value_counts()"
   ]
  },
  {
   "cell_type": "code",
   "execution_count": 41,
   "id": "c19d3d5b-f118-4e49-a1ec-65af92ce8d8b",
   "metadata": {},
   "outputs": [
    {
     "name": "stderr",
     "output_type": "stream",
     "text": [
      "C:\\Python3\\lib\\site-packages\\seaborn\\distributions.py:2619: FutureWarning: `distplot` is a deprecated function and will be removed in a future version. Please adapt your code to use either `displot` (a figure-level function with similar flexibility) or `histplot` (an axes-level function for histograms).\n",
      "  warnings.warn(msg, FutureWarning)\n"
     ]
    },
    {
     "data": {
      "text/plain": [
       "<AxesSubplot:xlabel='age', ylabel='Density'>"
      ]
     },
     "execution_count": 41,
     "metadata": {},
     "output_type": "execute_result"
    },
    {
     "data": {
      "image/png": "[encoded data removed]",
      "text/plain": [
       "<Figure size 432x288 with 1 Axes>"
      ]
     },
     "metadata": {
      "needs_background": "light"
     },
     "output_type": "display_data"
    }
   ],
   "source": [
    "sns.distplot(fraudTest['age'])"
   ]
  },
  {
   "cell_type": "code",
   "execution_count": null,
   "id": "8a70b9fa-99bf-460e-9ee1-45c2d49234be",
   "metadata": {},
   "outputs": [],
   "source": [
    "#fraudTrain"
   ]
  },
  {
   "cell_type": "code",
   "execution_count": 42,
   "id": "fdb494b2-9a24-44db-9313-5e8b14a97f40",
   "metadata": {},
   "outputs": [],
   "source": [
    "fraudTrain[['year', 'month', 'day']] = fraudTrain['dob'].str.split('-', expand=True)"
   ]
  },
  {
   "cell_type": "code",
   "execution_count": 43,
   "id": "ff011fc4-62ea-4d7e-b1db-e4cfd4c3b25e",
   "metadata": {},
   "outputs": [
    {
     "data": {
      "text/html": [
       "<div>\n",
       "<style scoped>\n",
       "    .dataframe tbody tr th:only-of-type {\n",
       "        vertical-align: middle;\n",
       "    }\n",
       "\n",
       "    .dataframe tbody tr th {\n",
       "        vertical-align: top;\n",
       "    }\n",
       "\n",
       "    .dataframe thead th {\n",
       "        text-align: right;\n",
       "    }\n",
       "</style>\n",
       "<table border=\"1\" class=\"dataframe\">\n",
       "  <thead>\n",
       "    <tr style=\"text-align: right;\">\n",
       "      <th></th>\n",
       "      <th>Unnamed: 0</th>\n",
       "      <th>amt</th>\n",
       "      <th>gender</th>\n",
       "      <th>state</th>\n",
       "      <th>job</th>\n",
       "      <th>dob</th>\n",
       "      <th>genderR</th>\n",
       "      <th>stateR</th>\n",
       "      <th>year</th>\n",
       "      <th>month</th>\n",
       "      <th>day</th>\n",
       "    </tr>\n",
       "  </thead>\n",
       "  <tbody>\n",
       "    <tr>\n",
       "      <th>0</th>\n",
       "      <td>0</td>\n",
       "      <td>4.97</td>\n",
       "      <td>F</td>\n",
       "      <td>NC</td>\n",
       "      <td>Psychologist, counselling</td>\n",
       "      <td>1988-03-09</td>\n",
       "      <td>0</td>\n",
       "      <td>20</td>\n",
       "      <td>1988</td>\n",
       "      <td>03</td>\n",
       "      <td>09</td>\n",
       "    </tr>\n",
       "    <tr>\n",
       "      <th>1</th>\n",
       "      <td>1</td>\n",
       "      <td>107.23</td>\n",
       "      <td>F</td>\n",
       "      <td>WA</td>\n",
       "      <td>Special educational needs teacher</td>\n",
       "      <td>1978-06-21</td>\n",
       "      <td>0</td>\n",
       "      <td>15</td>\n",
       "      <td>1978</td>\n",
       "      <td>06</td>\n",
       "      <td>21</td>\n",
       "    </tr>\n",
       "    <tr>\n",
       "      <th>2</th>\n",
       "      <td>2</td>\n",
       "      <td>220.11</td>\n",
       "      <td>M</td>\n",
       "      <td>ID</td>\n",
       "      <td>Nature conservation officer</td>\n",
       "      <td>1962-01-19</td>\n",
       "      <td>1</td>\n",
       "      <td>41</td>\n",
       "      <td>1962</td>\n",
       "      <td>01</td>\n",
       "      <td>19</td>\n",
       "    </tr>\n",
       "    <tr>\n",
       "      <th>3</th>\n",
       "      <td>3</td>\n",
       "      <td>45.00</td>\n",
       "      <td>M</td>\n",
       "      <td>MT</td>\n",
       "      <td>Patent attorney</td>\n",
       "      <td>1967-01-12</td>\n",
       "      <td>1</td>\n",
       "      <td>26</td>\n",
       "      <td>1967</td>\n",
       "      <td>01</td>\n",
       "      <td>12</td>\n",
       "    </tr>\n",
       "    <tr>\n",
       "      <th>4</th>\n",
       "      <td>4</td>\n",
       "      <td>41.96</td>\n",
       "      <td>M</td>\n",
       "      <td>VA</td>\n",
       "      <td>Dance movement psychotherapist</td>\n",
       "      <td>1986-03-28</td>\n",
       "      <td>1</td>\n",
       "      <td>7</td>\n",
       "      <td>1986</td>\n",
       "      <td>03</td>\n",
       "      <td>28</td>\n",
       "    </tr>\n",
       "  </tbody>\n",
       "</table>\n",
       "</div>"
      ],
      "text/plain": [
       "   Unnamed: 0     amt gender state                                job  \\\n",
       "0           0    4.97      F    NC          Psychologist, counselling   \n",
       "1           1  107.23      F    WA  Special educational needs teacher   \n",
       "2           2  220.11      M    ID        Nature conservation officer   \n",
       "3           3   45.00      M    MT                    Patent attorney   \n",
       "4           4   41.96      M    VA     Dance movement psychotherapist   \n",
       "\n",
       "          dob  genderR  stateR  year month day  \n",
       "0  1988-03-09        0      20  1988    03  09  \n",
       "1  1978-06-21        0      15  1978    06  21  \n",
       "2  1962-01-19        1      41  1962    01  19  \n",
       "3  1967-01-12        1      26  1967    01  12  \n",
       "4  1986-03-28        1       7  1986    03  28  "
      ]
     },
     "execution_count": 43,
     "metadata": {},
     "output_type": "execute_result"
    }
   ],
   "source": [
    "fraudTrain.head()"
   ]
  },
  {
   "cell_type": "code",
   "execution_count": 44,
   "id": "ae861cb6-487d-467a-9c3c-3cb92521e43f",
   "metadata": {},
   "outputs": [],
   "source": [
    "fraudTrain[\"year\"] = fraudTrain[\"year\"].astype(int)"
   ]
  },
  {
   "cell_type": "code",
   "execution_count": 45,
   "id": "e2b24bcc-1beb-41de-af33-a20f1136c03e",
   "metadata": {},
   "outputs": [
    {
     "name": "stdout",
     "output_type": "stream",
     "text": [
      "    Unnamed: 0     amt gender state                                job  \\\n",
      "0            0    4.97      F    NC          Psychologist, counselling   \n",
      "1            1  107.23      F    WA  Special educational needs teacher   \n",
      "2            2  220.11      M    ID        Nature conservation officer   \n",
      "3            3   45.00      M    MT                    Patent attorney   \n",
      "4            4   41.96      M    VA     Dance movement psychotherapist   \n",
      "..         ...     ...    ...   ...                                ...   \n",
      "95          95    3.35      F    IA              Engineering geologist   \n",
      "96          96   50.61      M    IA            Agricultural consultant   \n",
      "97          97   50.74      F    TX                  Systems developer   \n",
      "98          98  186.73      F    FL                          Paramedic   \n",
      "99          99   39.95      M    AR                  Financial adviser   \n",
      "\n",
      "           dob  genderR  stateR  year month day  age  \n",
      "0   1988-03-09        0      20  1988    03  09   37  \n",
      "1   1978-06-21        0      15  1978    06  21   37  \n",
      "2   1962-01-19        1      41  1962    01  19   37  \n",
      "3   1967-01-12        1      26  1967    01  12   37  \n",
      "4   1986-03-28        1       7  1986    03  28   37  \n",
      "..         ...      ...     ...   ...   ...  ..  ...  \n",
      "95  1971-08-20        0       2  1971    08  20   37  \n",
      "96  1957-03-06        1       2  1957    03  06   37  \n",
      "97  1970-09-11        0       6  1970    09  11   37  \n",
      "98  1977-01-04        0       8  1977    01  04   37  \n",
      "99  1986-06-11        1      11  1986    06  11   37  \n",
      "\n",
      "[100 rows x 12 columns]\n"
     ]
    }
   ],
   "source": [
    "age = []\n",
    "for value in fraudTrain[\"year\"]:\n",
    "   fraudTrain[\"age\"] = 2023 - value\n",
    "\n",
    "print(fraudTrain)"
   ]
  },
  {
   "cell_type": "code",
   "execution_count": 46,
   "id": "7d6c645f-df8a-4d0a-97b3-3f88dc83ab1f",
   "metadata": {},
   "outputs": [
    {
     "name": "stdout",
     "output_type": "stream",
     "text": [
      "<class 'pandas.core.frame.DataFrame'>\n",
      "RangeIndex: 100 entries, 0 to 99\n",
      "Data columns (total 12 columns):\n",
      " #   Column      Non-Null Count  Dtype  \n",
      "---  ------      --------------  -----  \n",
      " 0   Unnamed: 0  100 non-null    int64  \n",
      " 1   amt         100 non-null    float64\n",
      " 2   gender      100 non-null    object \n",
      " 3   state       100 non-null    object \n",
      " 4   job         100 non-null    object \n",
      " 5   dob         100 non-null    object \n",
      " 6   genderR     100 non-null    int64  \n",
      " 7   stateR      100 non-null    int64  \n",
      " 8   year        100 non-null    int32  \n",
      " 9   month       100 non-null    object \n",
      " 10  day         100 non-null    object \n",
      " 11  age         100 non-null    int64  \n",
      "dtypes: float64(1), int32(1), int64(4), object(6)\n",
      "memory usage: 9.1+ KB\n"
     ]
    }
   ],
   "source": [
    "fraudTrain.info()"
   ]
  },
  {
   "cell_type": "code",
   "execution_count": 47,
   "id": "2bd00b50-83d7-43bc-bb91-e47a5c3db589",
   "metadata": {},
   "outputs": [],
   "source": [
    "def source (series):\n",
    "    if series == 2023:\n",
    "        return 0\n",
    "    else: return 2023-series\n",
    "\n",
    "fraudTrain['age'] = fraudTrain[\"year\"].apply(source)"
   ]
  },
  {
   "cell_type": "code",
   "execution_count": 48,
   "id": "21bc52bb-a1a6-4785-9cbf-4180659dd490",
   "metadata": {},
   "outputs": [
    {
     "data": {
      "text/plain": [
       "49    6\n",
       "53    4\n",
       "52    4\n",
       "77    4\n",
       "39    4\n",
       "56    4\n",
       "62    3\n",
       "30    3\n",
       "36    3\n",
       "46    3\n",
       "61    3\n",
       "69    3\n",
       "47    3\n",
       "57    3\n",
       "37    3\n",
       "68    2\n",
       "25    2\n",
       "29    2\n",
       "66    2\n",
       "51    2\n",
       "81    2\n",
       "88    2\n",
       "48    2\n",
       "40    2\n",
       "35    2\n",
       "28    2\n",
       "34    2\n",
       "43    2\n",
       "58    2\n",
       "33    2\n",
       "59    2\n",
       "78    2\n",
       "76    1\n",
       "82    1\n",
       "41    1\n",
       "23    1\n",
       "44    1\n",
       "45    1\n",
       "87    1\n",
       "97    1\n",
       "42    1\n",
       "71    1\n",
       "85    1\n",
       "63    1\n",
       "26    1\n",
       "Name: age, dtype: int64"
      ]
     },
     "execution_count": 48,
     "metadata": {},
     "output_type": "execute_result"
    }
   ],
   "source": [
    "fraudTrain.age.value_counts()"
   ]
  },
  {
   "cell_type": "code",
   "execution_count": 49,
   "id": "d99976a9-6aba-4fe8-bb51-ccaa58d53f9c",
   "metadata": {},
   "outputs": [
    {
     "data": {
      "text/html": [
       "<div>\n",
       "<style scoped>\n",
       "    .dataframe tbody tr th:only-of-type {\n",
       "        vertical-align: middle;\n",
       "    }\n",
       "\n",
       "    .dataframe tbody tr th {\n",
       "        vertical-align: top;\n",
       "    }\n",
       "\n",
       "    .dataframe thead th {\n",
       "        text-align: right;\n",
       "    }\n",
       "</style>\n",
       "<table border=\"1\" class=\"dataframe\">\n",
       "  <thead>\n",
       "    <tr style=\"text-align: right;\">\n",
       "      <th></th>\n",
       "      <th>Unnamed: 0</th>\n",
       "      <th>amt</th>\n",
       "      <th>gender</th>\n",
       "      <th>state</th>\n",
       "      <th>job</th>\n",
       "      <th>dob</th>\n",
       "      <th>genderR</th>\n",
       "      <th>stateR</th>\n",
       "      <th>year</th>\n",
       "      <th>month</th>\n",
       "      <th>day</th>\n",
       "      <th>age</th>\n",
       "    </tr>\n",
       "  </thead>\n",
       "  <tbody>\n",
       "    <tr>\n",
       "      <th>0</th>\n",
       "      <td>0</td>\n",
       "      <td>4.97</td>\n",
       "      <td>F</td>\n",
       "      <td>NC</td>\n",
       "      <td>Psychologist, counselling</td>\n",
       "      <td>1988-03-09</td>\n",
       "      <td>0</td>\n",
       "      <td>20</td>\n",
       "      <td>1988</td>\n",
       "      <td>03</td>\n",
       "      <td>09</td>\n",
       "      <td>35</td>\n",
       "    </tr>\n",
       "    <tr>\n",
       "      <th>1</th>\n",
       "      <td>1</td>\n",
       "      <td>107.23</td>\n",
       "      <td>F</td>\n",
       "      <td>WA</td>\n",
       "      <td>Special educational needs teacher</td>\n",
       "      <td>1978-06-21</td>\n",
       "      <td>0</td>\n",
       "      <td>15</td>\n",
       "      <td>1978</td>\n",
       "      <td>06</td>\n",
       "      <td>21</td>\n",
       "      <td>45</td>\n",
       "    </tr>\n",
       "    <tr>\n",
       "      <th>2</th>\n",
       "      <td>2</td>\n",
       "      <td>220.11</td>\n",
       "      <td>M</td>\n",
       "      <td>ID</td>\n",
       "      <td>Nature conservation officer</td>\n",
       "      <td>1962-01-19</td>\n",
       "      <td>1</td>\n",
       "      <td>41</td>\n",
       "      <td>1962</td>\n",
       "      <td>01</td>\n",
       "      <td>19</td>\n",
       "      <td>61</td>\n",
       "    </tr>\n",
       "    <tr>\n",
       "      <th>3</th>\n",
       "      <td>3</td>\n",
       "      <td>45.00</td>\n",
       "      <td>M</td>\n",
       "      <td>MT</td>\n",
       "      <td>Patent attorney</td>\n",
       "      <td>1967-01-12</td>\n",
       "      <td>1</td>\n",
       "      <td>26</td>\n",
       "      <td>1967</td>\n",
       "      <td>01</td>\n",
       "      <td>12</td>\n",
       "      <td>56</td>\n",
       "    </tr>\n",
       "    <tr>\n",
       "      <th>4</th>\n",
       "      <td>4</td>\n",
       "      <td>41.96</td>\n",
       "      <td>M</td>\n",
       "      <td>VA</td>\n",
       "      <td>Dance movement psychotherapist</td>\n",
       "      <td>1986-03-28</td>\n",
       "      <td>1</td>\n",
       "      <td>7</td>\n",
       "      <td>1986</td>\n",
       "      <td>03</td>\n",
       "      <td>28</td>\n",
       "      <td>37</td>\n",
       "    </tr>\n",
       "  </tbody>\n",
       "</table>\n",
       "</div>"
      ],
      "text/plain": [
       "   Unnamed: 0     amt gender state                                job  \\\n",
       "0           0    4.97      F    NC          Psychologist, counselling   \n",
       "1           1  107.23      F    WA  Special educational needs teacher   \n",
       "2           2  220.11      M    ID        Nature conservation officer   \n",
       "3           3   45.00      M    MT                    Patent attorney   \n",
       "4           4   41.96      M    VA     Dance movement psychotherapist   \n",
       "\n",
       "          dob  genderR  stateR  year month day  age  \n",
       "0  1988-03-09        0      20  1988    03  09   35  \n",
       "1  1978-06-21        0      15  1978    06  21   45  \n",
       "2  1962-01-19        1      41  1962    01  19   61  \n",
       "3  1967-01-12        1      26  1967    01  12   56  \n",
       "4  1986-03-28        1       7  1986    03  28   37  "
      ]
     },
     "execution_count": 49,
     "metadata": {},
     "output_type": "execute_result"
    }
   ],
   "source": [
    "fraudTrain.head()"
   ]
  },
  {
   "cell_type": "code",
   "execution_count": 50,
   "id": "c2f1a9be-1a3d-41d5-a3a6-ff72669251af",
   "metadata": {},
   "outputs": [
    {
     "name": "stderr",
     "output_type": "stream",
     "text": [
      "C:\\Python3\\lib\\site-packages\\seaborn\\distributions.py:2619: FutureWarning: `distplot` is a deprecated function and will be removed in a future version. Please adapt your code to use either `displot` (a figure-level function with similar flexibility) or `histplot` (an axes-level function for histograms).\n",
      "  warnings.warn(msg, FutureWarning)\n"
     ]
    },
    {
     "data": {
      "text/plain": [
       "<AxesSubplot:xlabel='age', ylabel='Density'>"
      ]
     },
     "execution_count": 50,
     "metadata": {},
     "output_type": "execute_result"
    },
    {
     "data": {
      "image/png": "[encoded data removed]",
      "text/plain": [
       "<Figure size 432x288 with 1 Axes>"
      ]
     },
     "metadata": {
      "needs_background": "light"
     },
     "output_type": "display_data"
    }
   ],
   "source": [
    "sns.distplot(fraudTrain['age'])"
   ]
  },
  {
   "cell_type": "code",
   "execution_count": null,
   "id": "d7816cce-88fe-45cf-89c1-74fdb668c5fd",
   "metadata": {},
   "outputs": [],
   "source": [
    "# Independant Chi-square with crosstab between age and gender"
   ]
  },
  {
   "cell_type": "code",
   "execution_count": null,
   "id": "eb317286-66ad-4cdf-bcb6-302ca2bb284f",
   "metadata": {},
   "outputs": [],
   "source": [
    "#fraudTest"
   ]
  },
  {
   "cell_type": "code",
   "execution_count": 51,
   "id": "96dd2de7-fcc3-4d05-a735-77c536c5784d",
   "metadata": {},
   "outputs": [],
   "source": [
    "fraudTest_crosstab = pd.crosstab(fraudTest['age'], fraudTest['gender'])"
   ]
  },
  {
   "cell_type": "code",
   "execution_count": 52,
   "id": "b36e89f4-c1f2-4fc8-91fb-c4aea4d1876a",
   "metadata": {},
   "outputs": [
    {
     "data": {
      "text/plain": [
       "(61.13782051282051,\n",
       " 0.09651481997298271,\n",
       " 48,\n",
       " array([[0.52, 0.48],\n",
       "        [1.04, 0.96],\n",
       "        [0.52, 0.48],\n",
       "        [1.56, 1.44],\n",
       "        [0.52, 0.48],\n",
       "        [0.52, 0.48],\n",
       "        [0.52, 0.48],\n",
       "        [1.04, 0.96],\n",
       "        [1.04, 0.96],\n",
       "        [1.04, 0.96],\n",
       "        [0.52, 0.48],\n",
       "        [1.56, 1.44],\n",
       "        [1.56, 1.44],\n",
       "        [1.56, 1.44],\n",
       "        [2.6 , 2.4 ],\n",
       "        [2.08, 1.92],\n",
       "        [1.04, 0.96],\n",
       "        [0.52, 0.48],\n",
       "        [1.56, 1.44],\n",
       "        [1.04, 0.96],\n",
       "        [1.56, 1.44],\n",
       "        [1.56, 1.44],\n",
       "        [1.04, 0.96],\n",
       "        [1.04, 0.96],\n",
       "        [3.12, 2.88],\n",
       "        [0.52, 0.48],\n",
       "        [1.56, 1.44],\n",
       "        [1.56, 1.44],\n",
       "        [2.08, 1.92],\n",
       "        [0.52, 0.48],\n",
       "        [1.56, 1.44],\n",
       "        [1.04, 0.96],\n",
       "        [1.04, 0.96],\n",
       "        [0.52, 0.48],\n",
       "        [2.08, 1.92],\n",
       "        [0.52, 0.48],\n",
       "        [0.52, 0.48],\n",
       "        [1.04, 0.96],\n",
       "        [0.52, 0.48],\n",
       "        [0.52, 0.48],\n",
       "        [0.52, 0.48],\n",
       "        [0.52, 0.48],\n",
       "        [1.04, 0.96],\n",
       "        [0.52, 0.48],\n",
       "        [0.52, 0.48],\n",
       "        [1.04, 0.96],\n",
       "        [0.52, 0.48],\n",
       "        [0.52, 0.48],\n",
       "        [0.52, 0.48]]))"
      ]
     },
     "execution_count": 52,
     "metadata": {},
     "output_type": "execute_result"
    }
   ],
   "source": [
    "stats.chi2_contingency(fraudTest_crosstab)"
   ]
  },
  {
   "cell_type": "code",
   "execution_count": 53,
   "id": "efe2fa9b-5ae0-44b9-a9c1-b9a54437d72f",
   "metadata": {},
   "outputs": [],
   "source": [
    "#fraudTrain"
   ]
  },
  {
   "cell_type": "code",
   "execution_count": 57,
   "id": "805d0970-7c1e-46c9-9af0-a4bb398aa9e4",
   "metadata": {},
   "outputs": [],
   "source": [
    "fraudTrain_crosstab = pd.crosstab(fraudTrain['age'], fraudTrain['gender'])"
   ]
  },
  {
   "cell_type": "code",
   "execution_count": 58,
   "id": "3fe835ec-fbb1-496a-ae6b-02681d8d35c7",
   "metadata": {},
   "outputs": [
    {
     "data": {
      "text/plain": [
       "(56.263354700854705,\n",
       " 0.10168020705207688,\n",
       " 44,\n",
       " array([[0.52, 0.48],\n",
       "        [1.04, 0.96],\n",
       "        [0.52, 0.48],\n",
       "        [1.04, 0.96],\n",
       "        [1.04, 0.96],\n",
       "        [1.56, 1.44],\n",
       "        [1.04, 0.96],\n",
       "        [1.04, 0.96],\n",
       "        [1.04, 0.96],\n",
       "        [1.56, 1.44],\n",
       "        [1.56, 1.44],\n",
       "        [2.08, 1.92],\n",
       "        [1.04, 0.96],\n",
       "        [0.52, 0.48],\n",
       "        [0.52, 0.48],\n",
       "        [1.04, 0.96],\n",
       "        [0.52, 0.48],\n",
       "        [0.52, 0.48],\n",
       "        [1.56, 1.44],\n",
       "        [1.56, 1.44],\n",
       "        [1.04, 0.96],\n",
       "        [3.12, 2.88],\n",
       "        [1.04, 0.96],\n",
       "        [2.08, 1.92],\n",
       "        [2.08, 1.92],\n",
       "        [2.08, 1.92],\n",
       "        [1.56, 1.44],\n",
       "        [1.04, 0.96],\n",
       "        [1.04, 0.96],\n",
       "        [1.56, 1.44],\n",
       "        [1.56, 1.44],\n",
       "        [0.52, 0.48],\n",
       "        [1.04, 0.96],\n",
       "        [1.04, 0.96],\n",
       "        [1.56, 1.44],\n",
       "        [0.52, 0.48],\n",
       "        [0.52, 0.48],\n",
       "        [2.08, 1.92],\n",
       "        [1.04, 0.96],\n",
       "        [1.04, 0.96],\n",
       "        [0.52, 0.48],\n",
       "        [0.52, 0.48],\n",
       "        [0.52, 0.48],\n",
       "        [1.04, 0.96],\n",
       "        [0.52, 0.48]]))"
      ]
     },
     "execution_count": 58,
     "metadata": {},
     "output_type": "execute_result"
    }
   ],
   "source": [
    "stats.chi2_contingency(fraudTrain_crosstab)"
   ]
  },
  {
   "cell_type": "code",
   "execution_count": 59,
   "id": "c9185dd3-a366-4e8e-bd95-531d1e9d5d9c",
   "metadata": {},
   "outputs": [],
   "source": [
    "# Anova equation"
   ]
  },
  {
   "cell_type": "code",
   "execution_count": 60,
   "id": "7422abdf-0a55-4050-a8cd-d88b1d9f86ed",
   "metadata": {},
   "outputs": [],
   "source": [
    "#fraudtest - amt"
   ]
  },
  {
   "cell_type": "code",
   "execution_count": 61,
   "id": "cabde6c4-1683-4037-be7c-a4b8de6a988d",
   "metadata": {},
   "outputs": [
    {
     "data": {
      "text/html": [
       "<div>\n",
       "<style scoped>\n",
       "    .dataframe tbody tr th:only-of-type {\n",
       "        vertical-align: middle;\n",
       "    }\n",
       "\n",
       "    .dataframe tbody tr th {\n",
       "        vertical-align: top;\n",
       "    }\n",
       "\n",
       "    .dataframe thead th {\n",
       "        text-align: right;\n",
       "    }\n",
       "</style>\n",
       "<table border=\"1\" class=\"dataframe\">\n",
       "  <thead>\n",
       "    <tr style=\"text-align: right;\">\n",
       "      <th></th>\n",
       "      <th>Unnamed: 0</th>\n",
       "      <th>amt</th>\n",
       "      <th>gender</th>\n",
       "      <th>state</th>\n",
       "      <th>job</th>\n",
       "      <th>dob</th>\n",
       "      <th>year</th>\n",
       "      <th>month</th>\n",
       "      <th>day</th>\n",
       "      <th>genderR</th>\n",
       "      <th>stateR</th>\n",
       "      <th>age</th>\n",
       "    </tr>\n",
       "  </thead>\n",
       "  <tbody>\n",
       "    <tr>\n",
       "      <th>0</th>\n",
       "      <td>0</td>\n",
       "      <td>2.86</td>\n",
       "      <td>M</td>\n",
       "      <td>SC</td>\n",
       "      <td>Mechanical engineer</td>\n",
       "      <td>1968-03-19</td>\n",
       "      <td>1968</td>\n",
       "      <td>03</td>\n",
       "      <td>19</td>\n",
       "      <td>1</td>\n",
       "      <td>18</td>\n",
       "      <td>55</td>\n",
       "    </tr>\n",
       "    <tr>\n",
       "      <th>1</th>\n",
       "      <td>1</td>\n",
       "      <td>29.84</td>\n",
       "      <td>F</td>\n",
       "      <td>UT</td>\n",
       "      <td>Sales professional, IT</td>\n",
       "      <td>1990-01-17</td>\n",
       "      <td>1990</td>\n",
       "      <td>01</td>\n",
       "      <td>17</td>\n",
       "      <td>0</td>\n",
       "      <td>22</td>\n",
       "      <td>33</td>\n",
       "    </tr>\n",
       "    <tr>\n",
       "      <th>2</th>\n",
       "      <td>2</td>\n",
       "      <td>41.28</td>\n",
       "      <td>F</td>\n",
       "      <td>NY</td>\n",
       "      <td>Librarian, public</td>\n",
       "      <td>1970-10-21</td>\n",
       "      <td>1970</td>\n",
       "      <td>10</td>\n",
       "      <td>21</td>\n",
       "      <td>0</td>\n",
       "      <td>0</td>\n",
       "      <td>53</td>\n",
       "    </tr>\n",
       "    <tr>\n",
       "      <th>3</th>\n",
       "      <td>3</td>\n",
       "      <td>60.05</td>\n",
       "      <td>M</td>\n",
       "      <td>FL</td>\n",
       "      <td>Set designer</td>\n",
       "      <td>1987-07-25</td>\n",
       "      <td>1987</td>\n",
       "      <td>07</td>\n",
       "      <td>25</td>\n",
       "      <td>1</td>\n",
       "      <td>1</td>\n",
       "      <td>36</td>\n",
       "    </tr>\n",
       "    <tr>\n",
       "      <th>4</th>\n",
       "      <td>4</td>\n",
       "      <td>3.19</td>\n",
       "      <td>M</td>\n",
       "      <td>MI</td>\n",
       "      <td>Furniture designer</td>\n",
       "      <td>1955-07-06</td>\n",
       "      <td>1955</td>\n",
       "      <td>07</td>\n",
       "      <td>06</td>\n",
       "      <td>1</td>\n",
       "      <td>3</td>\n",
       "      <td>68</td>\n",
       "    </tr>\n",
       "    <tr>\n",
       "      <th>...</th>\n",
       "      <td>...</td>\n",
       "      <td>...</td>\n",
       "      <td>...</td>\n",
       "      <td>...</td>\n",
       "      <td>...</td>\n",
       "      <td>...</td>\n",
       "      <td>...</td>\n",
       "      <td>...</td>\n",
       "      <td>...</td>\n",
       "      <td>...</td>\n",
       "      <td>...</td>\n",
       "      <td>...</td>\n",
       "    </tr>\n",
       "    <tr>\n",
       "      <th>95</th>\n",
       "      <td>95</td>\n",
       "      <td>37.14</td>\n",
       "      <td>F</td>\n",
       "      <td>AR</td>\n",
       "      <td>Electrical engineer</td>\n",
       "      <td>1993-04-08</td>\n",
       "      <td>1993</td>\n",
       "      <td>04</td>\n",
       "      <td>08</td>\n",
       "      <td>0</td>\n",
       "      <td>7</td>\n",
       "      <td>30</td>\n",
       "    </tr>\n",
       "    <tr>\n",
       "      <th>96</th>\n",
       "      <td>96</td>\n",
       "      <td>16.06</td>\n",
       "      <td>M</td>\n",
       "      <td>OH</td>\n",
       "      <td>Equities trader</td>\n",
       "      <td>1966-01-04</td>\n",
       "      <td>1966</td>\n",
       "      <td>01</td>\n",
       "      <td>04</td>\n",
       "      <td>1</td>\n",
       "      <td>10</td>\n",
       "      <td>57</td>\n",
       "    </tr>\n",
       "    <tr>\n",
       "      <th>97</th>\n",
       "      <td>97</td>\n",
       "      <td>1.01</td>\n",
       "      <td>F</td>\n",
       "      <td>VA</td>\n",
       "      <td>Energy engineer</td>\n",
       "      <td>1985-09-02</td>\n",
       "      <td>1985</td>\n",
       "      <td>09</td>\n",
       "      <td>02</td>\n",
       "      <td>0</td>\n",
       "      <td>38</td>\n",
       "      <td>38</td>\n",
       "    </tr>\n",
       "    <tr>\n",
       "      <th>98</th>\n",
       "      <td>98</td>\n",
       "      <td>6.98</td>\n",
       "      <td>M</td>\n",
       "      <td>MI</td>\n",
       "      <td>Police officer</td>\n",
       "      <td>1971-11-05</td>\n",
       "      <td>1971</td>\n",
       "      <td>11</td>\n",
       "      <td>05</td>\n",
       "      <td>1</td>\n",
       "      <td>3</td>\n",
       "      <td>52</td>\n",
       "    </tr>\n",
       "    <tr>\n",
       "      <th>99</th>\n",
       "      <td>99</td>\n",
       "      <td>31.88</td>\n",
       "      <td>M</td>\n",
       "      <td>MD</td>\n",
       "      <td>Music tutor</td>\n",
       "      <td>1965-04-07</td>\n",
       "      <td>1965</td>\n",
       "      <td>04</td>\n",
       "      <td>07</td>\n",
       "      <td>1</td>\n",
       "      <td>11</td>\n",
       "      <td>58</td>\n",
       "    </tr>\n",
       "  </tbody>\n",
       "</table>\n",
       "<p>100 rows × 12 columns</p>\n",
       "</div>"
      ],
      "text/plain": [
       "    Unnamed: 0    amt gender state                     job         dob  year  \\\n",
       "0            0   2.86      M    SC     Mechanical engineer  1968-03-19  1968   \n",
       "1            1  29.84      F    UT  Sales professional, IT  1990-01-17  1990   \n",
       "2            2  41.28      F    NY       Librarian, public  1970-10-21  1970   \n",
       "3            3  60.05      M    FL            Set designer  1987-07-25  1987   \n",
       "4            4   3.19      M    MI      Furniture designer  1955-07-06  1955   \n",
       "..         ...    ...    ...   ...                     ...         ...   ...   \n",
       "95          95  37.14      F    AR     Electrical engineer  1993-04-08  1993   \n",
       "96          96  16.06      M    OH         Equities trader  1966-01-04  1966   \n",
       "97          97   1.01      F    VA         Energy engineer  1985-09-02  1985   \n",
       "98          98   6.98      M    MI          Police officer  1971-11-05  1971   \n",
       "99          99  31.88      M    MD             Music tutor  1965-04-07  1965   \n",
       "\n",
       "   month day  genderR  stateR  age  \n",
       "0     03  19        1      18   55  \n",
       "1     01  17        0      22   33  \n",
       "2     10  21        0       0   53  \n",
       "3     07  25        1       1   36  \n",
       "4     07  06        1       3   68  \n",
       "..   ...  ..      ...     ...  ...  \n",
       "95    04  08        0       7   30  \n",
       "96    01  04        1      10   57  \n",
       "97    09  02        0      38   38  \n",
       "98    11  05        1       3   52  \n",
       "99    04  07        1      11   58  \n",
       "\n",
       "[100 rows x 12 columns]"
      ]
     },
     "execution_count": 61,
     "metadata": {},
     "output_type": "execute_result"
    }
   ],
   "source": [
    "fraudTest"
   ]
  },
  {
   "cell_type": "code",
   "execution_count": 66,
   "id": "d5de15c0-79ea-46a0-9cc7-9e1c842396cd",
   "metadata": {},
   "outputs": [],
   "source": [
    "test1 = fraudTest[['amt', 'genderR', 'stateR', 'age']]\n"
   ]
  },
  {
   "cell_type": "code",
   "execution_count": 67,
   "id": "9667a2c0-94e9-46d5-b081-251a523e8406",
   "metadata": {},
   "outputs": [
    {
     "data": {
      "text/html": [
       "<div>\n",
       "<style scoped>\n",
       "    .dataframe tbody tr th:only-of-type {\n",
       "        vertical-align: middle;\n",
       "    }\n",
       "\n",
       "    .dataframe tbody tr th {\n",
       "        vertical-align: top;\n",
       "    }\n",
       "\n",
       "    .dataframe thead th {\n",
       "        text-align: right;\n",
       "    }\n",
       "</style>\n",
       "<table border=\"1\" class=\"dataframe\">\n",
       "  <thead>\n",
       "    <tr style=\"text-align: right;\">\n",
       "      <th></th>\n",
       "      <th>amt</th>\n",
       "      <th>genderR</th>\n",
       "      <th>stateR</th>\n",
       "      <th>age</th>\n",
       "    </tr>\n",
       "  </thead>\n",
       "  <tbody>\n",
       "    <tr>\n",
       "      <th>0</th>\n",
       "      <td>2.86</td>\n",
       "      <td>1</td>\n",
       "      <td>18</td>\n",
       "      <td>55</td>\n",
       "    </tr>\n",
       "    <tr>\n",
       "      <th>1</th>\n",
       "      <td>29.84</td>\n",
       "      <td>0</td>\n",
       "      <td>22</td>\n",
       "      <td>33</td>\n",
       "    </tr>\n",
       "    <tr>\n",
       "      <th>2</th>\n",
       "      <td>41.28</td>\n",
       "      <td>0</td>\n",
       "      <td>0</td>\n",
       "      <td>53</td>\n",
       "    </tr>\n",
       "    <tr>\n",
       "      <th>3</th>\n",
       "      <td>60.05</td>\n",
       "      <td>1</td>\n",
       "      <td>1</td>\n",
       "      <td>36</td>\n",
       "    </tr>\n",
       "    <tr>\n",
       "      <th>4</th>\n",
       "      <td>3.19</td>\n",
       "      <td>1</td>\n",
       "      <td>3</td>\n",
       "      <td>68</td>\n",
       "    </tr>\n",
       "  </tbody>\n",
       "</table>\n",
       "</div>"
      ],
      "text/plain": [
       "     amt  genderR  stateR  age\n",
       "0   2.86        1      18   55\n",
       "1  29.84        0      22   33\n",
       "2  41.28        0       0   53\n",
       "3  60.05        1       1   36\n",
       "4   3.19        1       3   68"
      ]
     },
     "execution_count": 67,
     "metadata": {},
     "output_type": "execute_result"
    }
   ],
   "source": [
    "test1.head()"
   ]
  },
  {
   "cell_type": "code",
   "execution_count": 68,
   "id": "522f35d8-bf19-4923-96a9-5ed3c38a5d63",
   "metadata": {},
   "outputs": [
    {
     "name": "stderr",
     "output_type": "stream",
     "text": [
      "C:\\Python3\\lib\\site-packages\\seaborn\\distributions.py:2619: FutureWarning: `distplot` is a deprecated function and will be removed in a future version. Please adapt your code to use either `displot` (a figure-level function with similar flexibility) or `histplot` (an axes-level function for histograms).\n",
      "  warnings.warn(msg, FutureWarning)\n"
     ]
    },
    {
     "data": {
      "text/plain": [
       "<AxesSubplot:xlabel='amt', ylabel='Density'>"
      ]
     },
     "execution_count": 68,
     "metadata": {},
     "output_type": "execute_result"
    },
    {
     "data": {
      "image/png": "[encoded data removed]",
      "text/plain": [
       "<Figure size 432x288 with 1 Axes>"
      ]
     },
     "metadata": {
      "needs_background": "light"
     },
     "output_type": "display_data"
    }
   ],
   "source": [
    "sns.distplot(test1['amt'])"
   ]
  },
  {
   "cell_type": "code",
   "execution_count": 70,
   "id": "6e41e4a5-2356-4712-b9f1-0bdc763eede0",
   "metadata": {},
   "outputs": [
    {
     "name": "stderr",
     "output_type": "stream",
     "text": [
      "C:\\Users\\USER\\AppData\\Local\\Temp\\ipykernel_9620\\4011242787.py:1: SettingWithCopyWarning: \n",
      "A value is trying to be set on a copy of a slice from a DataFrame.\n",
      "Try using .loc[row_indexer,col_indexer] = value instead\n",
      "\n",
      "See the caveats in the documentation: https://pandas.pydata.org/pandas-docs/stable/user_guide/indexing.html#returning-a-view-versus-a-copy\n",
      "  test1['amtSQRT'] = np.sqrt(test1['amt'])\n"
     ]
    }
   ],
   "source": [
    "test1['amtSQRT'] = np.sqrt(test1['amt'])"
   ]
  },
  {
   "cell_type": "code",
   "execution_count": 71,
   "id": "49311614-f713-44e9-af58-1613b8dccc35",
   "metadata": {},
   "outputs": [
    {
     "data": {
      "text/html": [
       "<div>\n",
       "<style scoped>\n",
       "    .dataframe tbody tr th:only-of-type {\n",
       "        vertical-align: middle;\n",
       "    }\n",
       "\n",
       "    .dataframe tbody tr th {\n",
       "        vertical-align: top;\n",
       "    }\n",
       "\n",
       "    .dataframe thead th {\n",
       "        text-align: right;\n",
       "    }\n",
       "</style>\n",
       "<table border=\"1\" class=\"dataframe\">\n",
       "  <thead>\n",
       "    <tr style=\"text-align: right;\">\n",
       "      <th></th>\n",
       "      <th>amt</th>\n",
       "      <th>genderR</th>\n",
       "      <th>stateR</th>\n",
       "      <th>age</th>\n",
       "      <th>amtSQRT</th>\n",
       "    </tr>\n",
       "  </thead>\n",
       "  <tbody>\n",
       "    <tr>\n",
       "      <th>0</th>\n",
       "      <td>2.86</td>\n",
       "      <td>1</td>\n",
       "      <td>18</td>\n",
       "      <td>55</td>\n",
       "      <td>1.691153</td>\n",
       "    </tr>\n",
       "    <tr>\n",
       "      <th>1</th>\n",
       "      <td>29.84</td>\n",
       "      <td>0</td>\n",
       "      <td>22</td>\n",
       "      <td>33</td>\n",
       "      <td>5.462600</td>\n",
       "    </tr>\n",
       "    <tr>\n",
       "      <th>2</th>\n",
       "      <td>41.28</td>\n",
       "      <td>0</td>\n",
       "      <td>0</td>\n",
       "      <td>53</td>\n",
       "      <td>6.424951</td>\n",
       "    </tr>\n",
       "    <tr>\n",
       "      <th>3</th>\n",
       "      <td>60.05</td>\n",
       "      <td>1</td>\n",
       "      <td>1</td>\n",
       "      <td>36</td>\n",
       "      <td>7.749194</td>\n",
       "    </tr>\n",
       "    <tr>\n",
       "      <th>4</th>\n",
       "      <td>3.19</td>\n",
       "      <td>1</td>\n",
       "      <td>3</td>\n",
       "      <td>68</td>\n",
       "      <td>1.786057</td>\n",
       "    </tr>\n",
       "  </tbody>\n",
       "</table>\n",
       "</div>"
      ],
      "text/plain": [
       "     amt  genderR  stateR  age   amtSQRT\n",
       "0   2.86        1      18   55  1.691153\n",
       "1  29.84        0      22   33  5.462600\n",
       "2  41.28        0       0   53  6.424951\n",
       "3  60.05        1       1   36  7.749194\n",
       "4   3.19        1       3   68  1.786057"
      ]
     },
     "execution_count": 71,
     "metadata": {},
     "output_type": "execute_result"
    }
   ],
   "source": [
    "test1.head()"
   ]
  },
  {
   "cell_type": "code",
   "execution_count": 72,
   "id": "f6affa2d-ce0e-4127-97bf-bba87a22ce85",
   "metadata": {},
   "outputs": [
    {
     "name": "stderr",
     "output_type": "stream",
     "text": [
      "C:\\Python3\\lib\\site-packages\\seaborn\\distributions.py:2619: FutureWarning: `distplot` is a deprecated function and will be removed in a future version. Please adapt your code to use either `displot` (a figure-level function with similar flexibility) or `histplot` (an axes-level function for histograms).\n",
      "  warnings.warn(msg, FutureWarning)\n"
     ]
    },
    {
     "data": {
      "text/plain": [
       "<AxesSubplot:xlabel='amtSQRT', ylabel='Density'>"
      ]
     },
     "execution_count": 72,
     "metadata": {},
     "output_type": "execute_result"
    },
    {
     "data": {
      "image/png": "[encoded data removed]",
      "text/plain": [
       "<Figure size 432x288 with 1 Axes>"
      ]
     },
     "metadata": {
      "needs_background": "light"
     },
     "output_type": "display_data"
    }
   ],
   "source": [
    "sns.distplot(test1['amtSQRT'])"
   ]
  },
  {
   "cell_type": "code",
   "execution_count": 73,
   "id": "7fb99f5f-5379-4d2e-ab91-6c22d33d25fb",
   "metadata": {},
   "outputs": [
    {
     "name": "stderr",
     "output_type": "stream",
     "text": [
      "C:\\Users\\USER\\AppData\\Local\\Temp\\ipykernel_9620\\165662576.py:1: SettingWithCopyWarning: \n",
      "A value is trying to be set on a copy of a slice from a DataFrame.\n",
      "Try using .loc[row_indexer,col_indexer] = value instead\n",
      "\n",
      "See the caveats in the documentation: https://pandas.pydata.org/pandas-docs/stable/user_guide/indexing.html#returning-a-view-versus-a-copy\n",
      "  test1['amtLOG'] = np.log(test1['amt'])\n"
     ]
    }
   ],
   "source": [
    "test1['amtLOG'] = np.log(test1['amt'])"
   ]
  },
  {
   "cell_type": "code",
   "execution_count": 74,
   "id": "c4b90318-4370-4512-b60e-5910381b13ad",
   "metadata": {},
   "outputs": [
    {
     "data": {
      "text/html": [
       "<div>\n",
       "<style scoped>\n",
       "    .dataframe tbody tr th:only-of-type {\n",
       "        vertical-align: middle;\n",
       "    }\n",
       "\n",
       "    .dataframe tbody tr th {\n",
       "        vertical-align: top;\n",
       "    }\n",
       "\n",
       "    .dataframe thead th {\n",
       "        text-align: right;\n",
       "    }\n",
       "</style>\n",
       "<table border=\"1\" class=\"dataframe\">\n",
       "  <thead>\n",
       "    <tr style=\"text-align: right;\">\n",
       "      <th></th>\n",
       "      <th>amt</th>\n",
       "      <th>genderR</th>\n",
       "      <th>stateR</th>\n",
       "      <th>age</th>\n",
       "      <th>amtSQRT</th>\n",
       "      <th>amtLOG</th>\n",
       "    </tr>\n",
       "  </thead>\n",
       "  <tbody>\n",
       "    <tr>\n",
       "      <th>0</th>\n",
       "      <td>2.86</td>\n",
       "      <td>1</td>\n",
       "      <td>18</td>\n",
       "      <td>55</td>\n",
       "      <td>1.691153</td>\n",
       "      <td>1.050822</td>\n",
       "    </tr>\n",
       "    <tr>\n",
       "      <th>1</th>\n",
       "      <td>29.84</td>\n",
       "      <td>0</td>\n",
       "      <td>22</td>\n",
       "      <td>33</td>\n",
       "      <td>5.462600</td>\n",
       "      <td>3.395850</td>\n",
       "    </tr>\n",
       "    <tr>\n",
       "      <th>2</th>\n",
       "      <td>41.28</td>\n",
       "      <td>0</td>\n",
       "      <td>0</td>\n",
       "      <td>53</td>\n",
       "      <td>6.424951</td>\n",
       "      <td>3.720378</td>\n",
       "    </tr>\n",
       "    <tr>\n",
       "      <th>3</th>\n",
       "      <td>60.05</td>\n",
       "      <td>1</td>\n",
       "      <td>1</td>\n",
       "      <td>36</td>\n",
       "      <td>7.749194</td>\n",
       "      <td>4.095178</td>\n",
       "    </tr>\n",
       "    <tr>\n",
       "      <th>4</th>\n",
       "      <td>3.19</td>\n",
       "      <td>1</td>\n",
       "      <td>3</td>\n",
       "      <td>68</td>\n",
       "      <td>1.786057</td>\n",
       "      <td>1.160021</td>\n",
       "    </tr>\n",
       "  </tbody>\n",
       "</table>\n",
       "</div>"
      ],
      "text/plain": [
       "     amt  genderR  stateR  age   amtSQRT    amtLOG\n",
       "0   2.86        1      18   55  1.691153  1.050822\n",
       "1  29.84        0      22   33  5.462600  3.395850\n",
       "2  41.28        0       0   53  6.424951  3.720378\n",
       "3  60.05        1       1   36  7.749194  4.095178\n",
       "4   3.19        1       3   68  1.786057  1.160021"
      ]
     },
     "execution_count": 74,
     "metadata": {},
     "output_type": "execute_result"
    }
   ],
   "source": [
    "test1.head()"
   ]
  },
  {
   "cell_type": "code",
   "execution_count": 75,
   "id": "47da3c5e-9478-41df-b5b5-47c8b0833635",
   "metadata": {},
   "outputs": [
    {
     "data": {
      "text/plain": [
       "<seaborn.axisgrid.FacetGrid at 0x23a1d70d0c0>"
      ]
     },
     "execution_count": 75,
     "metadata": {},
     "output_type": "execute_result"
    },
    {
     "data": {
      "image/png": "[encoded data removed]",
      "text/plain": [
       "<Figure size 360x360 with 1 Axes>"
      ]
     },
     "metadata": {
      "needs_background": "light"
     },
     "output_type": "display_data"
    }
   ],
   "source": [
    "sns.displot(test1['amtLOG'])"
   ]
  },
  {
   "cell_type": "code",
   "execution_count": 76,
   "id": "2bc7a92a-0846-48fb-82cd-7a66875cc716",
   "metadata": {},
   "outputs": [],
   "source": [
    "# homogeneity of Varaince"
   ]
  },
  {
   "cell_type": "code",
   "execution_count": 92,
   "id": "e13be9d9-a9a3-4006-b151-a9fb6012783b",
   "metadata": {},
   "outputs": [
    {
     "data": {
      "text/plain": [
       "BartlettResult(statistic=568.9134676073359, pvalue=9.67535866989454e-126)"
      ]
     },
     "execution_count": 92,
     "metadata": {},
     "output_type": "execute_result"
    }
   ],
   "source": [
    "scipy.stats.bartlett(test1['amtLOG'], test1['amt'])"
   ]
  },
  {
   "cell_type": "code",
   "execution_count": 89,
   "id": "33f0bae9-b685-4e36-af6f-55db381cd75c",
   "metadata": {},
   "outputs": [],
   "source": [
    "# fligners test"
   ]
  },
  {
   "cell_type": "code",
   "execution_count": 93,
   "id": "ae811cb7-68df-4f83-98d9-e5bebb0cbc7c",
   "metadata": {},
   "outputs": [
    {
     "data": {
      "text/plain": [
       "FlignerResult(statistic=103.96691703328811, pvalue=2.0572261632985525e-24)"
      ]
     },
     "execution_count": 93,
     "metadata": {},
     "output_type": "execute_result"
    }
   ],
   "source": [
    "scipy.stats.fligner(test1['amtSQRT'], test1['amt'])"
   ]
  },
  {
   "cell_type": "code",
   "execution_count": 94,
   "id": "f074a46a-9de0-43bf-96f6-bc1c5dd85c1e",
   "metadata": {},
   "outputs": [],
   "source": [
    "# ANOVA for gender"
   ]
  },
  {
   "cell_type": "code",
   "execution_count": 95,
   "id": "ae5d02bf-1f08-4f89-b3f4-6ca57fa9a6f5",
   "metadata": {},
   "outputs": [],
   "source": [
    "test1 = fraudTest[['amt', 'genderR', 'stateR', 'age']]"
   ]
  },
  {
   "cell_type": "code",
   "execution_count": 96,
   "id": "884ab807-485a-4b31-907e-e6d0af0cd485",
   "metadata": {},
   "outputs": [
    {
     "data": {
      "text/html": [
       "<div>\n",
       "<style scoped>\n",
       "    .dataframe tbody tr th:only-of-type {\n",
       "        vertical-align: middle;\n",
       "    }\n",
       "\n",
       "    .dataframe tbody tr th {\n",
       "        vertical-align: top;\n",
       "    }\n",
       "\n",
       "    .dataframe thead th {\n",
       "        text-align: right;\n",
       "    }\n",
       "</style>\n",
       "<table border=\"1\" class=\"dataframe\">\n",
       "  <thead>\n",
       "    <tr style=\"text-align: right;\">\n",
       "      <th></th>\n",
       "      <th>amt</th>\n",
       "      <th>genderR</th>\n",
       "      <th>stateR</th>\n",
       "      <th>age</th>\n",
       "    </tr>\n",
       "  </thead>\n",
       "  <tbody>\n",
       "    <tr>\n",
       "      <th>0</th>\n",
       "      <td>2.86</td>\n",
       "      <td>1</td>\n",
       "      <td>18</td>\n",
       "      <td>55</td>\n",
       "    </tr>\n",
       "    <tr>\n",
       "      <th>1</th>\n",
       "      <td>29.84</td>\n",
       "      <td>0</td>\n",
       "      <td>22</td>\n",
       "      <td>33</td>\n",
       "    </tr>\n",
       "    <tr>\n",
       "      <th>2</th>\n",
       "      <td>41.28</td>\n",
       "      <td>0</td>\n",
       "      <td>0</td>\n",
       "      <td>53</td>\n",
       "    </tr>\n",
       "    <tr>\n",
       "      <th>3</th>\n",
       "      <td>60.05</td>\n",
       "      <td>1</td>\n",
       "      <td>1</td>\n",
       "      <td>36</td>\n",
       "    </tr>\n",
       "    <tr>\n",
       "      <th>4</th>\n",
       "      <td>3.19</td>\n",
       "      <td>1</td>\n",
       "      <td>3</td>\n",
       "      <td>68</td>\n",
       "    </tr>\n",
       "  </tbody>\n",
       "</table>\n",
       "</div>"
      ],
      "text/plain": [
       "     amt  genderR  stateR  age\n",
       "0   2.86        1      18   55\n",
       "1  29.84        0      22   33\n",
       "2  41.28        0       0   53\n",
       "3  60.05        1       1   36\n",
       "4   3.19        1       3   68"
      ]
     },
     "execution_count": 96,
     "metadata": {},
     "output_type": "execute_result"
    }
   ],
   "source": [
    "test1.head()"
   ]
  },
  {
   "cell_type": "code",
   "execution_count": 97,
   "id": "f171c777-5d31-45d7-9276-e67a844ad92e",
   "metadata": {},
   "outputs": [
    {
     "name": "stderr",
     "output_type": "stream",
     "text": [
      "C:\\Python3\\lib\\site-packages\\seaborn\\distributions.py:2619: FutureWarning: `distplot` is a deprecated function and will be removed in a future version. Please adapt your code to use either `displot` (a figure-level function with similar flexibility) or `histplot` (an axes-level function for histograms).\n",
      "  warnings.warn(msg, FutureWarning)\n"
     ]
    },
    {
     "data": {
      "text/plain": [
       "<AxesSubplot:xlabel='genderR', ylabel='Density'>"
      ]
     },
     "execution_count": 97,
     "metadata": {},
     "output_type": "execute_result"
    },
    {
     "data": {
      "image/png": "[encoded data removed]",
      "text/plain": [
       "<Figure size 432x288 with 1 Axes>"
      ]
     },
     "metadata": {
      "needs_background": "light"
     },
     "output_type": "display_data"
    }
   ],
   "source": [
    "sns.distplot(test1['genderR'])"
   ]
  },
  {
   "cell_type": "code",
   "execution_count": 98,
   "id": "9d2260d0-697f-43d3-86e7-1589c4e041b4",
   "metadata": {},
   "outputs": [
    {
     "name": "stderr",
     "output_type": "stream",
     "text": [
      "C:\\Users\\USER\\AppData\\Local\\Temp\\ipykernel_9620\\2709121412.py:1: SettingWithCopyWarning: \n",
      "A value is trying to be set on a copy of a slice from a DataFrame.\n",
      "Try using .loc[row_indexer,col_indexer] = value instead\n",
      "\n",
      "See the caveats in the documentation: https://pandas.pydata.org/pandas-docs/stable/user_guide/indexing.html#returning-a-view-versus-a-copy\n",
      "  test1['genderRSQRT'] = np.sqrt(test1['genderR'])\n"
     ]
    }
   ],
   "source": [
    "test1['genderRSQRT'] = np.sqrt(test1['genderR'])"
   ]
  },
  {
   "cell_type": "code",
   "execution_count": 99,
   "id": "8648c189-e039-4d81-9f00-e919e6320fff",
   "metadata": {},
   "outputs": [
    {
     "data": {
      "text/html": [
       "<div>\n",
       "<style scoped>\n",
       "    .dataframe tbody tr th:only-of-type {\n",
       "        vertical-align: middle;\n",
       "    }\n",
       "\n",
       "    .dataframe tbody tr th {\n",
       "        vertical-align: top;\n",
       "    }\n",
       "\n",
       "    .dataframe thead th {\n",
       "        text-align: right;\n",
       "    }\n",
       "</style>\n",
       "<table border=\"1\" class=\"dataframe\">\n",
       "  <thead>\n",
       "    <tr style=\"text-align: right;\">\n",
       "      <th></th>\n",
       "      <th>amt</th>\n",
       "      <th>genderR</th>\n",
       "      <th>stateR</th>\n",
       "      <th>age</th>\n",
       "      <th>genderRSQRT</th>\n",
       "    </tr>\n",
       "  </thead>\n",
       "  <tbody>\n",
       "    <tr>\n",
       "      <th>0</th>\n",
       "      <td>2.86</td>\n",
       "      <td>1</td>\n",
       "      <td>18</td>\n",
       "      <td>55</td>\n",
       "      <td>1.0</td>\n",
       "    </tr>\n",
       "    <tr>\n",
       "      <th>1</th>\n",
       "      <td>29.84</td>\n",
       "      <td>0</td>\n",
       "      <td>22</td>\n",
       "      <td>33</td>\n",
       "      <td>0.0</td>\n",
       "    </tr>\n",
       "    <tr>\n",
       "      <th>2</th>\n",
       "      <td>41.28</td>\n",
       "      <td>0</td>\n",
       "      <td>0</td>\n",
       "      <td>53</td>\n",
       "      <td>0.0</td>\n",
       "    </tr>\n",
       "    <tr>\n",
       "      <th>3</th>\n",
       "      <td>60.05</td>\n",
       "      <td>1</td>\n",
       "      <td>1</td>\n",
       "      <td>36</td>\n",
       "      <td>1.0</td>\n",
       "    </tr>\n",
       "    <tr>\n",
       "      <th>4</th>\n",
       "      <td>3.19</td>\n",
       "      <td>1</td>\n",
       "      <td>3</td>\n",
       "      <td>68</td>\n",
       "      <td>1.0</td>\n",
       "    </tr>\n",
       "  </tbody>\n",
       "</table>\n",
       "</div>"
      ],
      "text/plain": [
       "     amt  genderR  stateR  age  genderRSQRT\n",
       "0   2.86        1      18   55          1.0\n",
       "1  29.84        0      22   33          0.0\n",
       "2  41.28        0       0   53          0.0\n",
       "3  60.05        1       1   36          1.0\n",
       "4   3.19        1       3   68          1.0"
      ]
     },
     "execution_count": 99,
     "metadata": {},
     "output_type": "execute_result"
    }
   ],
   "source": [
    "test1.head()"
   ]
  },
  {
   "cell_type": "code",
   "execution_count": 100,
   "id": "7ee7d7d0-f819-4d71-a476-dd74282b7b01",
   "metadata": {},
   "outputs": [
    {
     "name": "stderr",
     "output_type": "stream",
     "text": [
      "C:\\Python3\\lib\\site-packages\\seaborn\\distributions.py:2619: FutureWarning: `distplot` is a deprecated function and will be removed in a future version. Please adapt your code to use either `displot` (a figure-level function with similar flexibility) or `histplot` (an axes-level function for histograms).\n",
      "  warnings.warn(msg, FutureWarning)\n"
     ]
    },
    {
     "data": {
      "text/plain": [
       "<AxesSubplot:xlabel='genderRSQRT', ylabel='Density'>"
      ]
     },
     "execution_count": 100,
     "metadata": {},
     "output_type": "execute_result"
    },
    {
     "data": {
      "image/png": "[encoded data removed]",
      "text/plain": [
       "<Figure size 432x288 with 1 Axes>"
      ]
     },
     "metadata": {
      "needs_background": "light"
     },
     "output_type": "display_data"
    }
   ],
   "source": [
    "sns.distplot(test1['genderRSQRT'])"
   ]
  },
  {
   "cell_type": "code",
   "execution_count": 101,
   "id": "a9566903-fba1-4097-9775-9dab77b0e190",
   "metadata": {},
   "outputs": [
    {
     "name": "stderr",
     "output_type": "stream",
     "text": [
      "C:\\Python3\\lib\\site-packages\\pandas\\core\\arraylike.py:397: RuntimeWarning: divide by zero encountered in log\n",
      "  result = getattr(ufunc, method)(*inputs, **kwargs)\n",
      "C:\\Users\\USER\\AppData\\Local\\Temp\\ipykernel_9620\\2020313024.py:1: SettingWithCopyWarning: \n",
      "A value is trying to be set on a copy of a slice from a DataFrame.\n",
      "Try using .loc[row_indexer,col_indexer] = value instead\n",
      "\n",
      "See the caveats in the documentation: https://pandas.pydata.org/pandas-docs/stable/user_guide/indexing.html#returning-a-view-versus-a-copy\n",
      "  test1['genderRLOG'] = np.log(test1['genderR'])\n"
     ]
    }
   ],
   "source": [
    "test1['genderRLOG'] = np.log(test1['genderR'])"
   ]
  },
  {
   "cell_type": "code",
   "execution_count": 102,
   "id": "d6b95923-e1d1-48f0-b1b2-22f135fc76a6",
   "metadata": {},
   "outputs": [
    {
     "data": {
      "text/html": [
       "<div>\n",
       "<style scoped>\n",
       "    .dataframe tbody tr th:only-of-type {\n",
       "        vertical-align: middle;\n",
       "    }\n",
       "\n",
       "    .dataframe tbody tr th {\n",
       "        vertical-align: top;\n",
       "    }\n",
       "\n",
       "    .dataframe thead th {\n",
       "        text-align: right;\n",
       "    }\n",
       "</style>\n",
       "<table border=\"1\" class=\"dataframe\">\n",
       "  <thead>\n",
       "    <tr style=\"text-align: right;\">\n",
       "      <th></th>\n",
       "      <th>amt</th>\n",
       "      <th>genderR</th>\n",
       "      <th>stateR</th>\n",
       "      <th>age</th>\n",
       "      <th>genderRSQRT</th>\n",
       "      <th>genderRLOG</th>\n",
       "    </tr>\n",
       "  </thead>\n",
       "  <tbody>\n",
       "    <tr>\n",
       "      <th>0</th>\n",
       "      <td>2.86</td>\n",
       "      <td>1</td>\n",
       "      <td>18</td>\n",
       "      <td>55</td>\n",
       "      <td>1.0</td>\n",
       "      <td>0.0</td>\n",
       "    </tr>\n",
       "    <tr>\n",
       "      <th>1</th>\n",
       "      <td>29.84</td>\n",
       "      <td>0</td>\n",
       "      <td>22</td>\n",
       "      <td>33</td>\n",
       "      <td>0.0</td>\n",
       "      <td>-inf</td>\n",
       "    </tr>\n",
       "    <tr>\n",
       "      <th>2</th>\n",
       "      <td>41.28</td>\n",
       "      <td>0</td>\n",
       "      <td>0</td>\n",
       "      <td>53</td>\n",
       "      <td>0.0</td>\n",
       "      <td>-inf</td>\n",
       "    </tr>\n",
       "    <tr>\n",
       "      <th>3</th>\n",
       "      <td>60.05</td>\n",
       "      <td>1</td>\n",
       "      <td>1</td>\n",
       "      <td>36</td>\n",
       "      <td>1.0</td>\n",
       "      <td>0.0</td>\n",
       "    </tr>\n",
       "    <tr>\n",
       "      <th>4</th>\n",
       "      <td>3.19</td>\n",
       "      <td>1</td>\n",
       "      <td>3</td>\n",
       "      <td>68</td>\n",
       "      <td>1.0</td>\n",
       "      <td>0.0</td>\n",
       "    </tr>\n",
       "  </tbody>\n",
       "</table>\n",
       "</div>"
      ],
      "text/plain": [
       "     amt  genderR  stateR  age  genderRSQRT  genderRLOG\n",
       "0   2.86        1      18   55          1.0         0.0\n",
       "1  29.84        0      22   33          0.0        -inf\n",
       "2  41.28        0       0   53          0.0        -inf\n",
       "3  60.05        1       1   36          1.0         0.0\n",
       "4   3.19        1       3   68          1.0         0.0"
      ]
     },
     "execution_count": 102,
     "metadata": {},
     "output_type": "execute_result"
    }
   ],
   "source": [
    "test1.head()"
   ]
  },
  {
   "cell_type": "code",
   "execution_count": 103,
   "id": "226e219f-6836-4450-b981-33eb302845b2",
   "metadata": {},
   "outputs": [
    {
     "data": {
      "text/plain": [
       "<seaborn.axisgrid.FacetGrid at 0x23a05993820>"
      ]
     },
     "execution_count": 103,
     "metadata": {},
     "output_type": "execute_result"
    },
    {
     "data": {
      "image/png": "[encoded data removed]",
      "text/plain": [
       "<Figure size 360x360 with 1 Axes>"
      ]
     },
     "metadata": {
      "needs_background": "light"
     },
     "output_type": "display_data"
    }
   ],
   "source": [
    "sns.displot(test1['genderRLOG'])"
   ]
  },
  {
   "cell_type": "code",
   "execution_count": 104,
   "id": "3ea27e3d-d0fd-4255-8842-5d4be17e813f",
   "metadata": {},
   "outputs": [],
   "source": [
    "# Homogeneity of Variance"
   ]
  },
  {
   "cell_type": "code",
   "execution_count": 105,
   "id": "5a70a5fc-c9c6-4af1-bdfe-59ce112cea88",
   "metadata": {},
   "outputs": [
    {
     "data": {
      "text/plain": [
       "BartlettResult(statistic=nan, pvalue=nan)"
      ]
     },
     "execution_count": 105,
     "metadata": {},
     "output_type": "execute_result"
    }
   ],
   "source": [
    "scipy.stats.bartlett(test1['genderRLOG'], test1['genderR'])"
   ]
  },
  {
   "cell_type": "code",
   "execution_count": 106,
   "id": "4a11eec2-727f-4047-876f-c46181830795",
   "metadata": {},
   "outputs": [],
   "source": [
    "#Fligners test"
   ]
  },
  {
   "cell_type": "code",
   "execution_count": 107,
   "id": "71abf926-ed89-4db9-83b3-ce9dd006690a",
   "metadata": {},
   "outputs": [
    {
     "data": {
      "text/plain": [
       "FlignerResult(statistic=1.398312892123436e-29, pvalue=0.999999999999997)"
      ]
     },
     "execution_count": 107,
     "metadata": {},
     "output_type": "execute_result"
    }
   ],
   "source": [
    "scipy.stats.fligner(test1['genderRSQRT'], test1['genderR'])"
   ]
  },
  {
   "cell_type": "code",
   "execution_count": 108,
   "id": "8a4a8c52-9668-42fd-a5a7-5986cf6826ef",
   "metadata": {},
   "outputs": [],
   "source": [
    "#ANOVA for state"
   ]
  },
  {
   "cell_type": "code",
   "execution_count": 109,
   "id": "2d26ba27-e724-4ea5-8bdc-32f764074717",
   "metadata": {},
   "outputs": [
    {
     "name": "stderr",
     "output_type": "stream",
     "text": [
      "C:\\Python3\\lib\\site-packages\\seaborn\\distributions.py:2619: FutureWarning: `distplot` is a deprecated function and will be removed in a future version. Please adapt your code to use either `displot` (a figure-level function with similar flexibility) or `histplot` (an axes-level function for histograms).\n",
      "  warnings.warn(msg, FutureWarning)\n"
     ]
    },
    {
     "data": {
      "text/plain": [
       "<AxesSubplot:xlabel='stateR', ylabel='Density'>"
      ]
     },
     "execution_count": 109,
     "metadata": {},
     "output_type": "execute_result"
    },
    {
     "data": {
      "image/png": "[encoded data removed]",
      "text/plain": [
       "<Figure size 432x288 with 1 Axes>"
      ]
     },
     "metadata": {
      "needs_background": "light"
     },
     "output_type": "display_data"
    }
   ],
   "source": [
    "sns.distplot(test1['stateR'])"
   ]
  },
  {
   "cell_type": "code",
   "execution_count": 110,
   "id": "7d779399-c090-4123-b0bd-16d3a2b60cc9",
   "metadata": {},
   "outputs": [
    {
     "name": "stderr",
     "output_type": "stream",
     "text": [
      "C:\\Users\\USER\\AppData\\Local\\Temp\\ipykernel_9620\\660044328.py:1: SettingWithCopyWarning: \n",
      "A value is trying to be set on a copy of a slice from a DataFrame.\n",
      "Try using .loc[row_indexer,col_indexer] = value instead\n",
      "\n",
      "See the caveats in the documentation: https://pandas.pydata.org/pandas-docs/stable/user_guide/indexing.html#returning-a-view-versus-a-copy\n",
      "  test1['stateRSQRT'] = np.sqrt(test1['stateR'])\n"
     ]
    }
   ],
   "source": [
    "test1['stateRSQRT'] = np.sqrt(test1['stateR'])"
   ]
  },
  {
   "cell_type": "code",
   "execution_count": 111,
   "id": "036a75fd-1a23-4c3c-9f13-fbae555ab90a",
   "metadata": {},
   "outputs": [
    {
     "data": {
      "text/html": [
       "<div>\n",
       "<style scoped>\n",
       "    .dataframe tbody tr th:only-of-type {\n",
       "        vertical-align: middle;\n",
       "    }\n",
       "\n",
       "    .dataframe tbody tr th {\n",
       "        vertical-align: top;\n",
       "    }\n",
       "\n",
       "    .dataframe thead th {\n",
       "        text-align: right;\n",
       "    }\n",
       "</style>\n",
       "<table border=\"1\" class=\"dataframe\">\n",
       "  <thead>\n",
       "    <tr style=\"text-align: right;\">\n",
       "      <th></th>\n",
       "      <th>amt</th>\n",
       "      <th>genderR</th>\n",
       "      <th>stateR</th>\n",
       "      <th>age</th>\n",
       "      <th>genderRSQRT</th>\n",
       "      <th>genderRLOG</th>\n",
       "      <th>stateRSQRT</th>\n",
       "    </tr>\n",
       "  </thead>\n",
       "  <tbody>\n",
       "    <tr>\n",
       "      <th>0</th>\n",
       "      <td>2.86</td>\n",
       "      <td>1</td>\n",
       "      <td>18</td>\n",
       "      <td>55</td>\n",
       "      <td>1.0</td>\n",
       "      <td>0.0</td>\n",
       "      <td>4.242641</td>\n",
       "    </tr>\n",
       "    <tr>\n",
       "      <th>1</th>\n",
       "      <td>29.84</td>\n",
       "      <td>0</td>\n",
       "      <td>22</td>\n",
       "      <td>33</td>\n",
       "      <td>0.0</td>\n",
       "      <td>-inf</td>\n",
       "      <td>4.690416</td>\n",
       "    </tr>\n",
       "    <tr>\n",
       "      <th>2</th>\n",
       "      <td>41.28</td>\n",
       "      <td>0</td>\n",
       "      <td>0</td>\n",
       "      <td>53</td>\n",
       "      <td>0.0</td>\n",
       "      <td>-inf</td>\n",
       "      <td>0.000000</td>\n",
       "    </tr>\n",
       "    <tr>\n",
       "      <th>3</th>\n",
       "      <td>60.05</td>\n",
       "      <td>1</td>\n",
       "      <td>1</td>\n",
       "      <td>36</td>\n",
       "      <td>1.0</td>\n",
       "      <td>0.0</td>\n",
       "      <td>1.000000</td>\n",
       "    </tr>\n",
       "    <tr>\n",
       "      <th>4</th>\n",
       "      <td>3.19</td>\n",
       "      <td>1</td>\n",
       "      <td>3</td>\n",
       "      <td>68</td>\n",
       "      <td>1.0</td>\n",
       "      <td>0.0</td>\n",
       "      <td>1.732051</td>\n",
       "    </tr>\n",
       "  </tbody>\n",
       "</table>\n",
       "</div>"
      ],
      "text/plain": [
       "     amt  genderR  stateR  age  genderRSQRT  genderRLOG  stateRSQRT\n",
       "0   2.86        1      18   55          1.0         0.0    4.242641\n",
       "1  29.84        0      22   33          0.0        -inf    4.690416\n",
       "2  41.28        0       0   53          0.0        -inf    0.000000\n",
       "3  60.05        1       1   36          1.0         0.0    1.000000\n",
       "4   3.19        1       3   68          1.0         0.0    1.732051"
      ]
     },
     "execution_count": 111,
     "metadata": {},
     "output_type": "execute_result"
    }
   ],
   "source": [
    "test1.head()"
   ]
  },
  {
   "cell_type": "code",
   "execution_count": 112,
   "id": "610a564f-bd1c-42b3-b179-72dbe89673fd",
   "metadata": {},
   "outputs": [
    {
     "name": "stderr",
     "output_type": "stream",
     "text": [
      "C:\\Python3\\lib\\site-packages\\seaborn\\distributions.py:2619: FutureWarning: `distplot` is a deprecated function and will be removed in a future version. Please adapt your code to use either `displot` (a figure-level function with similar flexibility) or `histplot` (an axes-level function for histograms).\n",
      "  warnings.warn(msg, FutureWarning)\n"
     ]
    },
    {
     "data": {
      "text/plain": [
       "<AxesSubplot:xlabel='stateRSQRT', ylabel='Density'>"
      ]
     },
     "execution_count": 112,
     "metadata": {},
     "output_type": "execute_result"
    },
    {
     "data": {
      "image/png": "[encoded data removed]",
      "text/plain": [
       "<Figure size 432x288 with 1 Axes>"
      ]
     },
     "metadata": {
      "needs_background": "light"
     },
     "output_type": "display_data"
    }
   ],
   "source": [
    "sns.distplot(test1['stateRSQRT'])"
   ]
  },
  {
   "cell_type": "code",
   "execution_count": 113,
   "id": "07b6b396-7b56-4fbe-bb61-b6358dfaecbb",
   "metadata": {},
   "outputs": [
    {
     "name": "stderr",
     "output_type": "stream",
     "text": [
      "C:\\Python3\\lib\\site-packages\\pandas\\core\\arraylike.py:397: RuntimeWarning: divide by zero encountered in log\n",
      "  result = getattr(ufunc, method)(*inputs, **kwargs)\n",
      "C:\\Users\\USER\\AppData\\Local\\Temp\\ipykernel_9620\\3558112486.py:1: SettingWithCopyWarning: \n",
      "A value is trying to be set on a copy of a slice from a DataFrame.\n",
      "Try using .loc[row_indexer,col_indexer] = value instead\n",
      "\n",
      "See the caveats in the documentation: https://pandas.pydata.org/pandas-docs/stable/user_guide/indexing.html#returning-a-view-versus-a-copy\n",
      "  test1['stateRLOG'] = np.log(test1['stateR'])\n"
     ]
    }
   ],
   "source": [
    "test1['stateRLOG'] = np.log(test1['stateR'])"
   ]
  },
  {
   "cell_type": "code",
   "execution_count": 114,
   "id": "bfd27549-6198-4623-b6a0-ccbf7cda202f",
   "metadata": {},
   "outputs": [
    {
     "data": {
      "text/html": [
       "<div>\n",
       "<style scoped>\n",
       "    .dataframe tbody tr th:only-of-type {\n",
       "        vertical-align: middle;\n",
       "    }\n",
       "\n",
       "    .dataframe tbody tr th {\n",
       "        vertical-align: top;\n",
       "    }\n",
       "\n",
       "    .dataframe thead th {\n",
       "        text-align: right;\n",
       "    }\n",
       "</style>\n",
       "<table border=\"1\" class=\"dataframe\">\n",
       "  <thead>\n",
       "    <tr style=\"text-align: right;\">\n",
       "      <th></th>\n",
       "      <th>amt</th>\n",
       "      <th>genderR</th>\n",
       "      <th>stateR</th>\n",
       "      <th>age</th>\n",
       "      <th>genderRSQRT</th>\n",
       "      <th>genderRLOG</th>\n",
       "      <th>stateRSQRT</th>\n",
       "      <th>stateRLOG</th>\n",
       "    </tr>\n",
       "  </thead>\n",
       "  <tbody>\n",
       "    <tr>\n",
       "      <th>0</th>\n",
       "      <td>2.86</td>\n",
       "      <td>1</td>\n",
       "      <td>18</td>\n",
       "      <td>55</td>\n",
       "      <td>1.0</td>\n",
       "      <td>0.0</td>\n",
       "      <td>4.242641</td>\n",
       "      <td>2.890372</td>\n",
       "    </tr>\n",
       "    <tr>\n",
       "      <th>1</th>\n",
       "      <td>29.84</td>\n",
       "      <td>0</td>\n",
       "      <td>22</td>\n",
       "      <td>33</td>\n",
       "      <td>0.0</td>\n",
       "      <td>-inf</td>\n",
       "      <td>4.690416</td>\n",
       "      <td>3.091042</td>\n",
       "    </tr>\n",
       "    <tr>\n",
       "      <th>2</th>\n",
       "      <td>41.28</td>\n",
       "      <td>0</td>\n",
       "      <td>0</td>\n",
       "      <td>53</td>\n",
       "      <td>0.0</td>\n",
       "      <td>-inf</td>\n",
       "      <td>0.000000</td>\n",
       "      <td>-inf</td>\n",
       "    </tr>\n",
       "    <tr>\n",
       "      <th>3</th>\n",
       "      <td>60.05</td>\n",
       "      <td>1</td>\n",
       "      <td>1</td>\n",
       "      <td>36</td>\n",
       "      <td>1.0</td>\n",
       "      <td>0.0</td>\n",
       "      <td>1.000000</td>\n",
       "      <td>0.000000</td>\n",
       "    </tr>\n",
       "    <tr>\n",
       "      <th>4</th>\n",
       "      <td>3.19</td>\n",
       "      <td>1</td>\n",
       "      <td>3</td>\n",
       "      <td>68</td>\n",
       "      <td>1.0</td>\n",
       "      <td>0.0</td>\n",
       "      <td>1.732051</td>\n",
       "      <td>1.098612</td>\n",
       "    </tr>\n",
       "  </tbody>\n",
       "</table>\n",
       "</div>"
      ],
      "text/plain": [
       "     amt  genderR  stateR  age  genderRSQRT  genderRLOG  stateRSQRT  stateRLOG\n",
       "0   2.86        1      18   55          1.0         0.0    4.242641   2.890372\n",
       "1  29.84        0      22   33          0.0        -inf    4.690416   3.091042\n",
       "2  41.28        0       0   53          0.0        -inf    0.000000       -inf\n",
       "3  60.05        1       1   36          1.0         0.0    1.000000   0.000000\n",
       "4   3.19        1       3   68          1.0         0.0    1.732051   1.098612"
      ]
     },
     "execution_count": 114,
     "metadata": {},
     "output_type": "execute_result"
    }
   ],
   "source": [
    "test1.head()"
   ]
  },
  {
   "cell_type": "code",
   "execution_count": 115,
   "id": "71040abf-6e5a-428f-87ff-187af77b2823",
   "metadata": {},
   "outputs": [
    {
     "data": {
      "text/plain": [
       "<seaborn.axisgrid.FacetGrid at 0x23a05b00280>"
      ]
     },
     "execution_count": 115,
     "metadata": {},
     "output_type": "execute_result"
    },
    {
     "data": {
      "image/png": "[encoded data removed]",
      "text/plain": [
       "<Figure size 360x360 with 1 Axes>"
      ]
     },
     "metadata": {
      "needs_background": "light"
     },
     "output_type": "display_data"
    }
   ],
   "source": [
    "sns.displot(test1['stateRLOG'])"
   ]
  },
  {
   "cell_type": "code",
   "execution_count": 116,
   "id": "915d1c61-f118-47a8-8fb4-b9246a112304",
   "metadata": {},
   "outputs": [],
   "source": [
    "#HOmogeneity of Variance"
   ]
  },
  {
   "cell_type": "code",
   "execution_count": 117,
   "id": "3cdd3d6e-f613-4477-9e23-00a6d1d58688",
   "metadata": {},
   "outputs": [
    {
     "data": {
      "text/plain": [
       "BartlettResult(statistic=nan, pvalue=nan)"
      ]
     },
     "execution_count": 117,
     "metadata": {},
     "output_type": "execute_result"
    }
   ],
   "source": [
    "scipy.stats.bartlett(test1['stateRLOG'], test1['stateR'])"
   ]
  },
  {
   "cell_type": "code",
   "execution_count": 118,
   "id": "2d0fe776-04a0-4a9b-99e6-1779f5ac0094",
   "metadata": {},
   "outputs": [],
   "source": [
    "#Fligners test"
   ]
  },
  {
   "cell_type": "code",
   "execution_count": 119,
   "id": "53c1492e-edd7-4cbf-aa33-6920b8a59310",
   "metadata": {},
   "outputs": [
    {
     "data": {
      "text/plain": [
       "FlignerResult(statistic=91.5811692286186, pvalue=1.0710741617818809e-21)"
      ]
     },
     "execution_count": 119,
     "metadata": {},
     "output_type": "execute_result"
    }
   ],
   "source": [
    "scipy.stats.fligner(test1['stateRSQRT'], test1['stateR'])"
   ]
  },
  {
   "cell_type": "code",
   "execution_count": 120,
   "id": "58a31fb9-d50b-4392-94a6-6a27ed64943f",
   "metadata": {},
   "outputs": [],
   "source": [
    "#ANOVA for age"
   ]
  },
  {
   "cell_type": "code",
   "execution_count": 121,
   "id": "6f2e623f-d3c1-4629-8176-898d892a490f",
   "metadata": {},
   "outputs": [
    {
     "name": "stderr",
     "output_type": "stream",
     "text": [
      "C:\\Python3\\lib\\site-packages\\seaborn\\distributions.py:2619: FutureWarning: `distplot` is a deprecated function and will be removed in a future version. Please adapt your code to use either `displot` (a figure-level function with similar flexibility) or `histplot` (an axes-level function for histograms).\n",
      "  warnings.warn(msg, FutureWarning)\n"
     ]
    },
    {
     "data": {
      "text/plain": [
       "<AxesSubplot:xlabel='age', ylabel='Density'>"
      ]
     },
     "execution_count": 121,
     "metadata": {},
     "output_type": "execute_result"
    },
    {
     "data": {
      "image/png": "[encoded data removed]",
      "text/plain": [
       "<Figure size 432x288 with 1 Axes>"
      ]
     },
     "metadata": {
      "needs_background": "light"
     },
     "output_type": "display_data"
    }
   ],
   "source": [
    "sns.distplot(test1['age'])"
   ]
  },
  {
   "cell_type": "code",
   "execution_count": 122,
   "id": "f1a719f1-8fdb-4d96-9927-25bf0981341a",
   "metadata": {},
   "outputs": [
    {
     "name": "stderr",
     "output_type": "stream",
     "text": [
      "C:\\Users\\USER\\AppData\\Local\\Temp\\ipykernel_9620\\3453685551.py:1: SettingWithCopyWarning: \n",
      "A value is trying to be set on a copy of a slice from a DataFrame.\n",
      "Try using .loc[row_indexer,col_indexer] = value instead\n",
      "\n",
      "See the caveats in the documentation: https://pandas.pydata.org/pandas-docs/stable/user_guide/indexing.html#returning-a-view-versus-a-copy\n",
      "  test1['ageSQRT'] = np.sqrt(test1['age'])\n"
     ]
    }
   ],
   "source": [
    "test1['ageSQRT'] = np.sqrt(test1['age'])"
   ]
  },
  {
   "cell_type": "code",
   "execution_count": 123,
   "id": "edc18439-9a55-4701-b183-085d71ce80ab",
   "metadata": {},
   "outputs": [
    {
     "data": {
      "text/html": [
       "<div>\n",
       "<style scoped>\n",
       "    .dataframe tbody tr th:only-of-type {\n",
       "        vertical-align: middle;\n",
       "    }\n",
       "\n",
       "    .dataframe tbody tr th {\n",
       "        vertical-align: top;\n",
       "    }\n",
       "\n",
       "    .dataframe thead th {\n",
       "        text-align: right;\n",
       "    }\n",
       "</style>\n",
       "<table border=\"1\" class=\"dataframe\">\n",
       "  <thead>\n",
       "    <tr style=\"text-align: right;\">\n",
       "      <th></th>\n",
       "      <th>amt</th>\n",
       "      <th>genderR</th>\n",
       "      <th>stateR</th>\n",
       "      <th>age</th>\n",
       "      <th>genderRSQRT</th>\n",
       "      <th>genderRLOG</th>\n",
       "      <th>stateRSQRT</th>\n",
       "      <th>stateRLOG</th>\n",
       "      <th>ageSQRT</th>\n",
       "    </tr>\n",
       "  </thead>\n",
       "  <tbody>\n",
       "    <tr>\n",
       "      <th>0</th>\n",
       "      <td>2.86</td>\n",
       "      <td>1</td>\n",
       "      <td>18</td>\n",
       "      <td>55</td>\n",
       "      <td>1.0</td>\n",
       "      <td>0.0</td>\n",
       "      <td>4.242641</td>\n",
       "      <td>2.890372</td>\n",
       "      <td>7.416198</td>\n",
       "    </tr>\n",
       "    <tr>\n",
       "      <th>1</th>\n",
       "      <td>29.84</td>\n",
       "      <td>0</td>\n",
       "      <td>22</td>\n",
       "      <td>33</td>\n",
       "      <td>0.0</td>\n",
       "      <td>-inf</td>\n",
       "      <td>4.690416</td>\n",
       "      <td>3.091042</td>\n",
       "      <td>5.744563</td>\n",
       "    </tr>\n",
       "    <tr>\n",
       "      <th>2</th>\n",
       "      <td>41.28</td>\n",
       "      <td>0</td>\n",
       "      <td>0</td>\n",
       "      <td>53</td>\n",
       "      <td>0.0</td>\n",
       "      <td>-inf</td>\n",
       "      <td>0.000000</td>\n",
       "      <td>-inf</td>\n",
       "      <td>7.280110</td>\n",
       "    </tr>\n",
       "    <tr>\n",
       "      <th>3</th>\n",
       "      <td>60.05</td>\n",
       "      <td>1</td>\n",
       "      <td>1</td>\n",
       "      <td>36</td>\n",
       "      <td>1.0</td>\n",
       "      <td>0.0</td>\n",
       "      <td>1.000000</td>\n",
       "      <td>0.000000</td>\n",
       "      <td>6.000000</td>\n",
       "    </tr>\n",
       "    <tr>\n",
       "      <th>4</th>\n",
       "      <td>3.19</td>\n",
       "      <td>1</td>\n",
       "      <td>3</td>\n",
       "      <td>68</td>\n",
       "      <td>1.0</td>\n",
       "      <td>0.0</td>\n",
       "      <td>1.732051</td>\n",
       "      <td>1.098612</td>\n",
       "      <td>8.246211</td>\n",
       "    </tr>\n",
       "  </tbody>\n",
       "</table>\n",
       "</div>"
      ],
      "text/plain": [
       "     amt  genderR  stateR  age  genderRSQRT  genderRLOG  stateRSQRT  \\\n",
       "0   2.86        1      18   55          1.0         0.0    4.242641   \n",
       "1  29.84        0      22   33          0.0        -inf    4.690416   \n",
       "2  41.28        0       0   53          0.0        -inf    0.000000   \n",
       "3  60.05        1       1   36          1.0         0.0    1.000000   \n",
       "4   3.19        1       3   68          1.0         0.0    1.732051   \n",
       "\n",
       "   stateRLOG   ageSQRT  \n",
       "0   2.890372  7.416198  \n",
       "1   3.091042  5.744563  \n",
       "2       -inf  7.280110  \n",
       "3   0.000000  6.000000  \n",
       "4   1.098612  8.246211  "
      ]
     },
     "execution_count": 123,
     "metadata": {},
     "output_type": "execute_result"
    }
   ],
   "source": [
    "test1.head()"
   ]
  },
  {
   "cell_type": "code",
   "execution_count": 124,
   "id": "7c46917f-e2ee-41a5-95ba-888ef14334c3",
   "metadata": {},
   "outputs": [
    {
     "name": "stderr",
     "output_type": "stream",
     "text": [
      "C:\\Python3\\lib\\site-packages\\seaborn\\distributions.py:2619: FutureWarning: `distplot` is a deprecated function and will be removed in a future version. Please adapt your code to use either `displot` (a figure-level function with similar flexibility) or `histplot` (an axes-level function for histograms).\n",
      "  warnings.warn(msg, FutureWarning)\n"
     ]
    },
    {
     "data": {
      "text/plain": [
       "<AxesSubplot:xlabel='ageSQRT', ylabel='Density'>"
      ]
     },
     "execution_count": 124,
     "metadata": {},
     "output_type": "execute_result"
    },
    {
     "data": {
      "image/png": "[encoded data removed]",
      "text/plain": [
       "<Figure size 432x288 with 1 Axes>"
      ]
     },
     "metadata": {
      "needs_background": "light"
     },
     "output_type": "display_data"
    }
   ],
   "source": [
    "sns.distplot(test1['ageSQRT'])"
   ]
  },
  {
   "cell_type": "code",
   "execution_count": 125,
   "id": "20740f3e-cd45-41cd-8c11-f1d0cde59b88",
   "metadata": {},
   "outputs": [
    {
     "name": "stderr",
     "output_type": "stream",
     "text": [
      "C:\\Users\\USER\\AppData\\Local\\Temp\\ipykernel_9620\\1931934170.py:1: SettingWithCopyWarning: \n",
      "A value is trying to be set on a copy of a slice from a DataFrame.\n",
      "Try using .loc[row_indexer,col_indexer] = value instead\n",
      "\n",
      "See the caveats in the documentation: https://pandas.pydata.org/pandas-docs/stable/user_guide/indexing.html#returning-a-view-versus-a-copy\n",
      "  test1['ageLOG'] = np.log(test1['age'])\n"
     ]
    }
   ],
   "source": [
    "test1['ageLOG'] = np.log(test1['age'])"
   ]
  },
  {
   "cell_type": "code",
   "execution_count": 126,
   "id": "0de3444a-1b1c-4a4a-9833-56bf505725cd",
   "metadata": {},
   "outputs": [
    {
     "data": {
      "text/html": [
       "<div>\n",
       "<style scoped>\n",
       "    .dataframe tbody tr th:only-of-type {\n",
       "        vertical-align: middle;\n",
       "    }\n",
       "\n",
       "    .dataframe tbody tr th {\n",
       "        vertical-align: top;\n",
       "    }\n",
       "\n",
       "    .dataframe thead th {\n",
       "        text-align: right;\n",
       "    }\n",
       "</style>\n",
       "<table border=\"1\" class=\"dataframe\">\n",
       "  <thead>\n",
       "    <tr style=\"text-align: right;\">\n",
       "      <th></th>\n",
       "      <th>amt</th>\n",
       "      <th>genderR</th>\n",
       "      <th>stateR</th>\n",
       "      <th>age</th>\n",
       "      <th>genderRSQRT</th>\n",
       "      <th>genderRLOG</th>\n",
       "      <th>stateRSQRT</th>\n",
       "      <th>stateRLOG</th>\n",
       "      <th>ageSQRT</th>\n",
       "      <th>ageLOG</th>\n",
       "    </tr>\n",
       "  </thead>\n",
       "  <tbody>\n",
       "    <tr>\n",
       "      <th>0</th>\n",
       "      <td>2.86</td>\n",
       "      <td>1</td>\n",
       "      <td>18</td>\n",
       "      <td>55</td>\n",
       "      <td>1.0</td>\n",
       "      <td>0.0</td>\n",
       "      <td>4.242641</td>\n",
       "      <td>2.890372</td>\n",
       "      <td>7.416198</td>\n",
       "      <td>4.007333</td>\n",
       "    </tr>\n",
       "    <tr>\n",
       "      <th>1</th>\n",
       "      <td>29.84</td>\n",
       "      <td>0</td>\n",
       "      <td>22</td>\n",
       "      <td>33</td>\n",
       "      <td>0.0</td>\n",
       "      <td>-inf</td>\n",
       "      <td>4.690416</td>\n",
       "      <td>3.091042</td>\n",
       "      <td>5.744563</td>\n",
       "      <td>3.496508</td>\n",
       "    </tr>\n",
       "    <tr>\n",
       "      <th>2</th>\n",
       "      <td>41.28</td>\n",
       "      <td>0</td>\n",
       "      <td>0</td>\n",
       "      <td>53</td>\n",
       "      <td>0.0</td>\n",
       "      <td>-inf</td>\n",
       "      <td>0.000000</td>\n",
       "      <td>-inf</td>\n",
       "      <td>7.280110</td>\n",
       "      <td>3.970292</td>\n",
       "    </tr>\n",
       "    <tr>\n",
       "      <th>3</th>\n",
       "      <td>60.05</td>\n",
       "      <td>1</td>\n",
       "      <td>1</td>\n",
       "      <td>36</td>\n",
       "      <td>1.0</td>\n",
       "      <td>0.0</td>\n",
       "      <td>1.000000</td>\n",
       "      <td>0.000000</td>\n",
       "      <td>6.000000</td>\n",
       "      <td>3.583519</td>\n",
       "    </tr>\n",
       "    <tr>\n",
       "      <th>4</th>\n",
       "      <td>3.19</td>\n",
       "      <td>1</td>\n",
       "      <td>3</td>\n",
       "      <td>68</td>\n",
       "      <td>1.0</td>\n",
       "      <td>0.0</td>\n",
       "      <td>1.732051</td>\n",
       "      <td>1.098612</td>\n",
       "      <td>8.246211</td>\n",
       "      <td>4.219508</td>\n",
       "    </tr>\n",
       "  </tbody>\n",
       "</table>\n",
       "</div>"
      ],
      "text/plain": [
       "     amt  genderR  stateR  age  genderRSQRT  genderRLOG  stateRSQRT  \\\n",
       "0   2.86        1      18   55          1.0         0.0    4.242641   \n",
       "1  29.84        0      22   33          0.0        -inf    4.690416   \n",
       "2  41.28        0       0   53          0.0        -inf    0.000000   \n",
       "3  60.05        1       1   36          1.0         0.0    1.000000   \n",
       "4   3.19        1       3   68          1.0         0.0    1.732051   \n",
       "\n",
       "   stateRLOG   ageSQRT    ageLOG  \n",
       "0   2.890372  7.416198  4.007333  \n",
       "1   3.091042  5.744563  3.496508  \n",
       "2       -inf  7.280110  3.970292  \n",
       "3   0.000000  6.000000  3.583519  \n",
       "4   1.098612  8.246211  4.219508  "
      ]
     },
     "execution_count": 126,
     "metadata": {},
     "output_type": "execute_result"
    }
   ],
   "source": [
    "test1.head()"
   ]
  },
  {
   "cell_type": "code",
   "execution_count": 127,
   "id": "2516a001-b735-4f65-8c6c-334ca7b85ad2",
   "metadata": {},
   "outputs": [
    {
     "data": {
      "text/plain": [
       "<seaborn.axisgrid.FacetGrid at 0x23a05b31b70>"
      ]
     },
     "execution_count": 127,
     "metadata": {},
     "output_type": "execute_result"
    },
    {
     "data": {
      "image/png": "[encoded data removed]",
      "text/plain": [
       "<Figure size 360x360 with 1 Axes>"
      ]
     },
     "metadata": {
      "needs_background": "light"
     },
     "output_type": "display_data"
    }
   ],
   "source": [
    "sns.displot(test1['ageLOG'])"
   ]
  },
  {
   "cell_type": "code",
   "execution_count": 128,
   "id": "cc0afae9-ad14-4b6c-91e6-5b64c4c5ee9f",
   "metadata": {},
   "outputs": [],
   "source": [
    "#Homogeneity of Variance"
   ]
  },
  {
   "cell_type": "code",
   "execution_count": 129,
   "id": "d3eea328-7819-4e1e-a01f-62f00b0cb4d8",
   "metadata": {},
   "outputs": [
    {
     "data": {
      "text/plain": [
       "BartlettResult(statistic=631.7077118274669, pvalue=2.1252521681186953e-139)"
      ]
     },
     "execution_count": 129,
     "metadata": {},
     "output_type": "execute_result"
    }
   ],
   "source": [
    "scipy.stats.bartlett(test1['ageLOG'], test1['age'])"
   ]
  },
  {
   "cell_type": "code",
   "execution_count": 130,
   "id": "4e14795c-1fae-4311-8eaf-c911c9055d21",
   "metadata": {},
   "outputs": [],
   "source": [
    "#Fligners test"
   ]
  },
  {
   "cell_type": "code",
   "execution_count": 131,
   "id": "49d9a0d0-21b8-494e-9663-b1758a484cba",
   "metadata": {},
   "outputs": [
    {
     "data": {
      "text/plain": [
       "FlignerResult(statistic=108.18953035360919, pvalue=2.442665586099835e-25)"
      ]
     },
     "execution_count": 131,
     "metadata": {},
     "output_type": "execute_result"
    }
   ],
   "source": [
    "scipy.stats.fligner(test1['ageSQRT'], test1['age'])"
   ]
  },
  {
   "cell_type": "code",
   "execution_count": 132,
   "id": "66b4204e-aab4-4ffd-a99a-9f34a4d1ba0b",
   "metadata": {},
   "outputs": [],
   "source": [
    "#ANOVA fraudTrain\n",
    "#ANOVA for amt"
   ]
  },
  {
   "cell_type": "code",
   "execution_count": 133,
   "id": "8fef77c0-9210-46e7-abe4-c59f1f664699",
   "metadata": {},
   "outputs": [
    {
     "data": {
      "text/html": [
       "<div>\n",
       "<style scoped>\n",
       "    .dataframe tbody tr th:only-of-type {\n",
       "        vertical-align: middle;\n",
       "    }\n",
       "\n",
       "    .dataframe tbody tr th {\n",
       "        vertical-align: top;\n",
       "    }\n",
       "\n",
       "    .dataframe thead th {\n",
       "        text-align: right;\n",
       "    }\n",
       "</style>\n",
       "<table border=\"1\" class=\"dataframe\">\n",
       "  <thead>\n",
       "    <tr style=\"text-align: right;\">\n",
       "      <th></th>\n",
       "      <th>Unnamed: 0</th>\n",
       "      <th>amt</th>\n",
       "      <th>gender</th>\n",
       "      <th>state</th>\n",
       "      <th>job</th>\n",
       "      <th>dob</th>\n",
       "      <th>genderR</th>\n",
       "      <th>stateR</th>\n",
       "      <th>year</th>\n",
       "      <th>month</th>\n",
       "      <th>day</th>\n",
       "      <th>age</th>\n",
       "    </tr>\n",
       "  </thead>\n",
       "  <tbody>\n",
       "    <tr>\n",
       "      <th>0</th>\n",
       "      <td>0</td>\n",
       "      <td>4.97</td>\n",
       "      <td>F</td>\n",
       "      <td>NC</td>\n",
       "      <td>Psychologist, counselling</td>\n",
       "      <td>1988-03-09</td>\n",
       "      <td>0</td>\n",
       "      <td>20</td>\n",
       "      <td>1988</td>\n",
       "      <td>03</td>\n",
       "      <td>09</td>\n",
       "      <td>35</td>\n",
       "    </tr>\n",
       "    <tr>\n",
       "      <th>1</th>\n",
       "      <td>1</td>\n",
       "      <td>107.23</td>\n",
       "      <td>F</td>\n",
       "      <td>WA</td>\n",
       "      <td>Special educational needs teacher</td>\n",
       "      <td>1978-06-21</td>\n",
       "      <td>0</td>\n",
       "      <td>15</td>\n",
       "      <td>1978</td>\n",
       "      <td>06</td>\n",
       "      <td>21</td>\n",
       "      <td>45</td>\n",
       "    </tr>\n",
       "    <tr>\n",
       "      <th>2</th>\n",
       "      <td>2</td>\n",
       "      <td>220.11</td>\n",
       "      <td>M</td>\n",
       "      <td>ID</td>\n",
       "      <td>Nature conservation officer</td>\n",
       "      <td>1962-01-19</td>\n",
       "      <td>1</td>\n",
       "      <td>41</td>\n",
       "      <td>1962</td>\n",
       "      <td>01</td>\n",
       "      <td>19</td>\n",
       "      <td>61</td>\n",
       "    </tr>\n",
       "    <tr>\n",
       "      <th>3</th>\n",
       "      <td>3</td>\n",
       "      <td>45.00</td>\n",
       "      <td>M</td>\n",
       "      <td>MT</td>\n",
       "      <td>Patent attorney</td>\n",
       "      <td>1967-01-12</td>\n",
       "      <td>1</td>\n",
       "      <td>26</td>\n",
       "      <td>1967</td>\n",
       "      <td>01</td>\n",
       "      <td>12</td>\n",
       "      <td>56</td>\n",
       "    </tr>\n",
       "    <tr>\n",
       "      <th>4</th>\n",
       "      <td>4</td>\n",
       "      <td>41.96</td>\n",
       "      <td>M</td>\n",
       "      <td>VA</td>\n",
       "      <td>Dance movement psychotherapist</td>\n",
       "      <td>1986-03-28</td>\n",
       "      <td>1</td>\n",
       "      <td>7</td>\n",
       "      <td>1986</td>\n",
       "      <td>03</td>\n",
       "      <td>28</td>\n",
       "      <td>37</td>\n",
       "    </tr>\n",
       "    <tr>\n",
       "      <th>...</th>\n",
       "      <td>...</td>\n",
       "      <td>...</td>\n",
       "      <td>...</td>\n",
       "      <td>...</td>\n",
       "      <td>...</td>\n",
       "      <td>...</td>\n",
       "      <td>...</td>\n",
       "      <td>...</td>\n",
       "      <td>...</td>\n",
       "      <td>...</td>\n",
       "      <td>...</td>\n",
       "      <td>...</td>\n",
       "    </tr>\n",
       "    <tr>\n",
       "      <th>95</th>\n",
       "      <td>95</td>\n",
       "      <td>3.35</td>\n",
       "      <td>F</td>\n",
       "      <td>IA</td>\n",
       "      <td>Engineering geologist</td>\n",
       "      <td>1971-08-20</td>\n",
       "      <td>0</td>\n",
       "      <td>2</td>\n",
       "      <td>1971</td>\n",
       "      <td>08</td>\n",
       "      <td>20</td>\n",
       "      <td>52</td>\n",
       "    </tr>\n",
       "    <tr>\n",
       "      <th>96</th>\n",
       "      <td>96</td>\n",
       "      <td>50.61</td>\n",
       "      <td>M</td>\n",
       "      <td>IA</td>\n",
       "      <td>Agricultural consultant</td>\n",
       "      <td>1957-03-06</td>\n",
       "      <td>1</td>\n",
       "      <td>2</td>\n",
       "      <td>1957</td>\n",
       "      <td>03</td>\n",
       "      <td>06</td>\n",
       "      <td>66</td>\n",
       "    </tr>\n",
       "    <tr>\n",
       "      <th>97</th>\n",
       "      <td>97</td>\n",
       "      <td>50.74</td>\n",
       "      <td>F</td>\n",
       "      <td>TX</td>\n",
       "      <td>Systems developer</td>\n",
       "      <td>1970-09-11</td>\n",
       "      <td>0</td>\n",
       "      <td>6</td>\n",
       "      <td>1970</td>\n",
       "      <td>09</td>\n",
       "      <td>11</td>\n",
       "      <td>53</td>\n",
       "    </tr>\n",
       "    <tr>\n",
       "      <th>98</th>\n",
       "      <td>98</td>\n",
       "      <td>186.73</td>\n",
       "      <td>F</td>\n",
       "      <td>FL</td>\n",
       "      <td>Paramedic</td>\n",
       "      <td>1977-01-04</td>\n",
       "      <td>0</td>\n",
       "      <td>8</td>\n",
       "      <td>1977</td>\n",
       "      <td>01</td>\n",
       "      <td>04</td>\n",
       "      <td>46</td>\n",
       "    </tr>\n",
       "    <tr>\n",
       "      <th>99</th>\n",
       "      <td>99</td>\n",
       "      <td>39.95</td>\n",
       "      <td>M</td>\n",
       "      <td>AR</td>\n",
       "      <td>Financial adviser</td>\n",
       "      <td>1986-06-11</td>\n",
       "      <td>1</td>\n",
       "      <td>11</td>\n",
       "      <td>1986</td>\n",
       "      <td>06</td>\n",
       "      <td>11</td>\n",
       "      <td>37</td>\n",
       "    </tr>\n",
       "  </tbody>\n",
       "</table>\n",
       "<p>100 rows × 12 columns</p>\n",
       "</div>"
      ],
      "text/plain": [
       "    Unnamed: 0     amt gender state                                job  \\\n",
       "0            0    4.97      F    NC          Psychologist, counselling   \n",
       "1            1  107.23      F    WA  Special educational needs teacher   \n",
       "2            2  220.11      M    ID        Nature conservation officer   \n",
       "3            3   45.00      M    MT                    Patent attorney   \n",
       "4            4   41.96      M    VA     Dance movement psychotherapist   \n",
       "..         ...     ...    ...   ...                                ...   \n",
       "95          95    3.35      F    IA              Engineering geologist   \n",
       "96          96   50.61      M    IA            Agricultural consultant   \n",
       "97          97   50.74      F    TX                  Systems developer   \n",
       "98          98  186.73      F    FL                          Paramedic   \n",
       "99          99   39.95      M    AR                  Financial adviser   \n",
       "\n",
       "           dob  genderR  stateR  year month day  age  \n",
       "0   1988-03-09        0      20  1988    03  09   35  \n",
       "1   1978-06-21        0      15  1978    06  21   45  \n",
       "2   1962-01-19        1      41  1962    01  19   61  \n",
       "3   1967-01-12        1      26  1967    01  12   56  \n",
       "4   1986-03-28        1       7  1986    03  28   37  \n",
       "..         ...      ...     ...   ...   ...  ..  ...  \n",
       "95  1971-08-20        0       2  1971    08  20   52  \n",
       "96  1957-03-06        1       2  1957    03  06   66  \n",
       "97  1970-09-11        0       6  1970    09  11   53  \n",
       "98  1977-01-04        0       8  1977    01  04   46  \n",
       "99  1986-06-11        1      11  1986    06  11   37  \n",
       "\n",
       "[100 rows x 12 columns]"
      ]
     },
     "execution_count": 133,
     "metadata": {},
     "output_type": "execute_result"
    }
   ],
   "source": [
    "fraudTrain"
   ]
  },
  {
   "cell_type": "code",
   "execution_count": 134,
   "id": "5216a538-33df-4bcb-b515-237822d473c0",
   "metadata": {},
   "outputs": [],
   "source": [
    "test1 = fraudTrain[['amt', 'genderR', 'stateR', 'age']]"
   ]
  },
  {
   "cell_type": "code",
   "execution_count": 135,
   "id": "5bf1e5bc-34f8-40d6-b15a-75cbc8f7075d",
   "metadata": {},
   "outputs": [
    {
     "data": {
      "text/html": [
       "<div>\n",
       "<style scoped>\n",
       "    .dataframe tbody tr th:only-of-type {\n",
       "        vertical-align: middle;\n",
       "    }\n",
       "\n",
       "    .dataframe tbody tr th {\n",
       "        vertical-align: top;\n",
       "    }\n",
       "\n",
       "    .dataframe thead th {\n",
       "        text-align: right;\n",
       "    }\n",
       "</style>\n",
       "<table border=\"1\" class=\"dataframe\">\n",
       "  <thead>\n",
       "    <tr style=\"text-align: right;\">\n",
       "      <th></th>\n",
       "      <th>amt</th>\n",
       "      <th>genderR</th>\n",
       "      <th>stateR</th>\n",
       "      <th>age</th>\n",
       "    </tr>\n",
       "  </thead>\n",
       "  <tbody>\n",
       "    <tr>\n",
       "      <th>0</th>\n",
       "      <td>4.97</td>\n",
       "      <td>0</td>\n",
       "      <td>20</td>\n",
       "      <td>35</td>\n",
       "    </tr>\n",
       "    <tr>\n",
       "      <th>1</th>\n",
       "      <td>107.23</td>\n",
       "      <td>0</td>\n",
       "      <td>15</td>\n",
       "      <td>45</td>\n",
       "    </tr>\n",
       "    <tr>\n",
       "      <th>2</th>\n",
       "      <td>220.11</td>\n",
       "      <td>1</td>\n",
       "      <td>41</td>\n",
       "      <td>61</td>\n",
       "    </tr>\n",
       "    <tr>\n",
       "      <th>3</th>\n",
       "      <td>45.00</td>\n",
       "      <td>1</td>\n",
       "      <td>26</td>\n",
       "      <td>56</td>\n",
       "    </tr>\n",
       "    <tr>\n",
       "      <th>4</th>\n",
       "      <td>41.96</td>\n",
       "      <td>1</td>\n",
       "      <td>7</td>\n",
       "      <td>37</td>\n",
       "    </tr>\n",
       "  </tbody>\n",
       "</table>\n",
       "</div>"
      ],
      "text/plain": [
       "      amt  genderR  stateR  age\n",
       "0    4.97        0      20   35\n",
       "1  107.23        0      15   45\n",
       "2  220.11        1      41   61\n",
       "3   45.00        1      26   56\n",
       "4   41.96        1       7   37"
      ]
     },
     "execution_count": 135,
     "metadata": {},
     "output_type": "execute_result"
    }
   ],
   "source": [
    "test1.head()"
   ]
  },
  {
   "cell_type": "code",
   "execution_count": 136,
   "id": "dbcc6ac2-2099-46bd-97b4-fe85333528af",
   "metadata": {},
   "outputs": [
    {
     "name": "stderr",
     "output_type": "stream",
     "text": [
      "C:\\Python3\\lib\\site-packages\\seaborn\\distributions.py:2619: FutureWarning: `distplot` is a deprecated function and will be removed in a future version. Please adapt your code to use either `displot` (a figure-level function with similar flexibility) or `histplot` (an axes-level function for histograms).\n",
      "  warnings.warn(msg, FutureWarning)\n"
     ]
    },
    {
     "data": {
      "text/plain": [
       "<AxesSubplot:xlabel='amt', ylabel='Density'>"
      ]
     },
     "execution_count": 136,
     "metadata": {},
     "output_type": "execute_result"
    },
    {
     "data": {
      "image/png": "[encoded data removed]",
      "text/plain": [
       "<Figure size 432x288 with 1 Axes>"
      ]
     },
     "metadata": {
      "needs_background": "light"
     },
     "output_type": "display_data"
    }
   ],
   "source": [
    "sns.distplot(test1['amt'])"
   ]
  },
  {
   "cell_type": "code",
   "execution_count": 137,
   "id": "ef853296-c03b-4259-a69f-94d85bc6ec44",
   "metadata": {},
   "outputs": [
    {
     "name": "stderr",
     "output_type": "stream",
     "text": [
      "C:\\Users\\USER\\AppData\\Local\\Temp\\ipykernel_9620\\4011242787.py:1: SettingWithCopyWarning: \n",
      "A value is trying to be set on a copy of a slice from a DataFrame.\n",
      "Try using .loc[row_indexer,col_indexer] = value instead\n",
      "\n",
      "See the caveats in the documentation: https://pandas.pydata.org/pandas-docs/stable/user_guide/indexing.html#returning-a-view-versus-a-copy\n",
      "  test1['amtSQRT'] = np.sqrt(test1['amt'])\n"
     ]
    }
   ],
   "source": [
    "test1['amtSQRT'] = np.sqrt(test1['amt'])"
   ]
  },
  {
   "cell_type": "code",
   "execution_count": 138,
   "id": "5e27abbe-928d-49b7-948d-0e45d7dfa26c",
   "metadata": {},
   "outputs": [
    {
     "data": {
      "text/html": [
       "<div>\n",
       "<style scoped>\n",
       "    .dataframe tbody tr th:only-of-type {\n",
       "        vertical-align: middle;\n",
       "    }\n",
       "\n",
       "    .dataframe tbody tr th {\n",
       "        vertical-align: top;\n",
       "    }\n",
       "\n",
       "    .dataframe thead th {\n",
       "        text-align: right;\n",
       "    }\n",
       "</style>\n",
       "<table border=\"1\" class=\"dataframe\">\n",
       "  <thead>\n",
       "    <tr style=\"text-align: right;\">\n",
       "      <th></th>\n",
       "      <th>amt</th>\n",
       "      <th>genderR</th>\n",
       "      <th>stateR</th>\n",
       "      <th>age</th>\n",
       "      <th>amtSQRT</th>\n",
       "    </tr>\n",
       "  </thead>\n",
       "  <tbody>\n",
       "    <tr>\n",
       "      <th>0</th>\n",
       "      <td>4.97</td>\n",
       "      <td>0</td>\n",
       "      <td>20</td>\n",
       "      <td>35</td>\n",
       "      <td>2.229350</td>\n",
       "    </tr>\n",
       "    <tr>\n",
       "      <th>1</th>\n",
       "      <td>107.23</td>\n",
       "      <td>0</td>\n",
       "      <td>15</td>\n",
       "      <td>45</td>\n",
       "      <td>10.355192</td>\n",
       "    </tr>\n",
       "    <tr>\n",
       "      <th>2</th>\n",
       "      <td>220.11</td>\n",
       "      <td>1</td>\n",
       "      <td>41</td>\n",
       "      <td>61</td>\n",
       "      <td>14.836105</td>\n",
       "    </tr>\n",
       "    <tr>\n",
       "      <th>3</th>\n",
       "      <td>45.00</td>\n",
       "      <td>1</td>\n",
       "      <td>26</td>\n",
       "      <td>56</td>\n",
       "      <td>6.708204</td>\n",
       "    </tr>\n",
       "    <tr>\n",
       "      <th>4</th>\n",
       "      <td>41.96</td>\n",
       "      <td>1</td>\n",
       "      <td>7</td>\n",
       "      <td>37</td>\n",
       "      <td>6.477654</td>\n",
       "    </tr>\n",
       "  </tbody>\n",
       "</table>\n",
       "</div>"
      ],
      "text/plain": [
       "      amt  genderR  stateR  age    amtSQRT\n",
       "0    4.97        0      20   35   2.229350\n",
       "1  107.23        0      15   45  10.355192\n",
       "2  220.11        1      41   61  14.836105\n",
       "3   45.00        1      26   56   6.708204\n",
       "4   41.96        1       7   37   6.477654"
      ]
     },
     "execution_count": 138,
     "metadata": {},
     "output_type": "execute_result"
    }
   ],
   "source": [
    "test1.head()"
   ]
  },
  {
   "cell_type": "code",
   "execution_count": 139,
   "id": "101d7df1-9614-486e-ace1-5fe52f07c465",
   "metadata": {},
   "outputs": [
    {
     "name": "stderr",
     "output_type": "stream",
     "text": [
      "C:\\Python3\\lib\\site-packages\\seaborn\\distributions.py:2619: FutureWarning: `distplot` is a deprecated function and will be removed in a future version. Please adapt your code to use either `displot` (a figure-level function with similar flexibility) or `histplot` (an axes-level function for histograms).\n",
      "  warnings.warn(msg, FutureWarning)\n"
     ]
    },
    {
     "data": {
      "text/plain": [
       "<AxesSubplot:xlabel='amtSQRT', ylabel='Density'>"
      ]
     },
     "execution_count": 139,
     "metadata": {},
     "output_type": "execute_result"
    },
    {
     "data": {
      "image/png": "[encoded data removed]",
      "text/plain": [
       "<Figure size 432x288 with 1 Axes>"
      ]
     },
     "metadata": {
      "needs_background": "light"
     },
     "output_type": "display_data"
    }
   ],
   "source": [
    "sns.distplot(test1['amtSQRT'])"
   ]
  },
  {
   "cell_type": "code",
   "execution_count": 140,
   "id": "85de0cff-2fdb-499b-8e99-0564d2242f4c",
   "metadata": {},
   "outputs": [
    {
     "name": "stderr",
     "output_type": "stream",
     "text": [
      "C:\\Users\\USER\\AppData\\Local\\Temp\\ipykernel_9620\\165662576.py:1: SettingWithCopyWarning: \n",
      "A value is trying to be set on a copy of a slice from a DataFrame.\n",
      "Try using .loc[row_indexer,col_indexer] = value instead\n",
      "\n",
      "See the caveats in the documentation: https://pandas.pydata.org/pandas-docs/stable/user_guide/indexing.html#returning-a-view-versus-a-copy\n",
      "  test1['amtLOG'] = np.log(test1['amt'])\n"
     ]
    }
   ],
   "source": [
    "test1['amtLOG'] = np.log(test1['amt'])"
   ]
  },
  {
   "cell_type": "code",
   "execution_count": 141,
   "id": "abdab91d-2b59-4357-87d8-f223030d659a",
   "metadata": {},
   "outputs": [
    {
     "data": {
      "text/html": [
       "<div>\n",
       "<style scoped>\n",
       "    .dataframe tbody tr th:only-of-type {\n",
       "        vertical-align: middle;\n",
       "    }\n",
       "\n",
       "    .dataframe tbody tr th {\n",
       "        vertical-align: top;\n",
       "    }\n",
       "\n",
       "    .dataframe thead th {\n",
       "        text-align: right;\n",
       "    }\n",
       "</style>\n",
       "<table border=\"1\" class=\"dataframe\">\n",
       "  <thead>\n",
       "    <tr style=\"text-align: right;\">\n",
       "      <th></th>\n",
       "      <th>amt</th>\n",
       "      <th>genderR</th>\n",
       "      <th>stateR</th>\n",
       "      <th>age</th>\n",
       "      <th>amtSQRT</th>\n",
       "      <th>amtLOG</th>\n",
       "    </tr>\n",
       "  </thead>\n",
       "  <tbody>\n",
       "    <tr>\n",
       "      <th>0</th>\n",
       "      <td>4.97</td>\n",
       "      <td>0</td>\n",
       "      <td>20</td>\n",
       "      <td>35</td>\n",
       "      <td>2.229350</td>\n",
       "      <td>1.603420</td>\n",
       "    </tr>\n",
       "    <tr>\n",
       "      <th>1</th>\n",
       "      <td>107.23</td>\n",
       "      <td>0</td>\n",
       "      <td>15</td>\n",
       "      <td>45</td>\n",
       "      <td>10.355192</td>\n",
       "      <td>4.674976</td>\n",
       "    </tr>\n",
       "    <tr>\n",
       "      <th>2</th>\n",
       "      <td>220.11</td>\n",
       "      <td>1</td>\n",
       "      <td>41</td>\n",
       "      <td>61</td>\n",
       "      <td>14.836105</td>\n",
       "      <td>5.394127</td>\n",
       "    </tr>\n",
       "    <tr>\n",
       "      <th>3</th>\n",
       "      <td>45.00</td>\n",
       "      <td>1</td>\n",
       "      <td>26</td>\n",
       "      <td>56</td>\n",
       "      <td>6.708204</td>\n",
       "      <td>3.806662</td>\n",
       "    </tr>\n",
       "    <tr>\n",
       "      <th>4</th>\n",
       "      <td>41.96</td>\n",
       "      <td>1</td>\n",
       "      <td>7</td>\n",
       "      <td>37</td>\n",
       "      <td>6.477654</td>\n",
       "      <td>3.736717</td>\n",
       "    </tr>\n",
       "  </tbody>\n",
       "</table>\n",
       "</div>"
      ],
      "text/plain": [
       "      amt  genderR  stateR  age    amtSQRT    amtLOG\n",
       "0    4.97        0      20   35   2.229350  1.603420\n",
       "1  107.23        0      15   45  10.355192  4.674976\n",
       "2  220.11        1      41   61  14.836105  5.394127\n",
       "3   45.00        1      26   56   6.708204  3.806662\n",
       "4   41.96        1       7   37   6.477654  3.736717"
      ]
     },
     "execution_count": 141,
     "metadata": {},
     "output_type": "execute_result"
    }
   ],
   "source": [
    "test1.head()"
   ]
  },
  {
   "cell_type": "code",
   "execution_count": 142,
   "id": "a0a41ebc-b4bf-4eab-bee9-2a1c47b3c15b",
   "metadata": {},
   "outputs": [
    {
     "data": {
      "text/plain": [
       "<seaborn.axisgrid.FacetGrid at 0x23a05e0d0c0>"
      ]
     },
     "execution_count": 142,
     "metadata": {},
     "output_type": "execute_result"
    },
    {
     "data": {
      "image/png": "[encoded data removed]",
      "text/plain": [
       "<Figure size 360x360 with 1 Axes>"
      ]
     },
     "metadata": {
      "needs_background": "light"
     },
     "output_type": "display_data"
    }
   ],
   "source": [
    "sns.displot(test1['amtLOG'])"
   ]
  },
  {
   "cell_type": "code",
   "execution_count": 143,
   "id": "b178da33-f2f2-4e41-a509-15c69c43af9e",
   "metadata": {},
   "outputs": [],
   "source": [
    "#Homogeneity of Variance"
   ]
  },
  {
   "cell_type": "code",
   "execution_count": 144,
   "id": "81358271-e06a-4b18-ac3f-c55c7e3f3c92",
   "metadata": {},
   "outputs": [
    {
     "data": {
      "text/plain": [
       "BartlettResult(statistic=667.8057873942379, pvalue=2.997663185427467e-147)"
      ]
     },
     "execution_count": 144,
     "metadata": {},
     "output_type": "execute_result"
    }
   ],
   "source": [
    "scipy.stats.bartlett(test1['amtLOG'], test1['amt'])"
   ]
  },
  {
   "cell_type": "code",
   "execution_count": 145,
   "id": "9de1dcdb-d62b-49c0-805c-ae8fd0f87514",
   "metadata": {},
   "outputs": [],
   "source": [
    "#Fligners test"
   ]
  },
  {
   "cell_type": "code",
   "execution_count": 146,
   "id": "a5621828-15d4-4af9-9d73-5a30a5f07dcd",
   "metadata": {},
   "outputs": [
    {
     "data": {
      "text/plain": [
       "FlignerResult(statistic=101.02139711363873, pvalue=9.099514318725704e-24)"
      ]
     },
     "execution_count": 146,
     "metadata": {},
     "output_type": "execute_result"
    }
   ],
   "source": [
    "scipy.stats.fligner(test1['amtSQRT'], test1['amt'])"
   ]
  },
  {
   "cell_type": "code",
   "execution_count": 147,
   "id": "952ef1fe-64f3-49ea-aa24-564fd4093ce3",
   "metadata": {},
   "outputs": [],
   "source": [
    "#ANOVA for gender"
   ]
  },
  {
   "cell_type": "code",
   "execution_count": 148,
   "id": "3df61a81-8b16-4d6f-8eb3-7c04f48a4a25",
   "metadata": {},
   "outputs": [
    {
     "name": "stderr",
     "output_type": "stream",
     "text": [
      "C:\\Python3\\lib\\site-packages\\seaborn\\distributions.py:2619: FutureWarning: `distplot` is a deprecated function and will be removed in a future version. Please adapt your code to use either `displot` (a figure-level function with similar flexibility) or `histplot` (an axes-level function for histograms).\n",
      "  warnings.warn(msg, FutureWarning)\n"
     ]
    },
    {
     "data": {
      "text/plain": [
       "<AxesSubplot:xlabel='genderR', ylabel='Density'>"
      ]
     },
     "execution_count": 148,
     "metadata": {},
     "output_type": "execute_result"
    },
    {
     "data": {
      "image/png": "[encoded data removed]",
      "text/plain": [
       "<Figure size 432x288 with 1 Axes>"
      ]
     },
     "metadata": {
      "needs_background": "light"
     },
     "output_type": "display_data"
    }
   ],
   "source": [
    "sns.distplot(test1['genderR'])"
   ]
  },
  {
   "cell_type": "code",
   "execution_count": 149,
   "id": "75a669fd-3a2b-4edf-a33e-f4b6e7c8838d",
   "metadata": {},
   "outputs": [
    {
     "name": "stderr",
     "output_type": "stream",
     "text": [
      "C:\\Users\\USER\\AppData\\Local\\Temp\\ipykernel_9620\\2709121412.py:1: SettingWithCopyWarning: \n",
      "A value is trying to be set on a copy of a slice from a DataFrame.\n",
      "Try using .loc[row_indexer,col_indexer] = value instead\n",
      "\n",
      "See the caveats in the documentation: https://pandas.pydata.org/pandas-docs/stable/user_guide/indexing.html#returning-a-view-versus-a-copy\n",
      "  test1['genderRSQRT'] = np.sqrt(test1['genderR'])\n"
     ]
    }
   ],
   "source": [
    "test1['genderRSQRT'] = np.sqrt(test1['genderR'])"
   ]
  },
  {
   "cell_type": "code",
   "execution_count": 150,
   "id": "f614574a-b884-4df0-b512-fce96ae1b0df",
   "metadata": {},
   "outputs": [
    {
     "data": {
      "text/html": [
       "<div>\n",
       "<style scoped>\n",
       "    .dataframe tbody tr th:only-of-type {\n",
       "        vertical-align: middle;\n",
       "    }\n",
       "\n",
       "    .dataframe tbody tr th {\n",
       "        vertical-align: top;\n",
       "    }\n",
       "\n",
       "    .dataframe thead th {\n",
       "        text-align: right;\n",
       "    }\n",
       "</style>\n",
       "<table border=\"1\" class=\"dataframe\">\n",
       "  <thead>\n",
       "    <tr style=\"text-align: right;\">\n",
       "      <th></th>\n",
       "      <th>amt</th>\n",
       "      <th>genderR</th>\n",
       "      <th>stateR</th>\n",
       "      <th>age</th>\n",
       "      <th>amtSQRT</th>\n",
       "      <th>amtLOG</th>\n",
       "      <th>genderRSQRT</th>\n",
       "    </tr>\n",
       "  </thead>\n",
       "  <tbody>\n",
       "    <tr>\n",
       "      <th>0</th>\n",
       "      <td>4.97</td>\n",
       "      <td>0</td>\n",
       "      <td>20</td>\n",
       "      <td>35</td>\n",
       "      <td>2.229350</td>\n",
       "      <td>1.603420</td>\n",
       "      <td>0.0</td>\n",
       "    </tr>\n",
       "    <tr>\n",
       "      <th>1</th>\n",
       "      <td>107.23</td>\n",
       "      <td>0</td>\n",
       "      <td>15</td>\n",
       "      <td>45</td>\n",
       "      <td>10.355192</td>\n",
       "      <td>4.674976</td>\n",
       "      <td>0.0</td>\n",
       "    </tr>\n",
       "    <tr>\n",
       "      <th>2</th>\n",
       "      <td>220.11</td>\n",
       "      <td>1</td>\n",
       "      <td>41</td>\n",
       "      <td>61</td>\n",
       "      <td>14.836105</td>\n",
       "      <td>5.394127</td>\n",
       "      <td>1.0</td>\n",
       "    </tr>\n",
       "    <tr>\n",
       "      <th>3</th>\n",
       "      <td>45.00</td>\n",
       "      <td>1</td>\n",
       "      <td>26</td>\n",
       "      <td>56</td>\n",
       "      <td>6.708204</td>\n",
       "      <td>3.806662</td>\n",
       "      <td>1.0</td>\n",
       "    </tr>\n",
       "    <tr>\n",
       "      <th>4</th>\n",
       "      <td>41.96</td>\n",
       "      <td>1</td>\n",
       "      <td>7</td>\n",
       "      <td>37</td>\n",
       "      <td>6.477654</td>\n",
       "      <td>3.736717</td>\n",
       "      <td>1.0</td>\n",
       "    </tr>\n",
       "  </tbody>\n",
       "</table>\n",
       "</div>"
      ],
      "text/plain": [
       "      amt  genderR  stateR  age    amtSQRT    amtLOG  genderRSQRT\n",
       "0    4.97        0      20   35   2.229350  1.603420          0.0\n",
       "1  107.23        0      15   45  10.355192  4.674976          0.0\n",
       "2  220.11        1      41   61  14.836105  5.394127          1.0\n",
       "3   45.00        1      26   56   6.708204  3.806662          1.0\n",
       "4   41.96        1       7   37   6.477654  3.736717          1.0"
      ]
     },
     "execution_count": 150,
     "metadata": {},
     "output_type": "execute_result"
    }
   ],
   "source": [
    "test1.head()"
   ]
  },
  {
   "cell_type": "code",
   "execution_count": 151,
   "id": "7d5cf850-fa93-4ed8-a750-6179b122908b",
   "metadata": {},
   "outputs": [
    {
     "name": "stderr",
     "output_type": "stream",
     "text": [
      "C:\\Python3\\lib\\site-packages\\seaborn\\distributions.py:2619: FutureWarning: `distplot` is a deprecated function and will be removed in a future version. Please adapt your code to use either `displot` (a figure-level function with similar flexibility) or `histplot` (an axes-level function for histograms).\n",
      "  warnings.warn(msg, FutureWarning)\n"
     ]
    },
    {
     "data": {
      "text/plain": [
       "<AxesSubplot:xlabel='genderRSQRT', ylabel='Density'>"
      ]
     },
     "execution_count": 151,
     "metadata": {},
     "output_type": "execute_result"
    },
    {
     "data": {
      "image/png": "[encoded data removed]",
      "text/plain": [
       "<Figure size 432x288 with 1 Axes>"
      ]
     },
     "metadata": {
      "needs_background": "light"
     },
     "output_type": "display_data"
    }
   ],
   "source": [
    "sns.distplot(test1['genderRSQRT'])"
   ]
  },
  {
   "cell_type": "code",
   "execution_count": 152,
   "id": "4392a183-7408-4e8a-a172-5ab8e07f1d1c",
   "metadata": {},
   "outputs": [
    {
     "name": "stderr",
     "output_type": "stream",
     "text": [
      "C:\\Python3\\lib\\site-packages\\pandas\\core\\arraylike.py:397: RuntimeWarning: divide by zero encountered in log\n",
      "  result = getattr(ufunc, method)(*inputs, **kwargs)\n",
      "C:\\Users\\USER\\AppData\\Local\\Temp\\ipykernel_9620\\2020313024.py:1: SettingWithCopyWarning: \n",
      "A value is trying to be set on a copy of a slice from a DataFrame.\n",
      "Try using .loc[row_indexer,col_indexer] = value instead\n",
      "\n",
      "See the caveats in the documentation: https://pandas.pydata.org/pandas-docs/stable/user_guide/indexing.html#returning-a-view-versus-a-copy\n",
      "  test1['genderRLOG'] = np.log(test1['genderR'])\n"
     ]
    }
   ],
   "source": [
    "test1['genderRLOG'] = np.log(test1['genderR'])"
   ]
  },
  {
   "cell_type": "code",
   "execution_count": 153,
   "id": "e874f06d-0e35-4a89-b614-489d806c1197",
   "metadata": {},
   "outputs": [
    {
     "data": {
      "text/html": [
       "<div>\n",
       "<style scoped>\n",
       "    .dataframe tbody tr th:only-of-type {\n",
       "        vertical-align: middle;\n",
       "    }\n",
       "\n",
       "    .dataframe tbody tr th {\n",
       "        vertical-align: top;\n",
       "    }\n",
       "\n",
       "    .dataframe thead th {\n",
       "        text-align: right;\n",
       "    }\n",
       "</style>\n",
       "<table border=\"1\" class=\"dataframe\">\n",
       "  <thead>\n",
       "    <tr style=\"text-align: right;\">\n",
       "      <th></th>\n",
       "      <th>amt</th>\n",
       "      <th>genderR</th>\n",
       "      <th>stateR</th>\n",
       "      <th>age</th>\n",
       "      <th>amtSQRT</th>\n",
       "      <th>amtLOG</th>\n",
       "      <th>genderRSQRT</th>\n",
       "      <th>genderRLOG</th>\n",
       "    </tr>\n",
       "  </thead>\n",
       "  <tbody>\n",
       "    <tr>\n",
       "      <th>0</th>\n",
       "      <td>4.97</td>\n",
       "      <td>0</td>\n",
       "      <td>20</td>\n",
       "      <td>35</td>\n",
       "      <td>2.229350</td>\n",
       "      <td>1.603420</td>\n",
       "      <td>0.0</td>\n",
       "      <td>-inf</td>\n",
       "    </tr>\n",
       "    <tr>\n",
       "      <th>1</th>\n",
       "      <td>107.23</td>\n",
       "      <td>0</td>\n",
       "      <td>15</td>\n",
       "      <td>45</td>\n",
       "      <td>10.355192</td>\n",
       "      <td>4.674976</td>\n",
       "      <td>0.0</td>\n",
       "      <td>-inf</td>\n",
       "    </tr>\n",
       "    <tr>\n",
       "      <th>2</th>\n",
       "      <td>220.11</td>\n",
       "      <td>1</td>\n",
       "      <td>41</td>\n",
       "      <td>61</td>\n",
       "      <td>14.836105</td>\n",
       "      <td>5.394127</td>\n",
       "      <td>1.0</td>\n",
       "      <td>0.0</td>\n",
       "    </tr>\n",
       "    <tr>\n",
       "      <th>3</th>\n",
       "      <td>45.00</td>\n",
       "      <td>1</td>\n",
       "      <td>26</td>\n",
       "      <td>56</td>\n",
       "      <td>6.708204</td>\n",
       "      <td>3.806662</td>\n",
       "      <td>1.0</td>\n",
       "      <td>0.0</td>\n",
       "    </tr>\n",
       "    <tr>\n",
       "      <th>4</th>\n",
       "      <td>41.96</td>\n",
       "      <td>1</td>\n",
       "      <td>7</td>\n",
       "      <td>37</td>\n",
       "      <td>6.477654</td>\n",
       "      <td>3.736717</td>\n",
       "      <td>1.0</td>\n",
       "      <td>0.0</td>\n",
       "    </tr>\n",
       "  </tbody>\n",
       "</table>\n",
       "</div>"
      ],
      "text/plain": [
       "      amt  genderR  stateR  age    amtSQRT    amtLOG  genderRSQRT  genderRLOG\n",
       "0    4.97        0      20   35   2.229350  1.603420          0.0        -inf\n",
       "1  107.23        0      15   45  10.355192  4.674976          0.0        -inf\n",
       "2  220.11        1      41   61  14.836105  5.394127          1.0         0.0\n",
       "3   45.00        1      26   56   6.708204  3.806662          1.0         0.0\n",
       "4   41.96        1       7   37   6.477654  3.736717          1.0         0.0"
      ]
     },
     "execution_count": 153,
     "metadata": {},
     "output_type": "execute_result"
    }
   ],
   "source": [
    "test1.head()"
   ]
  },
  {
   "cell_type": "code",
   "execution_count": 154,
   "id": "9379f27c-5f24-4dc6-a87a-07c5db46edac",
   "metadata": {},
   "outputs": [
    {
     "data": {
      "text/plain": [
       "<seaborn.axisgrid.FacetGrid at 0x23a05e289d0>"
      ]
     },
     "execution_count": 154,
     "metadata": {},
     "output_type": "execute_result"
    },
    {
     "data": {
      "image/png": "[encoded data removed]",
      "text/plain": [
       "<Figure size 360x360 with 1 Axes>"
      ]
     },
     "metadata": {
      "needs_background": "light"
     },
     "output_type": "display_data"
    }
   ],
   "source": [
    "sns.displot(test1['genderRLOG'])"
   ]
  },
  {
   "cell_type": "code",
   "execution_count": 155,
   "id": "49425280-8438-4065-be14-db5000e93fc5",
   "metadata": {},
   "outputs": [],
   "source": [
    "#Homogeneity of Variance"
   ]
  },
  {
   "cell_type": "code",
   "execution_count": 156,
   "id": "a38e304d-1078-496e-9ec5-e4fc5b26202a",
   "metadata": {},
   "outputs": [
    {
     "data": {
      "text/plain": [
       "BartlettResult(statistic=nan, pvalue=nan)"
      ]
     },
     "execution_count": 156,
     "metadata": {},
     "output_type": "execute_result"
    }
   ],
   "source": [
    "scipy.stats.bartlett(test1['genderRLOG'], test1['genderR'])"
   ]
  },
  {
   "cell_type": "code",
   "execution_count": 157,
   "id": "37468f0c-88fc-49b6-a50d-0c3ac53b7518",
   "metadata": {},
   "outputs": [],
   "source": [
    "#Fligners test"
   ]
  },
  {
   "cell_type": "code",
   "execution_count": 158,
   "id": "42bb66d3-b47f-4bdd-b72c-1351115e8deb",
   "metadata": {},
   "outputs": [
    {
     "data": {
      "text/plain": [
       "FlignerResult(statistic=1.398312892123436e-29, pvalue=0.999999999999997)"
      ]
     },
     "execution_count": 158,
     "metadata": {},
     "output_type": "execute_result"
    }
   ],
   "source": [
    "scipy.stats.fligner(test1['genderRSQRT'], test1['genderR'])"
   ]
  },
  {
   "cell_type": "code",
   "execution_count": 159,
   "id": "c1e9eea6-8aac-43ee-859e-5b30b97251c7",
   "metadata": {},
   "outputs": [],
   "source": [
    "#ANOVA for state"
   ]
  },
  {
   "cell_type": "code",
   "execution_count": 160,
   "id": "1afd02ad-bbbc-4fa5-9fd9-1ac2cbcb4f94",
   "metadata": {},
   "outputs": [
    {
     "name": "stderr",
     "output_type": "stream",
     "text": [
      "C:\\Python3\\lib\\site-packages\\seaborn\\distributions.py:2619: FutureWarning: `distplot` is a deprecated function and will be removed in a future version. Please adapt your code to use either `displot` (a figure-level function with similar flexibility) or `histplot` (an axes-level function for histograms).\n",
      "  warnings.warn(msg, FutureWarning)\n"
     ]
    },
    {
     "data": {
      "text/plain": [
       "<AxesSubplot:xlabel='stateR', ylabel='Density'>"
      ]
     },
     "execution_count": 160,
     "metadata": {},
     "output_type": "execute_result"
    },
    {
     "data": {
      "image/png": "[encoded data removed]",
      "text/plain": [
       "<Figure size 432x288 with 1 Axes>"
      ]
     },
     "metadata": {
      "needs_background": "light"
     },
     "output_type": "display_data"
    }
   ],
   "source": [
    "sns.distplot(test1['stateR'])"
   ]
  },
  {
   "cell_type": "code",
   "execution_count": 161,
   "id": "537aff59-d82b-4a75-82f6-f61f5d8ca609",
   "metadata": {},
   "outputs": [
    {
     "name": "stderr",
     "output_type": "stream",
     "text": [
      "C:\\Users\\USER\\AppData\\Local\\Temp\\ipykernel_9620\\2576373613.py:1: SettingWithCopyWarning: \n",
      "A value is trying to be set on a copy of a slice from a DataFrame.\n",
      "Try using .loc[row_indexer,col_indexer] = value instead\n",
      "\n",
      "See the caveats in the documentation: https://pandas.pydata.org/pandas-docs/stable/user_guide/indexing.html#returning-a-view-versus-a-copy\n",
      "  test1['stateSQRT'] = np.sqrt(test1['stateR'])\n"
     ]
    }
   ],
   "source": [
    "test1['stateSQRT'] = np.sqrt(test1['stateR'])"
   ]
  },
  {
   "cell_type": "code",
   "execution_count": 162,
   "id": "a8556089-a271-447e-96ad-039caf9e9ab8",
   "metadata": {},
   "outputs": [
    {
     "data": {
      "text/html": [
       "<div>\n",
       "<style scoped>\n",
       "    .dataframe tbody tr th:only-of-type {\n",
       "        vertical-align: middle;\n",
       "    }\n",
       "\n",
       "    .dataframe tbody tr th {\n",
       "        vertical-align: top;\n",
       "    }\n",
       "\n",
       "    .dataframe thead th {\n",
       "        text-align: right;\n",
       "    }\n",
       "</style>\n",
       "<table border=\"1\" class=\"dataframe\">\n",
       "  <thead>\n",
       "    <tr style=\"text-align: right;\">\n",
       "      <th></th>\n",
       "      <th>amt</th>\n",
       "      <th>genderR</th>\n",
       "      <th>stateR</th>\n",
       "      <th>age</th>\n",
       "      <th>amtSQRT</th>\n",
       "      <th>amtLOG</th>\n",
       "      <th>genderRSQRT</th>\n",
       "      <th>genderRLOG</th>\n",
       "      <th>stateSQRT</th>\n",
       "    </tr>\n",
       "  </thead>\n",
       "  <tbody>\n",
       "    <tr>\n",
       "      <th>0</th>\n",
       "      <td>4.97</td>\n",
       "      <td>0</td>\n",
       "      <td>20</td>\n",
       "      <td>35</td>\n",
       "      <td>2.229350</td>\n",
       "      <td>1.603420</td>\n",
       "      <td>0.0</td>\n",
       "      <td>-inf</td>\n",
       "      <td>4.472136</td>\n",
       "    </tr>\n",
       "    <tr>\n",
       "      <th>1</th>\n",
       "      <td>107.23</td>\n",
       "      <td>0</td>\n",
       "      <td>15</td>\n",
       "      <td>45</td>\n",
       "      <td>10.355192</td>\n",
       "      <td>4.674976</td>\n",
       "      <td>0.0</td>\n",
       "      <td>-inf</td>\n",
       "      <td>3.872983</td>\n",
       "    </tr>\n",
       "    <tr>\n",
       "      <th>2</th>\n",
       "      <td>220.11</td>\n",
       "      <td>1</td>\n",
       "      <td>41</td>\n",
       "      <td>61</td>\n",
       "      <td>14.836105</td>\n",
       "      <td>5.394127</td>\n",
       "      <td>1.0</td>\n",
       "      <td>0.0</td>\n",
       "      <td>6.403124</td>\n",
       "    </tr>\n",
       "    <tr>\n",
       "      <th>3</th>\n",
       "      <td>45.00</td>\n",
       "      <td>1</td>\n",
       "      <td>26</td>\n",
       "      <td>56</td>\n",
       "      <td>6.708204</td>\n",
       "      <td>3.806662</td>\n",
       "      <td>1.0</td>\n",
       "      <td>0.0</td>\n",
       "      <td>5.099020</td>\n",
       "    </tr>\n",
       "    <tr>\n",
       "      <th>4</th>\n",
       "      <td>41.96</td>\n",
       "      <td>1</td>\n",
       "      <td>7</td>\n",
       "      <td>37</td>\n",
       "      <td>6.477654</td>\n",
       "      <td>3.736717</td>\n",
       "      <td>1.0</td>\n",
       "      <td>0.0</td>\n",
       "      <td>2.645751</td>\n",
       "    </tr>\n",
       "  </tbody>\n",
       "</table>\n",
       "</div>"
      ],
      "text/plain": [
       "      amt  genderR  stateR  age    amtSQRT    amtLOG  genderRSQRT  genderRLOG  \\\n",
       "0    4.97        0      20   35   2.229350  1.603420          0.0        -inf   \n",
       "1  107.23        0      15   45  10.355192  4.674976          0.0        -inf   \n",
       "2  220.11        1      41   61  14.836105  5.394127          1.0         0.0   \n",
       "3   45.00        1      26   56   6.708204  3.806662          1.0         0.0   \n",
       "4   41.96        1       7   37   6.477654  3.736717          1.0         0.0   \n",
       "\n",
       "   stateSQRT  \n",
       "0   4.472136  \n",
       "1   3.872983  \n",
       "2   6.403124  \n",
       "3   5.099020  \n",
       "4   2.645751  "
      ]
     },
     "execution_count": 162,
     "metadata": {},
     "output_type": "execute_result"
    }
   ],
   "source": [
    "test1.head()"
   ]
  },
  {
   "cell_type": "code",
   "execution_count": 164,
   "id": "9bbce64e-bc08-49ef-83e4-004b2e343040",
   "metadata": {},
   "outputs": [
    {
     "name": "stderr",
     "output_type": "stream",
     "text": [
      "C:\\Python3\\lib\\site-packages\\seaborn\\distributions.py:2619: FutureWarning: `distplot` is a deprecated function and will be removed in a future version. Please adapt your code to use either `displot` (a figure-level function with similar flexibility) or `histplot` (an axes-level function for histograms).\n",
      "  warnings.warn(msg, FutureWarning)\n"
     ]
    },
    {
     "data": {
      "text/plain": [
       "<AxesSubplot:xlabel='stateSQRT', ylabel='Density'>"
      ]
     },
     "execution_count": 164,
     "metadata": {},
     "output_type": "execute_result"
    },
    {
     "data": {
      "image/png": "[encoded data removed]",
      "text/plain": [
       "<Figure size 432x288 with 1 Axes>"
      ]
     },
     "metadata": {
      "needs_background": "light"
     },
     "output_type": "display_data"
    }
   ],
   "source": [
    "sns.distplot(test1['stateSQRT'])"
   ]
  },
  {
   "cell_type": "code",
   "execution_count": 165,
   "id": "9e8541da-7fd5-4fd7-b68d-5a5857e4f49a",
   "metadata": {},
   "outputs": [
    {
     "name": "stderr",
     "output_type": "stream",
     "text": [
      "C:\\Python3\\lib\\site-packages\\pandas\\core\\arraylike.py:397: RuntimeWarning: divide by zero encountered in log\n",
      "  result = getattr(ufunc, method)(*inputs, **kwargs)\n",
      "C:\\Users\\USER\\AppData\\Local\\Temp\\ipykernel_9620\\3558112486.py:1: SettingWithCopyWarning: \n",
      "A value is trying to be set on a copy of a slice from a DataFrame.\n",
      "Try using .loc[row_indexer,col_indexer] = value instead\n",
      "\n",
      "See the caveats in the documentation: https://pandas.pydata.org/pandas-docs/stable/user_guide/indexing.html#returning-a-view-versus-a-copy\n",
      "  test1['stateRLOG'] = np.log(test1['stateR'])\n"
     ]
    }
   ],
   "source": [
    "test1['stateRLOG'] = np.log(test1['stateR'])"
   ]
  },
  {
   "cell_type": "code",
   "execution_count": 166,
   "id": "d304e392-0d0d-4bb3-be8a-117595bf1ddf",
   "metadata": {},
   "outputs": [
    {
     "data": {
      "text/html": [
       "<div>\n",
       "<style scoped>\n",
       "    .dataframe tbody tr th:only-of-type {\n",
       "        vertical-align: middle;\n",
       "    }\n",
       "\n",
       "    .dataframe tbody tr th {\n",
       "        vertical-align: top;\n",
       "    }\n",
       "\n",
       "    .dataframe thead th {\n",
       "        text-align: right;\n",
       "    }\n",
       "</style>\n",
       "<table border=\"1\" class=\"dataframe\">\n",
       "  <thead>\n",
       "    <tr style=\"text-align: right;\">\n",
       "      <th></th>\n",
       "      <th>amt</th>\n",
       "      <th>genderR</th>\n",
       "      <th>stateR</th>\n",
       "      <th>age</th>\n",
       "      <th>amtSQRT</th>\n",
       "      <th>amtLOG</th>\n",
       "      <th>genderRSQRT</th>\n",
       "      <th>genderRLOG</th>\n",
       "      <th>stateSQRT</th>\n",
       "      <th>stateRLOG</th>\n",
       "    </tr>\n",
       "  </thead>\n",
       "  <tbody>\n",
       "    <tr>\n",
       "      <th>0</th>\n",
       "      <td>4.97</td>\n",
       "      <td>0</td>\n",
       "      <td>20</td>\n",
       "      <td>35</td>\n",
       "      <td>2.229350</td>\n",
       "      <td>1.603420</td>\n",
       "      <td>0.0</td>\n",
       "      <td>-inf</td>\n",
       "      <td>4.472136</td>\n",
       "      <td>2.995732</td>\n",
       "    </tr>\n",
       "    <tr>\n",
       "      <th>1</th>\n",
       "      <td>107.23</td>\n",
       "      <td>0</td>\n",
       "      <td>15</td>\n",
       "      <td>45</td>\n",
       "      <td>10.355192</td>\n",
       "      <td>4.674976</td>\n",
       "      <td>0.0</td>\n",
       "      <td>-inf</td>\n",
       "      <td>3.872983</td>\n",
       "      <td>2.708050</td>\n",
       "    </tr>\n",
       "    <tr>\n",
       "      <th>2</th>\n",
       "      <td>220.11</td>\n",
       "      <td>1</td>\n",
       "      <td>41</td>\n",
       "      <td>61</td>\n",
       "      <td>14.836105</td>\n",
       "      <td>5.394127</td>\n",
       "      <td>1.0</td>\n",
       "      <td>0.0</td>\n",
       "      <td>6.403124</td>\n",
       "      <td>3.713572</td>\n",
       "    </tr>\n",
       "    <tr>\n",
       "      <th>3</th>\n",
       "      <td>45.00</td>\n",
       "      <td>1</td>\n",
       "      <td>26</td>\n",
       "      <td>56</td>\n",
       "      <td>6.708204</td>\n",
       "      <td>3.806662</td>\n",
       "      <td>1.0</td>\n",
       "      <td>0.0</td>\n",
       "      <td>5.099020</td>\n",
       "      <td>3.258097</td>\n",
       "    </tr>\n",
       "    <tr>\n",
       "      <th>4</th>\n",
       "      <td>41.96</td>\n",
       "      <td>1</td>\n",
       "      <td>7</td>\n",
       "      <td>37</td>\n",
       "      <td>6.477654</td>\n",
       "      <td>3.736717</td>\n",
       "      <td>1.0</td>\n",
       "      <td>0.0</td>\n",
       "      <td>2.645751</td>\n",
       "      <td>1.945910</td>\n",
       "    </tr>\n",
       "  </tbody>\n",
       "</table>\n",
       "</div>"
      ],
      "text/plain": [
       "      amt  genderR  stateR  age    amtSQRT    amtLOG  genderRSQRT  genderRLOG  \\\n",
       "0    4.97        0      20   35   2.229350  1.603420          0.0        -inf   \n",
       "1  107.23        0      15   45  10.355192  4.674976          0.0        -inf   \n",
       "2  220.11        1      41   61  14.836105  5.394127          1.0         0.0   \n",
       "3   45.00        1      26   56   6.708204  3.806662          1.0         0.0   \n",
       "4   41.96        1       7   37   6.477654  3.736717          1.0         0.0   \n",
       "\n",
       "   stateSQRT  stateRLOG  \n",
       "0   4.472136   2.995732  \n",
       "1   3.872983   2.708050  \n",
       "2   6.403124   3.713572  \n",
       "3   5.099020   3.258097  \n",
       "4   2.645751   1.945910  "
      ]
     },
     "execution_count": 166,
     "metadata": {},
     "output_type": "execute_result"
    }
   ],
   "source": [
    "test1.head()"
   ]
  },
  {
   "cell_type": "code",
   "execution_count": 167,
   "id": "2773c69b-76f8-4720-b7e5-4dac84cde824",
   "metadata": {},
   "outputs": [
    {
     "data": {
      "text/plain": [
       "<seaborn.axisgrid.FacetGrid at 0x23a05f40940>"
      ]
     },
     "execution_count": 167,
     "metadata": {},
     "output_type": "execute_result"
    },
    {
     "data": {
      "image/png": "[encoded data removed]",
      "text/plain": [
       "<Figure size 360x360 with 1 Axes>"
      ]
     },
     "metadata": {
      "needs_background": "light"
     },
     "output_type": "display_data"
    }
   ],
   "source": [
    "sns.displot(test1['stateRLOG'])"
   ]
  },
  {
   "cell_type": "code",
   "execution_count": 168,
   "id": "8616100b-556e-495f-b77e-c23639deeca0",
   "metadata": {},
   "outputs": [],
   "source": [
    "#Homogeneity of Variance"
   ]
  },
  {
   "cell_type": "code",
   "execution_count": 169,
   "id": "927b0afe-6093-47c9-b382-ed82432701f5",
   "metadata": {},
   "outputs": [
    {
     "data": {
      "text/plain": [
       "BartlettResult(statistic=nan, pvalue=nan)"
      ]
     },
     "execution_count": 169,
     "metadata": {},
     "output_type": "execute_result"
    }
   ],
   "source": [
    "scipy.stats.bartlett(test1['stateRLOG'], test1['stateR'])"
   ]
  },
  {
   "cell_type": "code",
   "execution_count": 170,
   "id": "c5933c10-91ae-473f-bf62-7cb03aebaf4e",
   "metadata": {},
   "outputs": [],
   "source": [
    "#Fligners test"
   ]
  },
  {
   "cell_type": "code",
   "execution_count": 171,
   "id": "b2c754c5-8d12-4352-99c5-b0392abf7122",
   "metadata": {},
   "outputs": [
    {
     "data": {
      "text/plain": [
       "FlignerResult(statistic=93.00196006327977, pvalue=5.224257574596894e-22)"
      ]
     },
     "execution_count": 171,
     "metadata": {},
     "output_type": "execute_result"
    }
   ],
   "source": [
    "scipy.stats.fligner(test1['stateSQRT'], test1['stateR'])"
   ]
  },
  {
   "cell_type": "code",
   "execution_count": 172,
   "id": "ce33a024-65ad-491c-9952-ef6e687587bc",
   "metadata": {},
   "outputs": [],
   "source": [
    "#ANOVA for age"
   ]
  },
  {
   "cell_type": "code",
   "execution_count": 173,
   "id": "7d0e002c-9a96-4be5-b751-cb3ffcd3b5e2",
   "metadata": {},
   "outputs": [
    {
     "name": "stderr",
     "output_type": "stream",
     "text": [
      "C:\\Python3\\lib\\site-packages\\seaborn\\distributions.py:2619: FutureWarning: `distplot` is a deprecated function and will be removed in a future version. Please adapt your code to use either `displot` (a figure-level function with similar flexibility) or `histplot` (an axes-level function for histograms).\n",
      "  warnings.warn(msg, FutureWarning)\n"
     ]
    },
    {
     "data": {
      "text/plain": [
       "<AxesSubplot:xlabel='age', ylabel='Density'>"
      ]
     },
     "execution_count": 173,
     "metadata": {},
     "output_type": "execute_result"
    },
    {
     "data": {
      "image/png": "[encoded data removed]",
      "text/plain": [
       "<Figure size 432x288 with 1 Axes>"
      ]
     },
     "metadata": {
      "needs_background": "light"
     },
     "output_type": "display_data"
    }
   ],
   "source": [
    "sns.distplot(test1['age'])"
   ]
  },
  {
   "cell_type": "code",
   "execution_count": 175,
   "id": "c96047d1-c2ec-442d-8557-3015e0d88b10",
   "metadata": {},
   "outputs": [
    {
     "name": "stderr",
     "output_type": "stream",
     "text": [
      "C:\\Users\\USER\\AppData\\Local\\Temp\\ipykernel_9620\\3453685551.py:1: SettingWithCopyWarning: \n",
      "A value is trying to be set on a copy of a slice from a DataFrame.\n",
      "Try using .loc[row_indexer,col_indexer] = value instead\n",
      "\n",
      "See the caveats in the documentation: https://pandas.pydata.org/pandas-docs/stable/user_guide/indexing.html#returning-a-view-versus-a-copy\n",
      "  test1['ageSQRT'] = np.sqrt(test1['age'])\n"
     ]
    }
   ],
   "source": [
    "test1['ageSQRT'] = np.sqrt(test1['age'])"
   ]
  },
  {
   "cell_type": "code",
   "execution_count": 176,
   "id": "4cf41d4d-6c8b-44df-8933-60ee73c0ac32",
   "metadata": {},
   "outputs": [
    {
     "data": {
      "text/html": [
       "<div>\n",
       "<style scoped>\n",
       "    .dataframe tbody tr th:only-of-type {\n",
       "        vertical-align: middle;\n",
       "    }\n",
       "\n",
       "    .dataframe tbody tr th {\n",
       "        vertical-align: top;\n",
       "    }\n",
       "\n",
       "    .dataframe thead th {\n",
       "        text-align: right;\n",
       "    }\n",
       "</style>\n",
       "<table border=\"1\" class=\"dataframe\">\n",
       "  <thead>\n",
       "    <tr style=\"text-align: right;\">\n",
       "      <th></th>\n",
       "      <th>amt</th>\n",
       "      <th>genderR</th>\n",
       "      <th>stateR</th>\n",
       "      <th>age</th>\n",
       "      <th>amtSQRT</th>\n",
       "      <th>amtLOG</th>\n",
       "      <th>genderRSQRT</th>\n",
       "      <th>genderRLOG</th>\n",
       "      <th>stateSQRT</th>\n",
       "      <th>stateRLOG</th>\n",
       "      <th>ageSQRT</th>\n",
       "    </tr>\n",
       "  </thead>\n",
       "  <tbody>\n",
       "    <tr>\n",
       "      <th>0</th>\n",
       "      <td>4.97</td>\n",
       "      <td>0</td>\n",
       "      <td>20</td>\n",
       "      <td>35</td>\n",
       "      <td>2.229350</td>\n",
       "      <td>1.603420</td>\n",
       "      <td>0.0</td>\n",
       "      <td>-inf</td>\n",
       "      <td>4.472136</td>\n",
       "      <td>2.995732</td>\n",
       "      <td>5.916080</td>\n",
       "    </tr>\n",
       "    <tr>\n",
       "      <th>1</th>\n",
       "      <td>107.23</td>\n",
       "      <td>0</td>\n",
       "      <td>15</td>\n",
       "      <td>45</td>\n",
       "      <td>10.355192</td>\n",
       "      <td>4.674976</td>\n",
       "      <td>0.0</td>\n",
       "      <td>-inf</td>\n",
       "      <td>3.872983</td>\n",
       "      <td>2.708050</td>\n",
       "      <td>6.708204</td>\n",
       "    </tr>\n",
       "    <tr>\n",
       "      <th>2</th>\n",
       "      <td>220.11</td>\n",
       "      <td>1</td>\n",
       "      <td>41</td>\n",
       "      <td>61</td>\n",
       "      <td>14.836105</td>\n",
       "      <td>5.394127</td>\n",
       "      <td>1.0</td>\n",
       "      <td>0.0</td>\n",
       "      <td>6.403124</td>\n",
       "      <td>3.713572</td>\n",
       "      <td>7.810250</td>\n",
       "    </tr>\n",
       "    <tr>\n",
       "      <th>3</th>\n",
       "      <td>45.00</td>\n",
       "      <td>1</td>\n",
       "      <td>26</td>\n",
       "      <td>56</td>\n",
       "      <td>6.708204</td>\n",
       "      <td>3.806662</td>\n",
       "      <td>1.0</td>\n",
       "      <td>0.0</td>\n",
       "      <td>5.099020</td>\n",
       "      <td>3.258097</td>\n",
       "      <td>7.483315</td>\n",
       "    </tr>\n",
       "    <tr>\n",
       "      <th>4</th>\n",
       "      <td>41.96</td>\n",
       "      <td>1</td>\n",
       "      <td>7</td>\n",
       "      <td>37</td>\n",
       "      <td>6.477654</td>\n",
       "      <td>3.736717</td>\n",
       "      <td>1.0</td>\n",
       "      <td>0.0</td>\n",
       "      <td>2.645751</td>\n",
       "      <td>1.945910</td>\n",
       "      <td>6.082763</td>\n",
       "    </tr>\n",
       "  </tbody>\n",
       "</table>\n",
       "</div>"
      ],
      "text/plain": [
       "      amt  genderR  stateR  age    amtSQRT    amtLOG  genderRSQRT  genderRLOG  \\\n",
       "0    4.97        0      20   35   2.229350  1.603420          0.0        -inf   \n",
       "1  107.23        0      15   45  10.355192  4.674976          0.0        -inf   \n",
       "2  220.11        1      41   61  14.836105  5.394127          1.0         0.0   \n",
       "3   45.00        1      26   56   6.708204  3.806662          1.0         0.0   \n",
       "4   41.96        1       7   37   6.477654  3.736717          1.0         0.0   \n",
       "\n",
       "   stateSQRT  stateRLOG   ageSQRT  \n",
       "0   4.472136   2.995732  5.916080  \n",
       "1   3.872983   2.708050  6.708204  \n",
       "2   6.403124   3.713572  7.810250  \n",
       "3   5.099020   3.258097  7.483315  \n",
       "4   2.645751   1.945910  6.082763  "
      ]
     },
     "execution_count": 176,
     "metadata": {},
     "output_type": "execute_result"
    }
   ],
   "source": [
    "test1.head()"
   ]
  },
  {
   "cell_type": "code",
   "execution_count": 177,
   "id": "a48e4ca7-eb02-4f77-ad8e-78fc2a524950",
   "metadata": {},
   "outputs": [
    {
     "name": "stderr",
     "output_type": "stream",
     "text": [
      "C:\\Python3\\lib\\site-packages\\seaborn\\distributions.py:2619: FutureWarning: `distplot` is a deprecated function and will be removed in a future version. Please adapt your code to use either `displot` (a figure-level function with similar flexibility) or `histplot` (an axes-level function for histograms).\n",
      "  warnings.warn(msg, FutureWarning)\n"
     ]
    },
    {
     "data": {
      "text/plain": [
       "<AxesSubplot:xlabel='ageSQRT', ylabel='Density'>"
      ]
     },
     "execution_count": 177,
     "metadata": {},
     "output_type": "execute_result"
    },
    {
     "data": {
      "image/png": "[encoded data removed]",
      "text/plain": [
       "<Figure size 432x288 with 1 Axes>"
      ]
     },
     "metadata": {
      "needs_background": "light"
     },
     "output_type": "display_data"
    }
   ],
   "source": [
    "sns.distplot(test1['ageSQRT'])"
   ]
  },
  {
   "cell_type": "code",
   "execution_count": 178,
   "id": "bbdbbe36-3c89-473b-b22d-e9be636e6143",
   "metadata": {},
   "outputs": [],
   "source": [
    "test1['ageLOG'] = np.log(test1['age'])"
   ]
  },
  {
   "cell_type": "code",
   "execution_count": 179,
   "id": "b8780f10-a1fd-45e8-b6f4-ca4c6bf19e1b",
   "metadata": {},
   "outputs": [
    {
     "data": {
      "text/html": [
       "<div>\n",
       "<style scoped>\n",
       "    .dataframe tbody tr th:only-of-type {\n",
       "        vertical-align: middle;\n",
       "    }\n",
       "\n",
       "    .dataframe tbody tr th {\n",
       "        vertical-align: top;\n",
       "    }\n",
       "\n",
       "    .dataframe thead th {\n",
       "        text-align: right;\n",
       "    }\n",
       "</style>\n",
       "<table border=\"1\" class=\"dataframe\">\n",
       "  <thead>\n",
       "    <tr style=\"text-align: right;\">\n",
       "      <th></th>\n",
       "      <th>amt</th>\n",
       "      <th>genderR</th>\n",
       "      <th>stateR</th>\n",
       "      <th>age</th>\n",
       "      <th>amtSQRT</th>\n",
       "      <th>amtLOG</th>\n",
       "      <th>genderRSQRT</th>\n",
       "      <th>genderRLOG</th>\n",
       "      <th>stateSQRT</th>\n",
       "      <th>stateRLOG</th>\n",
       "      <th>ageSQRT</th>\n",
       "      <th>ageLOG</th>\n",
       "    </tr>\n",
       "  </thead>\n",
       "  <tbody>\n",
       "    <tr>\n",
       "      <th>0</th>\n",
       "      <td>4.97</td>\n",
       "      <td>0</td>\n",
       "      <td>20</td>\n",
       "      <td>35</td>\n",
       "      <td>2.229350</td>\n",
       "      <td>1.603420</td>\n",
       "      <td>0.0</td>\n",
       "      <td>-inf</td>\n",
       "      <td>4.472136</td>\n",
       "      <td>2.995732</td>\n",
       "      <td>5.916080</td>\n",
       "      <td>3.555348</td>\n",
       "    </tr>\n",
       "    <tr>\n",
       "      <th>1</th>\n",
       "      <td>107.23</td>\n",
       "      <td>0</td>\n",
       "      <td>15</td>\n",
       "      <td>45</td>\n",
       "      <td>10.355192</td>\n",
       "      <td>4.674976</td>\n",
       "      <td>0.0</td>\n",
       "      <td>-inf</td>\n",
       "      <td>3.872983</td>\n",
       "      <td>2.708050</td>\n",
       "      <td>6.708204</td>\n",
       "      <td>3.806662</td>\n",
       "    </tr>\n",
       "    <tr>\n",
       "      <th>2</th>\n",
       "      <td>220.11</td>\n",
       "      <td>1</td>\n",
       "      <td>41</td>\n",
       "      <td>61</td>\n",
       "      <td>14.836105</td>\n",
       "      <td>5.394127</td>\n",
       "      <td>1.0</td>\n",
       "      <td>0.0</td>\n",
       "      <td>6.403124</td>\n",
       "      <td>3.713572</td>\n",
       "      <td>7.810250</td>\n",
       "      <td>4.110874</td>\n",
       "    </tr>\n",
       "    <tr>\n",
       "      <th>3</th>\n",
       "      <td>45.00</td>\n",
       "      <td>1</td>\n",
       "      <td>26</td>\n",
       "      <td>56</td>\n",
       "      <td>6.708204</td>\n",
       "      <td>3.806662</td>\n",
       "      <td>1.0</td>\n",
       "      <td>0.0</td>\n",
       "      <td>5.099020</td>\n",
       "      <td>3.258097</td>\n",
       "      <td>7.483315</td>\n",
       "      <td>4.025352</td>\n",
       "    </tr>\n",
       "    <tr>\n",
       "      <th>4</th>\n",
       "      <td>41.96</td>\n",
       "      <td>1</td>\n",
       "      <td>7</td>\n",
       "      <td>37</td>\n",
       "      <td>6.477654</td>\n",
       "      <td>3.736717</td>\n",
       "      <td>1.0</td>\n",
       "      <td>0.0</td>\n",
       "      <td>2.645751</td>\n",
       "      <td>1.945910</td>\n",
       "      <td>6.082763</td>\n",
       "      <td>3.610918</td>\n",
       "    </tr>\n",
       "  </tbody>\n",
       "</table>\n",
       "</div>"
      ],
      "text/plain": [
       "      amt  genderR  stateR  age    amtSQRT    amtLOG  genderRSQRT  genderRLOG  \\\n",
       "0    4.97        0      20   35   2.229350  1.603420          0.0        -inf   \n",
       "1  107.23        0      15   45  10.355192  4.674976          0.0        -inf   \n",
       "2  220.11        1      41   61  14.836105  5.394127          1.0         0.0   \n",
       "3   45.00        1      26   56   6.708204  3.806662          1.0         0.0   \n",
       "4   41.96        1       7   37   6.477654  3.736717          1.0         0.0   \n",
       "\n",
       "   stateSQRT  stateRLOG   ageSQRT    ageLOG  \n",
       "0   4.472136   2.995732  5.916080  3.555348  \n",
       "1   3.872983   2.708050  6.708204  3.806662  \n",
       "2   6.403124   3.713572  7.810250  4.110874  \n",
       "3   5.099020   3.258097  7.483315  4.025352  \n",
       "4   2.645751   1.945910  6.082763  3.610918  "
      ]
     },
     "execution_count": 179,
     "metadata": {},
     "output_type": "execute_result"
    }
   ],
   "source": [
    "test1.head()"
   ]
  },
  {
   "cell_type": "code",
   "execution_count": 180,
   "id": "4e8c6ad5-ad06-4981-ace8-af8e555c6851",
   "metadata": {},
   "outputs": [
    {
     "data": {
      "text/plain": [
       "<seaborn.axisgrid.FacetGrid at 0x23a060c3760>"
      ]
     },
     "execution_count": 180,
     "metadata": {},
     "output_type": "execute_result"
    },
    {
     "data": {
      "image/png": "[encoded data removed]",
      "text/plain": [
       "<Figure size 360x360 with 1 Axes>"
      ]
     },
     "metadata": {
      "needs_background": "light"
     },
     "output_type": "display_data"
    }
   ],
   "source": [
    "sns.displot(test1['ageLOG'])"
   ]
  },
  {
   "cell_type": "code",
   "execution_count": 181,
   "id": "aa8db76f-ad46-454a-a52d-57d943c0ed25",
   "metadata": {},
   "outputs": [],
   "source": [
    "#Homogeneity of Variance"
   ]
  },
  {
   "cell_type": "code",
   "execution_count": 182,
   "id": "2866b424-b3d1-418c-bb6c-9fdd4366ec3e",
   "metadata": {},
   "outputs": [
    {
     "data": {
      "text/plain": [
       "BartlettResult(statistic=638.1672130955013, pvalue=8.366529365044801e-141)"
      ]
     },
     "execution_count": 182,
     "metadata": {},
     "output_type": "execute_result"
    }
   ],
   "source": [
    "scipy.stats.bartlett(test1['ageLOG'], test1['age'])"
   ]
  },
  {
   "cell_type": "code",
   "execution_count": 183,
   "id": "3c21c293-4f35-4bbd-8bbd-334b6b7df99f",
   "metadata": {},
   "outputs": [],
   "source": [
    "#Fligners test"
   ]
  },
  {
   "cell_type": "code",
   "execution_count": 184,
   "id": "92af102a-46c2-4556-9a25-9f7efd26fe88",
   "metadata": {},
   "outputs": [
    {
     "data": {
      "text/plain": [
       "FlignerResult(statistic=107.97119956933642, pvalue=2.7271236550039227e-25)"
      ]
     },
     "execution_count": 184,
     "metadata": {},
     "output_type": "execute_result"
    }
   ],
   "source": [
    "scipy.stats.fligner(test1['ageSQRT'], test1['age'])"
   ]
  },
  {
   "cell_type": "code",
   "execution_count": null,
   "id": "e666493a-74f6-4df6-9f19-b72f8aa0ad5d",
   "metadata": {},
   "outputs": [],
   "source": []
  }
 ],
 "metadata": {
  "kernelspec": {
   "display_name": "Python 3 (ipykernel)",
   "language": "python",
   "name": "python3"
  },
  "language_info": {
   "codemirror_mode": {
    "name": "ipython",
    "version": 3
   },
   "file_extension": ".py",
   "mimetype": "text/x-python",
   "name": "python",
   "nbconvert_exporter": "python",
   "pygments_lexer": "ipython3",
   "version": "3.10.4"
  }
 },
 "nbformat": 4,
 "nbformat_minor": 5
}
